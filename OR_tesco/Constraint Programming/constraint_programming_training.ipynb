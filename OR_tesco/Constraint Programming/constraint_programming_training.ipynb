{
 "cells": [
  {
   "cell_type": "markdown",
   "metadata": {},
   "source": [
    "# OR-tools for constraint programming\n",
    "\n",
    "Or-tools is medal-winning a constraint solver with wrappers available in many languages, including python. Note that OR-tools have two constraint programming solvers: the CP-SAT solver and the original CP solver. In this training, we use the CP-SAT solver, which is technologically superior to the original CP solver.\n",
    "The following line imports the solver:"
   ]
  },
  {
   "cell_type": "code",
   "execution_count": 1,
   "metadata": {},
   "outputs": [],
   "source": [
    "from ortools.sat.python import cp_model"
   ]
  },
  {
   "cell_type": "markdown",
   "metadata": {},
   "source": [
    "## Basic functionality of OR-tools (creating variables, adding constraints) \n",
    "In this section, we will learn how to create decision variables, and add constraints to a constraint programming model using the following running example:\n",
    "\n",
    "* Variables:\n",
    "    * x &in; [0,10].\n",
    "    * y<sub>0</sub> &in; [-1, 2].\n",
    "    * y<sub>1</sub> &in; [0, 10].\n",
    "    * y<sub>2</sub> &in; [-1, 2] ∪ [4,5].\n",
    "    * y<sub>3</sub> &in; {1,3,8}.\n",
    "* Constraints:\n",
    "    * y<sub>0</sub> + y<sub>1</sub> + y<sub>2</sub> + y<sub>3</sub> = x\n",
    "    * y<sub>0</sub> =\\\\= y<sub>2</sub> \n",
    "    * y<sub>1</sub> = y<sub>3</sub>.\n"
   ]
  },
  {
   "cell_type": "markdown",
   "metadata": {},
   "source": [
    "Creating an empty CP model."
   ]
  },
  {
   "cell_type": "code",
   "execution_count": 2,
   "metadata": {},
   "outputs": [],
   "source": [
    "first_model = cp_model.CpModel()"
   ]
  },
  {
   "cell_type": "markdown",
   "metadata": {},
   "source": [
    "We now create an integer variable with name 'x' and the integer interval domain [x_lower_bound, x_upper_bound], i.e. x can take any integer value from x_lower_bound to x_upper_bound."
   ]
  },
  {
   "cell_type": "code",
   "execution_count": 3,
   "metadata": {},
   "outputs": [],
   "source": [
    "x_lower_bound = 0\n",
    "x_upper_bound = 10\n",
    "x = first_model.NewIntVar(x_lower_bound, x_upper_bound, 'x')"
   ]
  },
  {
   "cell_type": "markdown",
   "metadata": {},
   "source": [
    "The next step is to create four variables y<sub>0</sub>, y<sub>1</sub>, y<sub>2</sub>, y<sub>3</sub> with different domains kept in the list y_domains. The ith element of this list is the domain of the y<sub>i</sub> variable. Pay attenation that we have integer intervals as domains but also a union of two intervals, and just a set of numbers."
   ]
  },
  {
   "cell_type": "code",
   "execution_count": 4,
   "metadata": {},
   "outputs": [],
   "source": [
    "number_of_variables = 4\n",
    "y_0_domain = [-1,2] # domain is the interval [-1,2]\n",
    "y_1_domain = [0,10] # domain is the interval [0,10]\n",
    "y_2_domain = [-1,2,4,5] # domain is the union of the intervals [-1,2] and [4,5]. \n",
    "                        # The interval bounds appear in the list.\n",
    "y_3_domain = [1,1,3,3,8,8] # domain is the union of the intervals [1,1], [3,3], and [8,8].\n",
    "y_domains = [y_0_domain, y_1_domain, y_2_domain, y_3_domain]"
   ]
  },
  {
   "cell_type": "markdown",
   "metadata": {},
   "source": [
    "We create variables y<sub>0</sub>, y<sub>1</sub>, y<sub>2</sub>, y<sub>3</sub> and keep them in the y list. Each variable can be accessed by its index. For example, y<sub>1</sub> can be accessed as y[1]."
   ]
  },
  {
   "cell_type": "code",
   "execution_count": 5,
   "metadata": {},
   "outputs": [],
   "source": [
    "y = []\n",
    "for i in range(number_of_variables):\n",
    "    y.append(first_model.NewEnumeratedIntVar(y_domains[i], 'y_{}'.format(i)))"
   ]
  },
  {
   "cell_type": "markdown",
   "metadata": {},
   "source": [
    "We now can add the constraint y<sub>0</sub> + y<sub>1</sub> + y<sub>2</sub> + y<sub>3</sub> = x."
   ]
  },
  {
   "cell_type": "code",
   "execution_count": 6,
   "metadata": {},
   "outputs": [
    {
     "data": {
      "text/plain": [
       "<ortools.sat.python.cp_model.Constraint at 0x1091df748>"
      ]
     },
     "execution_count": 6,
     "metadata": {},
     "output_type": "execute_result"
    }
   ],
   "source": [
    "first_model.Add(sum(y) == x)\n",
    "# or equivalently \n",
    "first_model.Add(y[0] + y[1] + y[2] + y[3] == x)"
   ]
  },
  {
   "cell_type": "markdown",
   "metadata": {},
   "source": [
    "Then, we add the constraint y<sub>0</sub> =\\\\= y<sub>2</sub>."
   ]
  },
  {
   "cell_type": "code",
   "execution_count": 7,
   "metadata": {},
   "outputs": [
    {
     "data": {
      "text/plain": [
       "<ortools.sat.python.cp_model.Constraint at 0x1091df588>"
      ]
     },
     "execution_count": 7,
     "metadata": {},
     "output_type": "execute_result"
    }
   ],
   "source": [
    "first_model.Add(y[0] != y[2])"
   ]
  },
  {
   "cell_type": "markdown",
   "metadata": {},
   "source": [
    "Finally, we add the constraint y<sub>1</sub> = y<sub>3</sub>."
   ]
  },
  {
   "cell_type": "code",
   "execution_count": 8,
   "metadata": {},
   "outputs": [
    {
     "data": {
      "text/plain": [
       "<ortools.sat.python.cp_model.Constraint at 0x1091df4a8>"
      ]
     },
     "execution_count": 8,
     "metadata": {},
     "output_type": "execute_result"
    }
   ],
   "source": [
    "# Add this constraint here\n",
    "first_model.Add(y[1] == y[3])"
   ]
  },
  {
   "cell_type": "markdown",
   "metadata": {},
   "source": [
    "We can also check whether our model is valid or not by using the following method:"
   ]
  },
  {
   "cell_type": "code",
   "execution_count": 9,
   "metadata": {},
   "outputs": [
    {
     "name": "stdout",
     "output_type": "stream",
     "text": [
      "\n"
     ]
    }
   ],
   "source": [
    "print(first_model.Validate())"
   ]
  },
  {
   "cell_type": "markdown",
   "metadata": {},
   "source": [
    "If there is no message returned, then the model is OK."
   ]
  },
  {
   "cell_type": "markdown",
   "metadata": {},
   "source": [
    "## Solving a constraint programming model (satisfaction mode).\n",
    "\n",
    "We will now consider how to find a feasible solution to a constraint programming model. We may have different situations: 1) we need to find any feasible solution or prove infeasibility. 2) we need to find all feasible solutions (more rare in practice).\n",
    "\n",
    "We first create a CP solver."
   ]
  },
  {
   "cell_type": "code",
   "execution_count": 10,
   "metadata": {},
   "outputs": [],
   "source": [
    "cp_solver = cp_model.CpSolver()"
   ]
  },
  {
   "cell_type": "markdown",
   "metadata": {},
   "source": [
    "Then, if a timeout is needed we set it this way: "
   ]
  },
  {
   "cell_type": "code",
   "execution_count": 11,
   "metadata": {},
   "outputs": [],
   "source": [
    "timeout = 60 # timeout in seconds\n",
    "cp_solver.parameters.max_time_in_seconds = timeout"
   ]
  },
  {
   "cell_type": "markdown",
   "metadata": {},
   "source": [
    "### First, we call the solver to find a solution, which returns one the following statuses:\n",
    "* cp_model.FEASIBLE\n",
    "* cp_model.INFEASIBLE\n",
    "* cp_model.MODEL_INVALID\n",
    "* cp_model.UNKNOWN"
   ]
  },
  {
   "cell_type": "code",
   "execution_count": 12,
   "metadata": {},
   "outputs": [
    {
     "name": "stdout",
     "output_type": "stream",
     "text": [
      "Model status: FEASIBLE\n"
     ]
    }
   ],
   "source": [
    "status = cp_solver.Solve(first_model)\n",
    "print('Model status: {}'.format(cp_solver.StatusName(status)))"
   ]
  },
  {
   "cell_type": "markdown",
   "metadata": {},
   "source": [
    "Since the considered problem is feasible, we can print out the found solution."
   ]
  },
  {
   "cell_type": "code",
   "execution_count": 13,
   "metadata": {},
   "outputs": [
    {
     "name": "stdout",
     "output_type": "stream",
     "text": [
      "Value of x: 1\n",
      "Value of y_0: -1\n",
      "Value of y_1: 1\n",
      "Value of y_2: 0\n",
      "Value of y_3: 1\n"
     ]
    }
   ],
   "source": [
    "print('Value of x: {}'.format(cp_solver.Value(x)))\n",
    "for i in range(number_of_variables):\n",
    "    print('Value of y_{}: {}'.format(i, cp_solver.Value(y[i])))"
   ]
  },
  {
   "cell_type": "markdown",
   "metadata": {},
   "source": [
    "### Second, we call the solver to find all feasible solutions.\n",
    "\n",
    "We first need to create a class inhereted from cp_model.CpSolverSolutionCallback. This class must implement a method on_solution_callback, which is called every time a solution is found. In our case, we will simply print out this solution. The code below is adapted from [here](https://github.com/google/or-tools/blob/master/ortools/sat/doc/solver.md)."
   ]
  },
  {
   "cell_type": "code",
   "execution_count": 14,
   "metadata": {},
   "outputs": [],
   "source": [
    "class VarArrayAndObjectiveSolutionPrinter(cp_model.CpSolverSolutionCallback):\n",
    "    \"\"\"Print intermediate solutions.\"\"\"\n",
    "\n",
    "    def __init__(self, variables):\n",
    "        cp_model.CpSolverSolutionCallback.__init__(self)\n",
    "        self.__variables = variables\n",
    "        self.__solution_count = 0\n",
    "\n",
    "    def on_solution_callback(self):\n",
    "        print('Solution {}'.format(self.__solution_count))\n",
    "        for v in self.__variables:\n",
    "            print('  {} = {}'.format(v, self.Value(v)), end=' ')\n",
    "        print()\n",
    "        self.__solution_count += 1\n",
    "\n",
    "    def solution_count(self):\n",
    "        return self.__solution_count"
   ]
  },
  {
   "cell_type": "markdown",
   "metadata": {},
   "source": [
    "Now we have a solution printer and can find all solutions."
   ]
  },
  {
   "cell_type": "code",
   "execution_count": 15,
   "metadata": {},
   "outputs": [
    {
     "name": "stdout",
     "output_type": "stream",
     "text": [
      "Solution 0\n",
      "  y_0 = -1   y_1 = 1   y_2 = 0   y_3 = 1   x = 1 \n",
      "Solution 1\n",
      "  y_0 = -1   y_1 = 1   y_2 = 1   y_3 = 1   x = 2 \n",
      "Solution 2\n",
      "  y_0 = -1   y_1 = 1   y_2 = 2   y_3 = 1   x = 3 \n",
      "Solution 3\n",
      "  y_0 = -1   y_1 = 1   y_2 = 4   y_3 = 1   x = 5 \n",
      "Solution 4\n",
      "  y_0 = -1   y_1 = 3   y_2 = 0   y_3 = 3   x = 5 \n",
      "Solution 5\n",
      "  y_0 = -1   y_1 = 1   y_2 = 5   y_3 = 1   x = 6 \n",
      "Solution 6\n",
      "  y_0 = -1   y_1 = 3   y_2 = 1   y_3 = 3   x = 6 \n",
      "Solution 7\n",
      "  y_0 = -1   y_1 = 3   y_2 = 2   y_3 = 3   x = 7 \n",
      "Solution 8\n",
      "  y_0 = -1   y_1 = 3   y_2 = 4   y_3 = 3   x = 9 \n",
      "Solution 9\n",
      "  y_0 = -1   y_1 = 3   y_2 = 5   y_3 = 3   x = 10 \n",
      "Solution 10\n",
      "  y_0 = 0   y_1 = 1   y_2 = 1   y_3 = 1   x = 3 \n",
      "Solution 11\n",
      "  y_0 = 0   y_1 = 1   y_2 = 2   y_3 = 1   x = 4 \n",
      "Solution 12\n",
      "  y_0 = 0   y_1 = 1   y_2 = 4   y_3 = 1   x = 6 \n",
      "Solution 13\n",
      "  y_0 = 0   y_1 = 1   y_2 = 5   y_3 = 1   x = 7 \n",
      "Solution 14\n",
      "  y_0 = 0   y_1 = 3   y_2 = 1   y_3 = 3   x = 7 \n",
      "Solution 15\n",
      "  y_0 = 0   y_1 = 3   y_2 = 2   y_3 = 3   x = 8 \n",
      "Solution 16\n",
      "  y_0 = 0   y_1 = 3   y_2 = 4   y_3 = 3   x = 10 \n",
      "Solution 17\n",
      "  y_0 = 1   y_1 = 1   y_2 = 2   y_3 = 1   x = 5 \n",
      "Solution 18\n",
      "  y_0 = 1   y_1 = 1   y_2 = 4   y_3 = 1   x = 7 \n",
      "Solution 19\n",
      "  y_0 = 1   y_1 = 1   y_2 = 5   y_3 = 1   x = 8 \n",
      "Solution 20\n",
      "  y_0 = 2   y_1 = 1   y_2 = 4   y_3 = 1   x = 8 \n",
      "Solution 21\n",
      "  y_0 = 2   y_1 = 1   y_2 = 5   y_3 = 1   x = 9 \n",
      "Solution 22\n",
      "  y_0 = 1   y_1 = 3   y_2 = 2   y_3 = 3   x = 9 \n",
      "Solution 23\n",
      "  y_0 = 0   y_1 = 1   y_2 = -1   y_3 = 1   x = 1 \n",
      "Solution 24\n",
      "  y_0 = 0   y_1 = 3   y_2 = -1   y_3 = 3   x = 5 \n",
      "Solution 25\n",
      "  y_0 = 1   y_1 = 1   y_2 = -1   y_3 = 1   x = 2 \n",
      "Solution 26\n",
      "  y_0 = 1   y_1 = 1   y_2 = 0   y_3 = 1   x = 3 \n",
      "Solution 27\n",
      "  y_0 = 2   y_1 = 1   y_2 = -1   y_3 = 1   x = 3 \n",
      "Solution 28\n",
      "  y_0 = 2   y_1 = 1   y_2 = 0   y_3 = 1   x = 4 \n",
      "Solution 29\n",
      "  y_0 = 2   y_1 = 1   y_2 = 1   y_3 = 1   x = 5 \n",
      "Solution 30\n",
      "  y_0 = 1   y_1 = 3   y_2 = -1   y_3 = 3   x = 6 \n",
      "Solution 31\n",
      "  y_0 = 1   y_1 = 3   y_2 = 0   y_3 = 3   x = 7 \n",
      "Solution 32\n",
      "  y_0 = 2   y_1 = 3   y_2 = -1   y_3 = 3   x = 7 \n",
      "Solution 33\n",
      "  y_0 = 2   y_1 = 3   y_2 = 0   y_3 = 3   x = 8 \n",
      "Solution 34\n",
      "  y_0 = 2   y_1 = 3   y_2 = 1   y_3 = 3   x = 9 \n"
     ]
    }
   ],
   "source": [
    "all_variables = y\n",
    "all_variables.append(x)\n",
    "solution_printer = VarArrayAndObjectiveSolutionPrinter(all_variables)\n",
    "status = cp_solver.SearchForAllSolutions(first_model, solution_printer)"
   ]
  },
  {
   "cell_type": "markdown",
   "metadata": {},
   "source": [
    "## Solving a constraint programming model (optimisation mode).\n",
    "\n",
    "We now consider the case when we need to solve an optimisation problem with constraint programming.\n",
    "\n",
    "Let us add an objective function minimise x to our model."
   ]
  },
  {
   "cell_type": "code",
   "execution_count": 16,
   "metadata": {},
   "outputs": [],
   "source": [
    "first_model.Maximize(x)"
   ]
  },
  {
   "cell_type": "markdown",
   "metadata": {},
   "source": [
    "We can now call the solver and find the maximum. Note that in OR-tools search for all solutions is not defined for optimisation problems."
   ]
  },
  {
   "cell_type": "code",
   "execution_count": 17,
   "metadata": {},
   "outputs": [
    {
     "name": "stdout",
     "output_type": "stream",
     "text": [
      "The maximum value of x: 10\n"
     ]
    }
   ],
   "source": [
    "status = cp_solver.Solve(first_model)\n",
    "print('The maximum value of x: {}'.format(cp_solver.Value(x)))"
   ]
  },
  {
   "cell_type": "markdown",
   "metadata": {},
   "source": [
    "In a similar fashion we can find the minimum value of x:"
   ]
  },
  {
   "cell_type": "code",
   "execution_count": 18,
   "metadata": {},
   "outputs": [
    {
     "name": "stdout",
     "output_type": "stream",
     "text": [
      "The minimum value of x: 1\n"
     ]
    }
   ],
   "source": [
    "first_model.Minimize(x)\n",
    "status = cp_solver.Solve(first_model)\n",
    "print('The minimum value of x: {}'.format(cp_solver.Value(x)))"
   ]
  },
  {
   "cell_type": "markdown",
   "metadata": {},
   "source": [
    "## Basic functionality of OR-tools: exercise"
   ]
  },
  {
   "cell_type": "markdown",
   "metadata": {},
   "source": [
    "1. Encode the following problem using OR-tools:\n",
    "\n",
    " * Variables:\n",
    "     * x &in; [-8,5].\n",
    "     * y<sub>0</sub> &in; [1, 2]  ∪ [4,6]  ∪ [12,24].\n",
    "     * y<sub>1</sub> &in; {8,5,3}.\n",
    "     * y<sub>2</sub> &in; [11,14]. \n",
    "     \n",
    "  * Constraints:\n",
    "      * min(y<sub>0</sub>,y<sub>1</sub>,y<sub>2</sub>) = x\n",
    "      * y<sub>2</sub> - y<sub>1</sub> = y<sub>0</sub>.\n",
    "  \n",
    "   * Objective function:\n",
    "      * Minimize x.\n",
    "2. Find the optimal solution to the problem.  "
   ]
  },
  {
   "cell_type": "markdown",
   "metadata": {},
   "source": [
    "Create an empty model:"
   ]
  },
  {
   "cell_type": "code",
   "execution_count": null,
   "metadata": {},
   "outputs": [],
   "source": [
    "# Add your solution here\n",
    "second_model = "
   ]
  },
  {
   "cell_type": "markdown",
   "metadata": {},
   "source": [
    "Create the x variable:"
   ]
  },
  {
   "cell_type": "code",
   "execution_count": null,
   "metadata": {},
   "outputs": [],
   "source": [
    "# Add your solution here\n",
    "x = "
   ]
  },
  {
   "cell_type": "markdown",
   "metadata": {},
   "source": [
    "Create the domains of y variables:"
   ]
  },
  {
   "cell_type": "code",
   "execution_count": null,
   "metadata": {},
   "outputs": [],
   "source": [
    "# Add your solution here\n",
    "y_0_domain = \n",
    "y_1_domain = \n",
    "y_2_domain = \n",
    "y_domains = [y_0_domain, y_1_domain, y_2_domain]"
   ]
  },
  {
   "cell_type": "markdown",
   "metadata": {},
   "source": [
    "Create the list of y variables using y_domains:"
   ]
  },
  {
   "cell_type": "code",
   "execution_count": null,
   "metadata": {},
   "outputs": [],
   "source": [
    "# Add your solution here\n",
    "y = "
   ]
  },
  {
   "cell_type": "markdown",
   "metadata": {},
   "source": [
    "Add the min(y<sub>0</sub>,y<sub>1</sub>,y<sub>2</sub>) = x constraint to the model. Hint: use the AddMinEquality of cp_model with two arguments: the target variable, and the list of the arguments of the min function."
   ]
  },
  {
   "cell_type": "code",
   "execution_count": null,
   "metadata": {},
   "outputs": [],
   "source": [
    "# Add your solution here"
   ]
  },
  {
   "cell_type": "markdown",
   "metadata": {},
   "source": [
    "Add the y<sub>2</sub> - y<sub>1</sub> = y<sub>0</sub> constraint to the model. Hint: it is very similar to the previous constraint."
   ]
  },
  {
   "cell_type": "code",
   "execution_count": null,
   "metadata": {},
   "outputs": [],
   "source": [
    "# Add your solution here"
   ]
  },
  {
   "cell_type": "markdown",
   "metadata": {},
   "source": [
    "Add the objective function:"
   ]
  },
  {
   "cell_type": "code",
   "execution_count": null,
   "metadata": {},
   "outputs": [],
   "source": [
    "# Add your solution here"
   ]
  },
  {
   "cell_type": "markdown",
   "metadata": {},
   "source": [
    "Check that your model is valid:"
   ]
  },
  {
   "cell_type": "code",
   "execution_count": null,
   "metadata": {},
   "outputs": [],
   "source": [
    "# Add your solution here"
   ]
  },
  {
   "cell_type": "markdown",
   "metadata": {},
   "source": [
    "Create a CP solver:"
   ]
  },
  {
   "cell_type": "code",
   "execution_count": null,
   "metadata": {},
   "outputs": [],
   "source": [
    "# Add your solution here\n",
    "cp_solver = "
   ]
  },
  {
   "cell_type": "markdown",
   "metadata": {},
   "source": [
    "Solve the model and get the status:"
   ]
  },
  {
   "cell_type": "code",
   "execution_count": null,
   "metadata": {},
   "outputs": [],
   "source": [
    "# Add your solution here\n",
    "status = "
   ]
  },
  {
   "cell_type": "markdown",
   "metadata": {},
   "source": [
    "Print out the status of the found solution, if any:"
   ]
  },
  {
   "cell_type": "code",
   "execution_count": null,
   "metadata": {},
   "outputs": [],
   "source": [
    "# Add your solution here"
   ]
  },
  {
   "cell_type": "markdown",
   "metadata": {},
   "source": [
    "## Global constraints in OR-tools\n",
    "\n",
    "Many global constraints including alldifferent, element, cumulative, are implemented in OR-tools. We will consider how to use alldifferent, the interafec of other constraints can be found in the documentation."
   ]
  },
  {
   "cell_type": "markdown",
   "metadata": {},
   "source": [
    "### The alldifferent global constraint in OR-tools"
   ]
  },
  {
   "cell_type": "markdown",
   "metadata": {},
   "source": [
    "We will encode the following constraint satisfaction model:\n",
    "   * Variables:\n",
    "     * y<sub>0</sub> &in; [1,5]  ∪ [8,24].\n",
    "     * y<sub>1</sub> &in; {1,5,3}.\n",
    "     * y<sub>2</sub> &in; [12,14]. \n",
    "     * y<sub>3</sub> &in; [9,11]. \n",
    "     \n",
    "   * Constraints:\n",
    "      * alldifferent(<y<sub>0</sub>, y<sub>1</sub>, y<sub>2</sub>, y<sub>3</sub>>)"
   ]
  },
  {
   "cell_type": "markdown",
   "metadata": {},
   "source": [
    "We first create an empty cp model:"
   ]
  },
  {
   "cell_type": "code",
   "execution_count": 19,
   "metadata": {},
   "outputs": [],
   "source": [
    "alldifferent_model = cp_model.CpModel()"
   ]
  },
  {
   "cell_type": "markdown",
   "metadata": {},
   "source": [
    "Further, we create a list of the domains of the variables of the problem:"
   ]
  },
  {
   "cell_type": "code",
   "execution_count": 20,
   "metadata": {},
   "outputs": [],
   "source": [
    "number_of_variables = 4\n",
    "y_0_domain = [1,5,8,24]\n",
    "y_1_domain = [1,1,3,3,5,5]\n",
    "y_2_domain = [12,14]\n",
    "y_3_domain = [9,11]\n",
    "y_domains = [y_0_domain, y_1_domain, y_2_domain, y_3_domain]"
   ]
  },
  {
   "cell_type": "markdown",
   "metadata": {},
   "source": [
    "We then create a list of variables with the defined domains:"
   ]
  },
  {
   "cell_type": "code",
   "execution_count": 21,
   "metadata": {},
   "outputs": [],
   "source": [
    "y = []\n",
    "for i in range(number_of_variables):\n",
    "    y.append(alldifferent_model.NewEnumeratedIntVar(y_domains[i], 'y_{}'.format(i)))\n",
    "    "
   ]
  },
  {
   "cell_type": "markdown",
   "metadata": {},
   "source": [
    "We add the alldifferent constraint:"
   ]
  },
  {
   "cell_type": "code",
   "execution_count": 22,
   "metadata": {},
   "outputs": [
    {
     "data": {
      "text/plain": [
       "<ortools.sat.python.cp_model.Constraint at 0x1091dfba8>"
      ]
     },
     "execution_count": 22,
     "metadata": {},
     "output_type": "execute_result"
    }
   ],
   "source": [
    "alldifferent_model.AddAllDifferent(y)"
   ]
  },
  {
   "cell_type": "markdown",
   "metadata": {},
   "source": [
    "Further, we create a solver:"
   ]
  },
  {
   "cell_type": "code",
   "execution_count": 23,
   "metadata": {},
   "outputs": [],
   "source": [
    "solver = cp_model.CpSolver()"
   ]
  },
  {
   "cell_type": "markdown",
   "metadata": {},
   "source": [
    "Finally, we call the solver on our model:"
   ]
  },
  {
   "cell_type": "code",
   "execution_count": 24,
   "metadata": {},
   "outputs": [],
   "source": [
    "status = solver.Solve(alldifferent_model)"
   ]
  },
  {
   "cell_type": "markdown",
   "metadata": {},
   "source": [
    "Print out the found solution:"
   ]
  },
  {
   "cell_type": "code",
   "execution_count": 25,
   "metadata": {},
   "outputs": [
    {
     "name": "stdout",
     "output_type": "stream",
     "text": [
      "Value of y_0: 1\n",
      "Value of y_1: 3\n",
      "Value of y_2: 12\n",
      "Value of y_3: 9\n"
     ]
    }
   ],
   "source": [
    "for i in range(number_of_variables):\n",
    "    print('Value of y_{}: {}'.format(i, solver.Value(y[i])))"
   ]
  },
  {
   "cell_type": "markdown",
   "metadata": {},
   "source": [
    "### Using alldifferent for modelling sudoku"
   ]
  },
  {
   "attachments": {
    "Screen%20Shot%202019-03-07%20at%2008.37.14.png": {
     "image/png": "[encoded data removed]"
    }
   },
   "cell_type": "markdown",
   "metadata": {},
   "source": [
    "We will now encode the sudoku model that we created earlier in this training.\n",
    "Our constraint model is the following:\n",
    "\n",
    "* Variables and their domains: \n",
    "  * 𝑋<sub>00</sub> ∈ {1}\n",
    "  * 𝑋<sub>01</sub> ∈ {1,2,3,4}\n",
    "  * 𝑋<sub>02</sub> ∈ {1,2,3,4}\n",
    "  * 𝑋<sub>03</sub> ∈ {4}\n",
    "  * 𝑋<sub>10</sub> ∈ {1,2,3,4}\n",
    "  * 𝑋<sub>11</sub> ∈ {2}\n",
    "  * 𝑋<sub>12</sub> ∈ {1,2,3,4}\n",
    "  * 𝑋<sub>13</sub> ∈ {1,2,3,4}\n",
    "  * 𝑋<sub>20</sub> ∈ {1,2,3,4}\n",
    "  * 𝑋<sub>21</sub> ∈ {1,2,3,4}\n",
    "  * 𝑋<sub>22</sub> ∈ {1,2,3,4}\n",
    "  * 𝑋<sub>23</sub> ∈ {1,2,3,4}\n",
    "  * 𝑋<sub>30</sub> ∈ {1,2,3,4}\n",
    "  * 𝑋<sub>31</sub> ∈ {1,2,3,4}\n",
    "  * 𝑋<sub>32</sub> ∈ {3}\n",
    "  * 𝑋<sub>33</sub> ∈ {1,2,3,4}\n",
    "* Constraints:\n",
    "  * alldifferent(<𝑋<sub>00</sub>, 𝑋<sub>01</sub>, 𝑋<sub>02</sub>, 𝑋<sub>03</sub>>)\n",
    "  * alldifferent(<𝑋<sub>10</sub>, 𝑋<sub>11</sub>, 𝑋<sub>12</sub>, 𝑋<sub>13</sub>>)\n",
    "  * alldifferent(<𝑋<sub>20</sub>, 𝑋<sub>21</sub>, 𝑋<sub>22</sub>, 𝑋<sub>23</sub>>)\n",
    "  * alldifferent(<𝑋<sub>30</sub>, 𝑋<sub>31</sub>, 𝑋<sub>32</sub>, 𝑋<sub>33</sub>>)\n",
    "  * alldifferent(<𝑋<sub>00</sub>, 𝑋<sub>10</sub>, 𝑋<sub>20</sub>, 𝑋<sub>30</sub>>)\n",
    "  * alldifferent(<𝑋<sub>01</sub>, 𝑋<sub>11</sub>, 𝑋<sub>21</sub>, 𝑋<sub>31</sub>>)\n",
    "  * alldifferent(<𝑋<sub>02</sub>, 𝑋<sub>12</sub>, 𝑋<sub>22</sub>, 𝑋<sub>32</sub>>)\n",
    "  * alldifferent(<𝑋<sub>03</sub>, 𝑋<sub>13</sub>, 𝑋<sub>23</sub>, 𝑋<sub>33</sub>>)\n",
    "  * alldifferent(<𝑋<sub>00</sub>, 𝑋<sub>01</sub>, 𝑋<sub>10</sub>, 𝑋<sub>11</sub>>)\n",
    "  * alldifferent(<𝑋<sub>02</sub>, 𝑋<sub>03</sub>, 𝑋<sub>12</sub>, 𝑋<sub>13</sub>>)\n",
    "  * alldifferent(<𝑋<sub>20</sub>, 𝑋<sub>21</sub>, 𝑋<sub>30</sub>, 𝑋<sub>31</sub>>)\n",
    "  * alldifferent(<𝑋<sub>22</sub>, 𝑋<sub>23</sub>, 𝑋<sub>32</sub>, 𝑋<sub>33</sub>>)\n",
    "\n",
    "This model corresponds to the following sudoku:\n",
    "![Screen%20Shot%202019-03-07%20at%2008.37.14.png](attachment:Screen%20Shot%202019-03-07%20at%2008.37.14.png)"
   ]
  },
  {
   "cell_type": "code",
   "execution_count": null,
   "metadata": {},
   "outputs": [],
   "source": [
    "# Create an empty CP model:\n",
    "\n",
    "# Create a list (or a dictionary) of the domains of the variables:\n",
    "# Hint: it's simpler with a dictionary. Handle first the cases of one-value domain\n",
    "# since there are just a few of them, and then handle the rest in a loop.\n",
    "\n",
    "# Create the variables:\n",
    "# Hint: create a two-dimensional list so that \n",
    "# every variable can be accessed by its two-dimensional index.\n",
    "width = 4\n",
    "cells = []\n",
    "for i in range(width):\n",
    "    cells.append([])\n",
    "    for j in range(width):\n",
    "        # Create you variable here and append the result to cells[i]:\n",
    "\n",
    "\n",
    "# Add alldifferent constraints:\n",
    "\n",
    "# Create a solver:\n",
    "\n",
    "# Call the solver to find a solution:\n",
    "\n",
    "# Print out the found solution:"
   ]
  },
  {
   "cell_type": "markdown",
   "metadata": {},
   "source": [
    "Congratulations! You now know how to write a program solving sudoku."
   ]
  },
  {
   "cell_type": "code",
   "execution_count": null,
   "metadata": {},
   "outputs": [],
   "source": []
  }
 ],
 "metadata": {
  "kernelspec": {
   "display_name": "Python 3",
   "language": "python",
   "name": "python3"
  },
  "language_info": {
   "codemirror_mode": {
    "name": "ipython",
    "version": 3
   },
   "file_extension": ".py",
   "mimetype": "text/x-python",
   "name": "python",
   "nbconvert_exporter": "python",
   "pygments_lexer": "ipython3",
   "version": "3.7.0"
  }
 },
 "nbformat": 4,
 "nbformat_minor": 2
}
