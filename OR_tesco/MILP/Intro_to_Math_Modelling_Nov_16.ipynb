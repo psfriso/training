{
 "cells": [
  {
   "cell_type": "code",
   "execution_count": null,
   "metadata": {},
   "outputs": [],
   "source": [
    "from IPython.display import HTML\n",
    "\n",
    "HTML('''<script>\n",
    "code_show=true; \n",
    "function code_toggle() {\n",
    " if (code_show){\n",
    " $('div.input').hide();\n",
    " } else {\n",
    " $('div.input').show();\n",
    " }\n",
    " code_show = !code_show\n",
    "} \n",
    "$( document ).ready(code_toggle);\n",
    "</script>\n",
    "<form action=\"javascript:code_toggle()\"><input type=\"submit\" value=\"Click here to toggle on/off the raw code.\"></form>''')"
   ]
  },
  {
   "cell_type": "markdown",
   "metadata": {},
   "source": [
    "# 1. A Simple Example to Start\n",
    "\n",
    "## Given:\n",
    "\n",
    "Four points on a coordinate system with their x and y coordinates.\n",
    "\n",
    "## Problem Statement:\n",
    "\n",
    "Find the location of a point X that the total distance from point X to other four points is minimum.   \n"
   ]
  },
  {
   "cell_type": "code",
   "execution_count": 4,
   "metadata": {},
   "outputs": [
    {
     "data": {
      "image/png": "[encoded data removed]",
      "text/plain": [
       "<Figure size 432x288 with 1 Axes>"
      ]
     },
     "metadata": {
      "needs_background": "light"
     },
     "output_type": "display_data"
    }
   ],
   "source": [
    "from pylab import *\n",
    "\n",
    "x = [0,2,-3,-1.5,0]\n",
    "y = [4,1.5,2.5,-2.5,1]\n",
    "color=['y','g','r','b','k']\n",
    "markers = ['o','+']\n",
    "for i in range(0,len(x)):\n",
    "    if i<len(x)-1:\n",
    "        scatter(x[i],y[i], s=100 ,marker=markers[0], c=color[i])\n",
    "    else:\n",
    "        scatter(x[i],y[i], s=100 ,marker=markers[1], c=color[i])\n",
    "\n",
    "show()"
   ]
  },
  {
   "cell_type": "markdown",
   "metadata": {},
   "source": [
    "## LETS FIRST THINK in ENGLISH: "
   ]
  },
  {
   "cell_type": "markdown",
   "metadata": {},
   "source": [
    " 1. What is our objective function? "
   ]
  },
  {
   "cell_type": "markdown",
   "metadata": {},
   "source": [
    "2. What are our constraints? "
   ]
  },
  {
   "cell_type": "markdown",
   "metadata": {},
   "source": [
    "## TIME for MATH :)"
   ]
  },
  {
   "cell_type": "markdown",
   "metadata": {},
   "source": [
    "### Sets:"
   ]
  },
  {
   "cell_type": "markdown",
   "metadata": {},
   "source": [
    "- $E$: Set of Existing Points"
   ]
  },
  {
   "cell_type": "code",
   "execution_count": null,
   "metadata": {},
   "outputs": [],
   "source": [
    "E = {'red','yellow','green','blue'}"
   ]
  },
  {
   "cell_type": "code",
   "execution_count": null,
   "metadata": {},
   "outputs": [],
   "source": [
    "E"
   ]
  },
  {
   "cell_type": "markdown",
   "metadata": {},
   "source": [
    "- $P$: Set of Potential Points"
   ]
  },
  {
   "cell_type": "code",
   "execution_count": null,
   "metadata": {},
   "outputs": [],
   "source": [
    "P = {'black'}"
   ]
  },
  {
   "cell_type": "code",
   "execution_count": null,
   "metadata": {},
   "outputs": [],
   "source": [
    "P"
   ]
  },
  {
   "cell_type": "markdown",
   "metadata": {},
   "source": [
    "### Parameters:"
   ]
  },
  {
   "cell_type": "markdown",
   "metadata": {},
   "source": [
    "What are the constants (knowns) of this problem?\n",
    "    - The locations of the existing points."
   ]
  },
  {
   "cell_type": "markdown",
   "metadata": {},
   "source": [
    "IN MATH;\n",
    "\n",
    "$\\bar{x}_e, \\forall e\\in E$: is the x-coordinate of existing point $e$, \n",
    "\n",
    "$\\bar{y}_e, \\forall e\\in E$: is the y-coordinate of existing point $e$.    "
   ]
  },
  {
   "cell_type": "code",
   "execution_count": null,
   "metadata": {},
   "outputs": [],
   "source": [
    "xbar = {}\n",
    "ybar = {}\n",
    "xbar['red'] = -3\n",
    "ybar['red'] = 2.5\n",
    "xbar['yellow'] = 0 \n",
    "ybar['yellow'] = 4\n",
    "xbar['green'] = 2\n",
    "ybar['green'] = 1.5\n",
    "xbar['blue'] = -1.5\n",
    "ybar['blue'] = -2.5"
   ]
  },
  {
   "cell_type": "markdown",
   "metadata": {},
   "source": [
    "### Variables:"
   ]
  },
  {
   "cell_type": "markdown",
   "metadata": {},
   "source": [
    "What are the decisions of this problem?\n",
    "    - The location of the potential point."
   ]
  },
  {
   "cell_type": "markdown",
   "metadata": {},
   "source": [
    "IN MATH;\n",
    "\n",
    "$x_{p}, \\forall p\\in P$: is the decision variable for x-coordinate of potential point $p$,\n",
    "\n",
    "$y_{p}, \\forall p\\in P$: is the decision variable for y-coordinate of potential point $p$.\n",
    "\n",
    "Since there is only one element in set P, we will use x and y to represent the decision variables for this problem."
   ]
  },
  {
   "cell_type": "markdown",
   "metadata": {},
   "source": [
    "### Objective Function:"
   ]
  },
  {
   "cell_type": "markdown",
   "metadata": {},
   "source": [
    "Assumption: Assume that a function $F(\\bar{x},\\bar{y},x,y)$ defines the distance between two points."
   ]
  },
  {
   "cell_type": "markdown",
   "metadata": {},
   "source": [
    "IN MATH;"
   ]
  },
  {
   "cell_type": "markdown",
   "metadata": {},
   "source": [
    "$\\sum_{e \\in E} F(x,y,\\bar{x}_e,\\bar{y}_e)$"
   ]
  },
  {
   "cell_type": "markdown",
   "metadata": {},
   "source": [
    "### MODEL:"
   ]
  },
  {
   "cell_type": "markdown",
   "metadata": {},
   "source": [
    "min $\\sum_{e \\in E} F(x,y,\\bar{x}_e,\\bar{y}_e)$"
   ]
  },
  {
   "cell_type": "markdown",
   "metadata": {},
   "source": [
    "#### Case 1:"
   ]
  },
  {
   "cell_type": "markdown",
   "metadata": {},
   "source": [
    "The objective is to minimize the total Euclidean distance."
   ]
  },
  {
   "cell_type": "markdown",
   "metadata": {},
   "source": [
    "#### MODEL:"
   ]
  },
  {
   "cell_type": "markdown",
   "metadata": {},
   "source": [
    "min $\\sum_{e \\in E} \\sqrt{(x-\\bar{x}_{e})^2+(y-\\bar{y}_{e})^2}$"
   ]
  },
  {
   "cell_type": "markdown",
   "metadata": {},
   "source": [
    "THIS IS AN EXAMPLE OF NONLINEAR PROGRAMMING ! "
   ]
  },
  {
   "cell_type": "markdown",
   "metadata": {},
   "source": [
    "#### Case 2:"
   ]
  },
  {
   "cell_type": "markdown",
   "metadata": {},
   "source": [
    "The objective is to minimize the total Rectilinear (Manhattan) distance."
   ]
  },
  {
   "cell_type": "markdown",
   "metadata": {},
   "source": [
    "$\\sum_{e \\in E} F(x,y,\\bar{x}_e,\\bar{y}_e) = \\sum_{e \\in E} |(x-\\bar{x}_{e})|+|(y-\\bar{y}_{e})|$  "
   ]
  },
  {
   "cell_type": "markdown",
   "metadata": {},
   "source": [
    "#### MODEL:"
   ]
  },
  {
   "cell_type": "markdown",
   "metadata": {},
   "source": [
    "Additional Variables for Linearization:\n",
    "\n",
    "$m_{e}^{+}, \\forall e\\in E$,\n",
    "\n",
    "$m_{e}^{-}, \\forall e\\in E$,\n",
    "\n",
    "$n_{e}^{+}, \\forall e\\in E$,\n",
    "\n",
    "$n_{e}^{-}, \\forall e\\in E$."
   ]
  },
  {
   "cell_type": "markdown",
   "metadata": {},
   "source": [
    "min $\\sum_{e \\in E} m_{e}^{+}+m_{e}^{-}+n_{e}^{+}+n_{e}^{-}$\n",
    "\n",
    "s.t.\n",
    "\n",
    "$x + m_{e}^{+} - m_{e}^{-} = \\bar{x}_{e}$ $\\forall e \\in E$\n",
    "\n",
    "$y + n_{e}^{+} - n_{e}^{-} = \\bar{y}_{e}$ $\\forall e \\in E$\n",
    "\n",
    "$m_{e}^{+}>=0,     \\forall e\\in E$,\n",
    "\n",
    "$m_{e}^{-}>=0,     \\forall e\\in E$,\n",
    "\n",
    "$n_{e}^{+}>=0,     \\forall e\\in E$,\n",
    "\n",
    "$n_{e}^{-}>=0,     \\forall e\\in E$.\n",
    "\n"
   ]
  },
  {
   "cell_type": "markdown",
   "metadata": {},
   "source": [
    "THIS IS AN EXAMPLE OF LINEAR PROGRAMMING !"
   ]
  },
  {
   "cell_type": "markdown",
   "metadata": {},
   "source": [
    "## What have we gone through so far?"
   ]
  },
  {
   "cell_type": "markdown",
   "metadata": {},
   "source": [
    "1. Sets\n",
    "2. Parameters\n",
    "3. Continous Decision Variables\n",
    "4. Objective Functions\n",
    "5. Linear Programming vs. NonLinear Programming\n",
    "6. BONUS: Linearization of Absolute Value Function :)"
   ]
  },
  {
   "cell_type": "markdown",
   "metadata": {},
   "source": [
    "## QUICK INTRO TO PULP"
   ]
  },
  {
   "cell_type": "code",
   "execution_count": null,
   "metadata": {},
   "outputs": [],
   "source": [
    "from pulp import *"
   ]
  },
  {
   "cell_type": "code",
   "execution_count": null,
   "metadata": {},
   "outputs": [],
   "source": [
    "# Generate the Variables via LpVariable()\n",
    "x = LpVariable(\"x\",None,None,LpContinuous)\n",
    "y = LpVariable(\"y\",None,None,LpContinuous)\n",
    "mePlus = {}\n",
    "for e in E:\n",
    "    mePlus[e]= LpVariable(\"mePlus_%s\"%(e),0,None,LpContinuous)\n",
    "meMinus = {}\n",
    "for e in E:\n",
    "    meMinus[e]= LpVariable(\"meMinus%s\"%(e),0,None,LpContinuous)\n",
    "nePlus = {}\n",
    "for e in E:\n",
    "    nePlus[e]= LpVariable(\"nePlus_%s\"%(e),0,None,LpContinuous)\n",
    "neMinus = {}\n",
    "for e in E:\n",
    "    neMinus[e]= LpVariable(\"neMinus_%s\"%(e),0,None,LpContinuous)"
   ]
  },
  {
   "cell_type": "code",
   "execution_count": null,
   "metadata": {},
   "outputs": [],
   "source": [
    "### Generate Problem&Solver via LpProblem()\n",
    "prob = LpProblem(\"Training Q1\",LpMinimize)"
   ]
  },
  {
   "cell_type": "code",
   "execution_count": null,
   "metadata": {},
   "outputs": [],
   "source": [
    "### Adding Objective Function to Prob\n",
    "prob += lpSum([mePlus[e]+meMinus[e]+nePlus[e]+neMinus[e] for e in E])"
   ]
  },
  {
   "cell_type": "code",
   "execution_count": null,
   "metadata": {},
   "outputs": [],
   "source": [
    "## Set Linearization constraints\n",
    "for e in E:\n",
    "    prob += x+mePlus[e]-meMinus[e]==xbar[e]\n",
    "for e in E:\n",
    "    prob += y+nePlus[e]-neMinus[e]==ybar[e]"
   ]
  },
  {
   "cell_type": "code",
   "execution_count": null,
   "metadata": {},
   "outputs": [],
   "source": [
    "import time\n",
    "\n",
    "start = time.time()\n",
    "## Solve model\n",
    "prob.solve()\n",
    "end = time.time()\n",
    "print(pulp.LpStatus[prob.status], \"solution in: \", float(end - start), \"sec\")"
   ]
  },
  {
   "cell_type": "code",
   "execution_count": null,
   "metadata": {},
   "outputs": [],
   "source": [
    "## Print variables with value greater than 0 \n",
    "for v in prob.variables():\n",
    "        print(v.name, \"=\", v.varValue)\n",
    "\n",
    "# Print The optimal objective function value\n",
    "print(\"Total Rectilinear Distance = \", pulp.value(prob.objective))"
   ]
  },
  {
   "cell_type": "markdown",
   "metadata": {},
   "source": [
    "# 2. First Extension of the Problem"
   ]
  },
  {
   "cell_type": "code",
   "execution_count": 5,
   "metadata": {},
   "outputs": [
    {
     "data": {
      "image/png": "[encoded data removed]",
      "text/plain": [
       "<Figure size 432x288 with 1 Axes>"
      ]
     },
     "metadata": {},
     "output_type": "display_data"
    }
   ],
   "source": [
    "%matplotlib inline\n",
    "import matplotlib.pyplot as plt\n",
    "plt.style.use('seaborn-whitegrid')\n",
    "import numpy as np\n",
    "plt.axvline(x=1)\n",
    "plt.axvline(x=2)\n",
    "plt.axhline(y=-1)\n",
    "plt.axhline(y=-2)\n",
    "#plt.plot(0, a, '-g')  # solid green\n",
    "x = [0,2,-3,-1.5,1.5]\n",
    "y = [4,1.5,2.5,-2.5,-1.5]\n",
    "color=['y','g','r','b','k']\n",
    "markers = ['o','+']\n",
    "for i in range(0,len(x)):\n",
    "    if i<len(x)-1:\n",
    "        scatter(x[i],y[i], s=100 ,marker=markers[0], c=color[i])\n",
    "    else:\n",
    "        scatter(x[i],y[i], s=100 ,marker=markers[1], c=color[i])\n",
    "\n",
    "#plot(a, b)\n",
    "\n",
    "show()\n"
   ]
  },
  {
   "cell_type": "markdown",
   "metadata": {},
   "source": [
    "## Problem Statement:\n",
    "\n",
    "Find the location of a point X within the rectangle in the figure that the total rectilinear distance from point X to other four points is minimum."
   ]
  },
  {
   "cell_type": "markdown",
   "metadata": {},
   "source": [
    "## In ENGLISH :) "
   ]
  },
  {
   "cell_type": "markdown",
   "metadata": {},
   "source": [
    " 1. What is our objective function? "
   ]
  },
  {
   "cell_type": "markdown",
   "metadata": {},
   "source": [
    "2. What are our constraints? "
   ]
  },
  {
   "cell_type": "markdown",
   "metadata": {},
   "source": [
    "### MODEL:"
   ]
  },
  {
   "cell_type": "markdown",
   "metadata": {},
   "source": [
    "min $\\sum_{e \\in E} m_{e}^{+}+m_{e}^{-}+n_{e}^{+}+n_{e}^{-}$\n",
    "\n",
    "s.t.\n",
    "\n",
    "$x + m_{e}^{+} - m_{e}^{-} = \\bar{x}_{e}$ $\\forall e \\in E$\n",
    "\n",
    "$y + n_{e}^{+} - n_{e}^{-} = \\bar{y}_{e}$ $\\forall e \\in E$\n",
    "\n",
    "$m_{e}^{+}>=0,     \\forall e\\in E$,\n",
    "\n",
    "$m_{e}^{-}>=0,     \\forall e\\in E$,\n",
    "\n",
    "$n_{e}^{+}>=0,     \\forall e\\in E$,\n",
    "\n",
    "$n_{e}^{-}>=0,     \\forall e\\in E$,\n",
    "\n",
    "$x <= 2$,\n",
    "\n",
    "$x >= 1$,\n",
    "\n",
    "$y <= -1$,\n",
    "\n",
    "$y >= -2$.\n",
    "\n"
   ]
  },
  {
   "cell_type": "markdown",
   "metadata": {},
   "source": [
    "## LET'S SOLVE THIS MODEL TOGETHER !"
   ]
  },
  {
   "cell_type": "code",
   "execution_count": null,
   "metadata": {},
   "outputs": [],
   "source": [
    "# Generate the Variables via LpVariable()\n",
    "\n",
    "### Generate Problem&Solver via LpProblem()\n",
    "\n",
    "### Adding Objective Function to Prob\n",
    "\n",
    "## Set Linearization constraints\n"
   ]
  },
  {
   "cell_type": "code",
   "execution_count": null,
   "metadata": {},
   "outputs": [],
   "source": [
    "## New Constraints:\n",
    "\n"
   ]
  },
  {
   "cell_type": "code",
   "execution_count": null,
   "metadata": {},
   "outputs": [],
   "source": [
    "import time\n",
    "\n",
    "start = time.time()\n",
    "## Solve model\n",
    "prob.solve()\n",
    "end = time.time()\n",
    "print(pulp.LpStatus[prob.status], \"solution in: \", float(end - start), \"sec\")"
   ]
  },
  {
   "cell_type": "code",
   "execution_count": null,
   "metadata": {},
   "outputs": [],
   "source": [
    "## Print optimal values for x and y. \n",
    "\n",
    "# Print The optimal objective function value\n"
   ]
  },
  {
   "cell_type": "markdown",
   "metadata": {},
   "source": [
    "## What have we gone through so far?"
   ]
  },
  {
   "cell_type": "markdown",
   "metadata": {},
   "source": [
    "1. Using Pulp to solve Linear Programs\n",
    "2. Modelling Set of Constraints\n",
    "3. Bounded Feasible Solution Space"
   ]
  },
  {
   "cell_type": "markdown",
   "metadata": {},
   "source": [
    "# 3. Second Extension of the Problem"
   ]
  },
  {
   "cell_type": "markdown",
   "metadata": {},
   "source": [
    "## Problem Statement:"
   ]
  },
  {
   "cell_type": "code",
   "execution_count": 6,
   "metadata": {
    "scrolled": true
   },
   "outputs": [
    {
     "data": {
      "image/png": "[encoded data removed]",
      "text/plain": [
       "<Figure size 432x288 with 1 Axes>"
      ]
     },
     "metadata": {},
     "output_type": "display_data"
    }
   ],
   "source": [
    "%matplotlib inline\n",
    "import matplotlib.pyplot as plt\n",
    "plt.style.use('seaborn-whitegrid')\n",
    "import numpy as np\n",
    "plt.axvline(x=-2)\n",
    "plt.axvline(x=2)\n",
    "plt.axhline(y=2)\n",
    "plt.axhline(y=-2)\n",
    "#plt.plot(0, a, '-g')  # solid green\n",
    "x = [0,2,-3,-1.5,3]\n",
    "y = [4,1.5,2.5,-2.5,3]\n",
    "color=['y','g','r','b','k']\n",
    "markers = ['o','+']\n",
    "for i in range(0,len(x)):\n",
    "    if i<len(x)-1:\n",
    "        scatter(x[i],y[i], s=100 ,marker=markers[0], c=color[i])\n",
    "    else:\n",
    "        scatter(x[i],y[i], s=100 ,marker=markers[1], c=color[i])\n",
    "\n",
    "#plot(a, b)\n",
    "\n",
    "show()\n"
   ]
  },
  {
   "cell_type": "markdown",
   "metadata": {},
   "source": [
    "Find the location of the point X outside the rectangle to minimize the total rectilinear distance from the point $X$ to $\\bar{X}_{e}$."
   ]
  },
  {
   "cell_type": "markdown",
   "metadata": {},
   "source": [
    "## AGAIN, VERBALLY !"
   ]
  },
  {
   "cell_type": "markdown",
   "metadata": {},
   "source": [
    " 1. What is our objective function? "
   ]
  },
  {
   "cell_type": "markdown",
   "metadata": {},
   "source": [
    "2. What are our constraints? "
   ]
  },
  {
   "cell_type": "markdown",
   "metadata": {},
   "source": [
    "## TIME for MATH :)"
   ]
  },
  {
   "cell_type": "markdown",
   "metadata": {},
   "source": [
    "### Sets:"
   ]
  },
  {
   "cell_type": "markdown",
   "metadata": {},
   "source": [
    "- $E$: Set of Existing Points"
   ]
  },
  {
   "cell_type": "markdown",
   "metadata": {},
   "source": [
    "### Parameters:"
   ]
  },
  {
   "cell_type": "markdown",
   "metadata": {},
   "source": [
    "What are the constants (knowns) of this problem?\n",
    "    - The locations of the existing points.\n",
    "    - ?"
   ]
  },
  {
   "cell_type": "markdown",
   "metadata": {},
   "source": [
    "### Variables:"
   ]
  },
  {
   "cell_type": "markdown",
   "metadata": {},
   "source": [
    "    - Coordinates of the potential point.\n",
    "    - Variables for Linearization\n",
    "    - ?"
   ]
  },
  {
   "cell_type": "markdown",
   "metadata": {},
   "source": [
    "### Objective Function:"
   ]
  },
  {
   "cell_type": "markdown",
   "metadata": {},
   "source": [
    "Will there be any changes? Or just the same?"
   ]
  },
  {
   "cell_type": "markdown",
   "metadata": {},
   "source": [
    "### Constraints:"
   ]
  },
  {
   "cell_type": "markdown",
   "metadata": {},
   "source": [
    "- Constraints for Linearization\n",
    "- How should we define the feasible solution space?"
   ]
  },
  {
   "cell_type": "markdown",
   "metadata": {},
   "source": [
    "### SOMETHING NEW: EITHER-OR CONSTRAINTS and BINARY VARIABLES!!"
   ]
  },
  {
   "cell_type": "markdown",
   "metadata": {},
   "source": [
    "Complicated Relationship: Big-M and its company BINARY VARIABLE"
   ]
  },
  {
   "cell_type": "markdown",
   "metadata": {},
   "source": [
    "BINARY VARIABLE is an integer variable that can only take 0 or 1 as a value. "
   ]
  },
  {
   "cell_type": "markdown",
   "metadata": {},
   "source": [
    "Big-M is a sufficiently big number that helps to relax some of the conflicting constraints."
   ]
  },
  {
   "cell_type": "markdown",
   "metadata": {},
   "source": [
    "#### UPDATING THE MODEL to APPLY EITHER-OR CONSTRAINTS"
   ]
  },
  {
   "cell_type": "markdown",
   "metadata": {},
   "source": [
    "NEW SET;\n",
    "\n",
    "$R$: Set of the Rectangle Edges"
   ]
  },
  {
   "cell_type": "markdown",
   "metadata": {},
   "source": [
    "NEW PARAMETER:\n",
    "\n",
    "$M$: Big-M"
   ]
  },
  {
   "cell_type": "markdown",
   "metadata": {},
   "source": [
    "OBJECTIVE FUNCTION will be the same.\n",
    "\n",
    "min $\\sum_{e \\in E} m_{e}^{+}+m_{e}^{-}+n_{e}^{+}+n_{e}^{-}$"
   ]
  },
  {
   "cell_type": "markdown",
   "metadata": {},
   "source": [
    "Constraints:(LINERARIZATION)\n",
    "\n",
    "$x + m_{e}^{+} - m_{e}^{-} = \\bar{x}_{e}$ $\\forall e \\in E$\n",
    "\n",
    "$y + n_{e}^{+} - n_{e}^{-} = \\bar{y}_{e}$ $\\forall e \\in E$\n",
    "\n",
    "$m_{e}^{+}>=0,     \\forall e\\in E$,\n",
    "\n",
    "$m_{e}^{-}>=0,     \\forall e\\in E$,\n",
    "\n",
    "$n_{e}^{+}>=0,     \\forall e\\in E$,\n",
    "\n",
    "$n_{e}^{-}>=0,     \\forall e\\in E$,"
   ]
  },
  {
   "cell_type": "markdown",
   "metadata": {},
   "source": [
    "Constraints: (EITHER-OR CONSTRAINTS)\n",
    "\n",
    "$x <= -2 + (M a_{r}), r = 1$\n",
    "\n",
    "$x >= 2 - (M a_{r}), r = 2$\n",
    "\n",
    "$y <= -2 + (M a_{r}), r = 3$\n",
    "\n",
    "$y >= 2 - (M a_{r}), r = 4$\n",
    "\n",
    "$\\sum_{r \\in R} a_{r} = 3$"
   ]
  },
  {
   "cell_type": "code",
   "execution_count": null,
   "metadata": {},
   "outputs": [],
   "source": [
    "M = 10 #Big-M\n",
    "# Generate the Variables via LpVariable()\n",
    "x = LpVariable(\"x\",None,None,LpContinuous)\n",
    "y = LpVariable(\"y\",None,None,LpContinuous)\n",
    "mePlus = {}\n",
    "for e in E:\n",
    "    mePlus[e]= LpVariable(\"mePlus_%s\"%(e),0,None,LpContinuous)\n",
    "meMinus = {}\n",
    "for e in E:\n",
    "    meMinus[e]= LpVariable(\"meMinus%s\"%(e),0,None,LpContinuous)\n",
    "nePlus = {}\n",
    "for e in E:\n",
    "    nePlus[e]= LpVariable(\"nePlus_%s\"%(e),0,None,LpContinuous)\n",
    "neMinus = {}\n",
    "for e in E:\n",
    "    neMinus[e]= LpVariable(\"neMinus_%s\"%(e),0,None,LpContinuous)\n",
    "### Generate Problem&Solver via LpProblem()\n",
    "prob = LpProblem(\"Training Q3\",LpMinimize)\n",
    "### Adding Objective Function to Prob\n",
    "prob += lpSum([mePlus[e]+meMinus[e]+nePlus[e]+neMinus[e] for e in E])\n",
    "## Set Linearization constraints\n",
    "for e in E:\n",
    "    prob += x+mePlus[e]-meMinus[e]==xbar[e]\n",
    "for e in E:\n",
    "    prob += y+nePlus[e]-neMinus[e]==ybar[e]"
   ]
  },
  {
   "cell_type": "code",
   "execution_count": null,
   "metadata": {},
   "outputs": [],
   "source": [
    "## Generate a Set for Rectangle Edges\n"
   ]
  },
  {
   "cell_type": "code",
   "execution_count": null,
   "metadata": {},
   "outputs": [],
   "source": [
    "## Generate the Binary Variables\n",
    "\n"
   ]
  },
  {
   "cell_type": "code",
   "execution_count": null,
   "metadata": {},
   "outputs": [],
   "source": [
    "## Set Big-M\n"
   ]
  },
  {
   "cell_type": "code",
   "execution_count": null,
   "metadata": {},
   "outputs": [],
   "source": [
    "## Set Either-Or Constraints\n"
   ]
  },
  {
   "cell_type": "code",
   "execution_count": null,
   "metadata": {},
   "outputs": [],
   "source": [
    "import time\n",
    "\n",
    "start = time.time()\n",
    "## Solve model\n",
    "prob.solve()\n",
    "end = time.time()\n",
    "print(pulp.LpStatus[prob.status], \"solution in: \", float(end - start), \"sec\")"
   ]
  },
  {
   "cell_type": "code",
   "execution_count": null,
   "metadata": {},
   "outputs": [],
   "source": [
    "## Print variables with value greater than 0 \n",
    "for v in prob.variables(): \n",
    "    print(v.name, \"=\", v.varValue)\n",
    "\n",
    "# Print The optimal objective function value\n",
    "print(\"Total Rectilinear Distance = \", pulp.value(prob.objective))"
   ]
  },
  {
   "cell_type": "markdown",
   "metadata": {},
   "source": [
    "This model is called MIXED INTEGER LINEAR PROGRAMMING (MILP), which has both integer and continuous variables !!"
   ]
  },
  {
   "cell_type": "markdown",
   "metadata": {},
   "source": [
    "### What if we were asked to minimize the Euclidean distance for this problem?\n",
    "\n",
    "Then the model would be a MIXED INTEGER NONLINEAR PROGRAMMING (MINLP)\n",
    "\n",
    "A general preference;\n",
    "\n",
    "LP -> MILP -> ILP -> NLP -> MINLP "
   ]
  },
  {
   "cell_type": "markdown",
   "metadata": {},
   "source": [
    "## What have we gone through so far?"
   ]
  },
  {
   "cell_type": "markdown",
   "metadata": {},
   "source": [
    "1. Modelling a MILP \n",
    "2. Modelling with Either-Or Constraints\n",
    "3. MINLP"
   ]
  },
  {
   "cell_type": "markdown",
   "metadata": {},
   "source": [
    "## IT'S YOUR TURN NOW !!"
   ]
  },
  {
   "cell_type": "code",
   "execution_count": 7,
   "metadata": {},
   "outputs": [
    {
     "data": {
      "image/png": "[encoded data removed]",
      "text/plain": [
       "<Figure size 432x288 with 1 Axes>"
      ]
     },
     "metadata": {},
     "output_type": "display_data"
    }
   ],
   "source": [
    "%matplotlib inline\n",
    "import matplotlib.pyplot as plt\n",
    "plt.style.use('seaborn-whitegrid')\n",
    "import numpy as np\n",
    "plt.axvline(x=1)\n",
    "plt.axvline(x=2)\n",
    "plt.axhline(y=-1)\n",
    "plt.axhline(y=-2)\n",
    "plt.axvline(x=-3)\n",
    "plt.axvline(x=-2)\n",
    "plt.axhline(y=4)\n",
    "plt.axhline(y=3)\n",
    "#plt.plot(0, a, '-g')  # solid green\n",
    "x = [0,2,-3,-1.5,1.5,-2.5]\n",
    "y = [4,1.5,2.5,-2.5,-1.5,3.5]\n",
    "color=['y','g','r','b','k','k']\n",
    "markers = ['o','+']\n",
    "for i in range(0,len(x)):\n",
    "    if i<len(x)-2:\n",
    "        scatter(x[i],y[i], s=100 ,marker=markers[0], c=color[i])\n",
    "    else:\n",
    "        scatter(x[i],y[i], s=100 ,marker=markers[1], c=color[i])\n",
    "\n",
    "#plot(a, b)\n",
    "\n",
    "show()\n"
   ]
  },
  {
   "cell_type": "markdown",
   "metadata": {},
   "source": [
    "Find the location of the point X inside one of the rectangles with  black cross to minimize the total rectilinear distance from the point $X$ to $\\bar{X}_{e}$."
   ]
  },
  {
   "cell_type": "markdown",
   "metadata": {},
   "source": [
    "FIRST: THINK about the OBJECTIVE FUNCTION and CONSTRAINTS.\n",
    "\n",
    "SECOND: THINK about the SETS, PARAMETERS and VARIABLES.\n",
    "\n",
    "THIRD: WRITE DOWN YOUR MODEL ON A PIECE OF PAPER.\n",
    "\n",
    "FOURTH: CODE !!"
   ]
  },
  {
   "cell_type": "code",
   "execution_count": null,
   "metadata": {},
   "outputs": [],
   "source": [
    "# Sets\n"
   ]
  },
  {
   "cell_type": "code",
   "execution_count": null,
   "metadata": {},
   "outputs": [],
   "source": [
    "# Parameters\n",
    "xbar = {}\n",
    "ybar = {}\n",
    "xbar['red'] = -3\n",
    "ybar['red'] = 2.5\n",
    "xbar['yellow'] = 0 \n",
    "ybar['yellow'] = 4\n",
    "xbar['green'] = 2\n",
    "ybar['green'] = 1.5\n",
    "xbar['blue'] = -1.5\n",
    "ybar['blue'] = -2.5\n",
    "M = 10"
   ]
  },
  {
   "cell_type": "code",
   "execution_count": null,
   "metadata": {},
   "outputs": [],
   "source": [
    "# Variables\n"
   ]
  },
  {
   "cell_type": "code",
   "execution_count": null,
   "metadata": {},
   "outputs": [],
   "source": [
    "### Generate Problem&Solver via LpProblem()\n",
    "prob = LpProblem(\"Training Q4\",LpMinimize)"
   ]
  },
  {
   "cell_type": "code",
   "execution_count": null,
   "metadata": {},
   "outputs": [],
   "source": [
    "# Objective Function\n"
   ]
  },
  {
   "cell_type": "code",
   "execution_count": null,
   "metadata": {},
   "outputs": [],
   "source": [
    "# Constraints\n",
    "## Linearization\n",
    "for e in E:\n",
    "    prob += x+mePlus[e]-meMinus[e]==xbar[e]\n",
    "for e in E:\n",
    "    prob += y+nePlus[e]-neMinus[e]==ybar[e]\n",
    "## Defining Feasible Solution Space\n",
    "\n"
   ]
  },
  {
   "cell_type": "code",
   "execution_count": null,
   "metadata": {},
   "outputs": [],
   "source": [
    "import time\n",
    "\n",
    "start = time.time()\n",
    "## Solve model\n",
    "prob.solve()\n",
    "end = time.time()\n",
    "print(pulp.LpStatus[prob.status], \"solution in: \", float(end - start), \"sec\")"
   ]
  },
  {
   "cell_type": "code",
   "execution_count": null,
   "metadata": {},
   "outputs": [],
   "source": [
    "## Print all optimal variable values \n",
    "\n",
    "\n"
   ]
  },
  {
   "cell_type": "markdown",
   "metadata": {},
   "source": [
    "## WELL DONE :)\n",
    "\n",
    "- You have modelled a MILP by using either-or constraints and Big-M.\n",
    "\n",
    "- You used CBC solver through Pulp to solve the model and find the optimal solution. "
   ]
  },
  {
   "cell_type": "markdown",
   "metadata": {},
   "source": [
    "## Something to try at home, if you are interested. "
   ]
  },
  {
   "cell_type": "markdown",
   "metadata": {},
   "source": [
    "Consider the problem Q3 (with the big rectangle).\n",
    "\n",
    "- Objective is the same. Minimizing the total rectilinear distance.\n",
    "\n",
    "- There is an additional constraint. Travelling through the rectangle is forbidden this time. \n",
    "\n",
    "- You can send me your ideas or solution through email, happy to look at and answer any questions."
   ]
  },
  {
   "cell_type": "markdown",
   "metadata": {},
   "source": [
    "## What have we gone through so far?"
   ]
  },
  {
   "cell_type": "markdown",
   "metadata": {},
   "source": [
    "1. Defining Sets, Parameters and Variables\n",
    "\n",
    "    - Continuous Variables vs. Integer Variables\n",
    "    \n",
    "\n",
    "2. Modelling\n",
    "\n",
    "    - LP vs. NLP\n",
    "    \n",
    "    - MILP vs. MINLP.\n",
    "    \n",
    "\n",
    "3. Defining Objectives\n",
    "\n",
    "\n",
    "4. Defining Solution Spaces\n",
    "\n",
    "    - Either-OR constraints and Big-M\n",
    "    \n",
    "    \n",
    "5. Using Pulp to solve Linear Models\n",
    "\n",
    "\n",
    "6. BONUS: Linearization of Absolute Value Function"
   ]
  },
  {
   "cell_type": "markdown",
   "metadata": {},
   "source": [
    "# 4. A More TESCO-ish Problem: Assignment Problem"
   ]
  },
  {
   "cell_type": "markdown",
   "metadata": {},
   "source": [
    "## Problem Statement: \n",
    "\n",
    "- Assume that there is a set of stores that has to be assigned to a set of uncapacitated warehouses to fulfill their daily demand in a return of an assignment cost. Additionally, there is a cost to run a warehouse.\n",
    "\n",
    "- It is also assumed that a store cannot be assigned to more than one warehouse.\n"
   ]
  },
  {
   "cell_type": "markdown",
   "metadata": {},
   "source": [
    "### Sets:"
   ]
  },
  {
   "cell_type": "markdown",
   "metadata": {},
   "source": [
    "$I$: Set of Stores\n",
    "    \n",
    "$J$: Set of Warehouses"
   ]
  },
  {
   "cell_type": "code",
   "execution_count": null,
   "metadata": {},
   "outputs": [],
   "source": [
    "I = {'S1','S2','S3','S4','S5','S6','S7','S8','S9','S10'}\n",
    "J = {'W1','W2','W3','W4','W5'}"
   ]
  },
  {
   "cell_type": "markdown",
   "metadata": {},
   "source": [
    "### Parameters:"
   ]
  },
  {
   "cell_type": "markdown",
   "metadata": {},
   "source": [
    "$c_{ij}$: Cost to assign store $i$ to warehouse $j$.\n",
    "\n",
    "$p_{j}$: Cost to run a warehouse $j$.    "
   ]
  },
  {
   "cell_type": "code",
   "execution_count": null,
   "metadata": {},
   "outputs": [],
   "source": [
    "c = {}\n",
    "c['S1','W1']=10\n",
    "c['S1','W2']=7\n",
    "c['S1','W3']=5\n",
    "c['S1','W4']=8\n",
    "c['S1','W5']=12\n",
    "c['S2','W1']=6\n",
    "c['S2','W2']=9\n",
    "c['S2','W3']=13\n",
    "c['S2','W4']=7\n",
    "c['S2','W5']=4\n",
    "c['S3','W1']=11\n",
    "c['S3','W2']=3\n",
    "c['S3','W3']=6\n",
    "c['S3','W4']=5\n",
    "c['S3','W5']=12\n",
    "c['S4','W1']=8\n",
    "c['S4','W2']=4\n",
    "c['S4','W3']=7\n",
    "c['S4','W4']=6\n",
    "c['S4','W5']=9\n",
    "c['S5','W1']=14\n",
    "c['S5','W2']=13\n",
    "c['S5','W3']=12\n",
    "c['S5','W4']=11\n",
    "c['S5','W5']=10\n",
    "c['S6','W1']=17\n",
    "c['S6','W2']=18\n",
    "c['S6','W3']=19\n",
    "c['S6','W4']=20\n",
    "c['S6','W5']=21\n",
    "c['S7','W1']=100\n",
    "c['S7','W2']=20\n",
    "c['S7','W3']=5\n",
    "c['S7','W4']=40\n",
    "c['S7','W5']=100\n",
    "c['S8','W1']=45\n",
    "c['S8','W2']=30\n",
    "c['S8','W3']=35\n",
    "c['S8','W4']=25\n",
    "c['S8','W5']=40\n",
    "c['S9','W1']=10\n",
    "c['S9','W2']=40\n",
    "c['S9','W3']=50\n",
    "c['S9','W4']=30\n",
    "c['S9','W5']=20\n",
    "c['S10','W1']=15\n",
    "c['S10','W2']=30\n",
    "c['S10','W3']=23\n",
    "c['S10','W4']=45\n",
    "c['S10','W5']=11\n",
    "p = {}\n",
    "p['W1']=100\n",
    "p['W2']=15\n",
    "p['W3']=200\n",
    "p['W4']=25\n",
    "p['W5']=30\n",
    "M = len(I)+1"
   ]
  },
  {
   "cell_type": "markdown",
   "metadata": {},
   "source": [
    "### Variables: "
   ]
  },
  {
   "cell_type": "markdown",
   "metadata": {},
   "source": [
    "$x_{ij}$: Takes $1$, if store $i$ is assigned to warehouse $j$. Otherwise, $0$.\n",
    "\n",
    "$y_{j}$: Takes $1$, if warehouse $j$ is working."
   ]
  },
  {
   "cell_type": "code",
   "execution_count": null,
   "metadata": {},
   "outputs": [],
   "source": [
    "# Generate Variables in Pulp\n",
    "x = {}\n",
    "for i in I:\n",
    "    for j in J:\n",
    "        x[i,j]= LpVariable(\"x_%s_%s\"%(i,j),0,1,LpInteger)\n",
    "y = {}\n",
    "for j in J:\n",
    "    y[j] = LpVariable(\"y_%s\"%(j),0,1,LpInteger)\n"
   ]
  },
  {
   "cell_type": "code",
   "execution_count": null,
   "metadata": {},
   "outputs": [],
   "source": [
    "# Generate Problem/Solver\n",
    "prob = LpProblem(\"Training Q5\",LpMinimize)"
   ]
  },
  {
   "cell_type": "markdown",
   "metadata": {},
   "source": [
    "### Objective Function:"
   ]
  },
  {
   "cell_type": "markdown",
   "metadata": {},
   "source": [
    "$$\\min\\sum_{i\\in I}\\sum_{j\\in J} c_{ij}x_{ij} + \\sum_{j\\in J} p_{j}y_{j}$$"
   ]
  },
  {
   "cell_type": "code",
   "execution_count": null,
   "metadata": {},
   "outputs": [],
   "source": [
    "# Add the Objective Function\n",
    "prob += lpSum(c[i,j]*x[i,j] for i in I for j in J) + lpSum(p[j]*y[j] for j in J)"
   ]
  },
  {
   "cell_type": "markdown",
   "metadata": {},
   "source": [
    "$$ \\sum_{j \\in J} x_{ij} = 1,\\forall\\:i \\in I$$"
   ]
  },
  {
   "cell_type": "code",
   "execution_count": null,
   "metadata": {},
   "outputs": [],
   "source": [
    "# Add Constraints #1\n",
    "for i in I:\n",
    "    prob += lpSum(x[i,j] for j in J) == 1"
   ]
  },
  {
   "cell_type": "markdown",
   "metadata": {},
   "source": [
    "$$ \\sum_{i \\in I} x_{ij} = M y_{j},\\forall\\:j \\in J$$"
   ]
  },
  {
   "cell_type": "code",
   "execution_count": null,
   "metadata": {},
   "outputs": [],
   "source": [
    "# Add Constraint #2\n",
    "for j in J:\n",
    "    prob += lpSum(x[i,j] for i in I) <= M * y[j] "
   ]
  },
  {
   "cell_type": "markdown",
   "metadata": {},
   "source": [
    "$$ x_{ij} \\in \\{0,1\\}, \\forall\\:i \\in I, j \\in J$$\n",
    "$$ y_{j} \\in \\{0,1\\}, \\forall\\:j \\in J$$"
   ]
  },
  {
   "cell_type": "code",
   "execution_count": null,
   "metadata": {},
   "outputs": [],
   "source": [
    "import time\n",
    "\n",
    "start = time.time()\n",
    "## Solve model\n",
    "prob.solve()\n",
    "end = time.time()\n",
    "print(pulp.LpStatus[prob.status], \"solution in: \", float(end - start), \"sec\")"
   ]
  },
  {
   "cell_type": "code",
   "execution_count": null,
   "metadata": {
    "scrolled": true
   },
   "outputs": [],
   "source": [
    "## Print variables with value greater than 0 \n",
    "for v in prob.variables():\n",
    "    if v.varValue > 0:\n",
    "        print(v.name, \"=\", v.varValue)\n",
    "\n",
    "# Print The optimal objective function value\n",
    "print(\"Total Cost = \", pulp.value(prob.objective))"
   ]
  },
  {
   "cell_type": "markdown",
   "metadata": {},
   "source": [
    "# 5. Extended TESCO-ish Problem: Stochastic Assignment Problem"
   ]
  },
  {
   "cell_type": "markdown",
   "metadata": {},
   "source": [
    "## LET'S DO THIS TOGETHER !!"
   ]
  },
  {
   "cell_type": "markdown",
   "metadata": {},
   "source": [
    "## Problem Statement: \n",
    "\n",
    "- Assume that there is a set of stores that has to be assigned to a set of uncapacitated warehouses to fulfill their daily demand in a return of an assignment cost. Additionally, there is a cost to run a warehouse.\n",
    "\n",
    "- It is also assumed that a store cannot be assigned to more than one warehouse.\n",
    "\n",
    "- In this Dreamland, there are two scenarios for weather, which are sunny and rainy. With $60$% probability the weather is sunny, and with $40$% probability the weather is rainy.\n",
    "\n",
    "- If the weather is rainy, the cost of assigning stores to warehouses changes.  "
   ]
  },
  {
   "cell_type": "markdown",
   "metadata": {},
   "source": [
    "### Objective Function:"
   ]
  },
  {
   "cell_type": "markdown",
   "metadata": {},
   "source": [
    "HINT: We need to minimize the expected assignment cost, plus the cost of running a warehouse. "
   ]
  },
  {
   "cell_type": "markdown",
   "metadata": {},
   "source": [
    "HINT: Expected value (of a discrete random variable)\n",
    "\n",
    " $$E(X) = \\sum x P(X = x)$$"
   ]
  },
  {
   "cell_type": "markdown",
   "metadata": {},
   "source": [
    "### Sets:"
   ]
  },
  {
   "cell_type": "markdown",
   "metadata": {},
   "source": [
    "$I$: Set of Stores\n",
    "    \n",
    "$J$: Set of Warehouses\n",
    "    \n",
    "$S$: Set of Scenarios"
   ]
  },
  {
   "cell_type": "code",
   "execution_count": null,
   "metadata": {},
   "outputs": [],
   "source": [
    "I = {'S1','S2','S3','S4','S5','S6','S7','S8','S9','S10'}\n",
    "J = {'W1','W2','W3','W4','W5'}\n",
    "S = {'Sunny', 'Rainy'}"
   ]
  },
  {
   "cell_type": "markdown",
   "metadata": {},
   "source": [
    "### Parameters:"
   ]
  },
  {
   "cell_type": "markdown",
   "metadata": {},
   "source": [
    "$c_{sij}$: Cost to assign store $i$ to warehouse $j$ in scenario $s$.\n",
    "\n",
    "$p_{j}$: Cost to run a warehouse $j$.    "
   ]
  },
  {
   "cell_type": "code",
   "execution_count": null,
   "metadata": {},
   "outputs": [],
   "source": [
    "pr = {}\n",
    "pr['Sunny'] = 0.6\n",
    "pr['Rainy'] = 0.4\n",
    "c = {}\n",
    "c['Sunny','S1','W1']=10\n",
    "c['Sunny','S1','W2']=7\n",
    "c['Sunny','S1','W3']=5\n",
    "c['Sunny','S1','W4']=8\n",
    "c['Sunny','S1','W5']=12\n",
    "c['Sunny','S2','W1']=6\n",
    "c['Sunny','S2','W2']=9\n",
    "c['Sunny','S2','W3']=13\n",
    "c['Sunny','S2','W4']=7\n",
    "c['Sunny','S2','W5']=4\n",
    "c['Sunny','S3','W1']=11\n",
    "c['Sunny','S3','W2']=3\n",
    "c['Sunny','S3','W3']=6\n",
    "c['Sunny','S3','W4']=5\n",
    "c['Sunny','S3','W5']=12\n",
    "c['Sunny','S4','W1']=8\n",
    "c['Sunny','S4','W2']=4\n",
    "c['Sunny','S4','W3']=7\n",
    "c['Sunny','S4','W4']=6\n",
    "c['Sunny','S4','W5']=9\n",
    "c['Sunny','S5','W1']=14\n",
    "c['Sunny','S5','W2']=13\n",
    "c['Sunny','S5','W3']=12\n",
    "c['Sunny','S5','W4']=11\n",
    "c['Sunny','S5','W5']=10\n",
    "c['Sunny','S6','W1']=17\n",
    "c['Sunny','S6','W2']=18\n",
    "c['Sunny','S6','W3']=19\n",
    "c['Sunny','S6','W4']=20\n",
    "c['Sunny','S6','W5']=21\n",
    "c['Sunny','S7','W1']=100\n",
    "c['Sunny','S7','W2']=20\n",
    "c['Sunny','S7','W3']=5\n",
    "c['Sunny','S7','W4']=40\n",
    "c['Sunny','S7','W5']=100\n",
    "c['Sunny','S8','W1']=45\n",
    "c['Sunny','S8','W2']=30\n",
    "c['Sunny','S8','W3']=35\n",
    "c['Sunny','S8','W4']=25\n",
    "c['Sunny','S8','W5']=40\n",
    "c['Sunny','S9','W1']=10\n",
    "c['Sunny','S9','W2']=40\n",
    "c['Sunny','S9','W3']=50\n",
    "c['Sunny','S9','W4']=30\n",
    "c['Sunny','S9','W5']=20\n",
    "c['Sunny','S10','W1']=15\n",
    "c['Sunny','S10','W2']=30\n",
    "c['Sunny','S10','W3']=23\n",
    "c['Sunny','S10','W4']=45\n",
    "c['Sunny','S10','W5']=11\n",
    "c['Rainy','S1','W1']=101\n",
    "c['Rainy','S1','W2']=107\n",
    "c['Rainy','S1','W3']=105\n",
    "c['Rainy','S1','W4']=108\n",
    "c['Rainy','S1','W5']=121\n",
    "c['Rainy','S2','W1']=60\n",
    "c['Rainy','S2','W2']=90\n",
    "c['Rainy','S2','W3']=130\n",
    "c['Rainy','S2','W4']=70\n",
    "c['Rainy','S2','W5']=40\n",
    "c['Rainy','S3','W1']=11\n",
    "c['Rainy','S3','W2']=30\n",
    "c['Rainy','S3','W3']=60\n",
    "c['Rainy','S3','W4']=50\n",
    "c['Rainy','S3','W5']=120\n",
    "c['Rainy','S4','W1']=80\n",
    "c['Rainy','S4','W2']=40\n",
    "c['Rainy','S4','W3']=70\n",
    "c['Rainy','S4','W4']=60\n",
    "c['Rainy','S4','W5']=90\n",
    "c['Rainy','S5','W1']=43\n",
    "c['Rainy','S5','W2']=63\n",
    "c['Rainy','S5','W3']=52\n",
    "c['Rainy','S5','W4']=21\n",
    "c['Rainy','S5','W5']=80\n",
    "c['Rainy','S6','W1']=77\n",
    "c['Rainy','S6','W2']=48\n",
    "c['Rainy','S6','W3']=59\n",
    "c['Rainy','S6','W4']=90\n",
    "c['Rainy','S6','W5']=61\n",
    "c['Rainy','S7','W1']=100\n",
    "c['Rainy','S7','W2']=70\n",
    "c['Rainy','S7','W3']=500\n",
    "c['Rainy','S7','W4']=40\n",
    "c['Rainy','S7','W5']=100\n",
    "c['Rainy','S8','W1']=85\n",
    "c['Rainy','S8','W2']=40\n",
    "c['Rainy','S8','W3']=35\n",
    "c['Rainy','S8','W4']=28\n",
    "c['Rainy','S8','W5']=41\n",
    "c['Rainy','S9','W1']=100\n",
    "c['Rainy','S9','W2']=87\n",
    "c['Rainy','S9','W3']=76\n",
    "c['Rainy','S9','W4']=39\n",
    "c['Rainy','S9','W5']=51\n",
    "c['Rainy','S10','W1']=250\n",
    "c['Rainy','S10','W2']=100\n",
    "c['Rainy','S10','W3']=130\n",
    "c['Rainy','S10','W4']=150\n",
    "c['Rainy','S10','W5']=310\n",
    "p = {}\n",
    "p['W1']=100\n",
    "p['W2']=15\n",
    "p['W3']=200\n",
    "p['W4']=25\n",
    "p['W5']=30\n",
    "M = len(I)+1"
   ]
  },
  {
   "cell_type": "markdown",
   "metadata": {},
   "source": [
    "### Variables: "
   ]
  },
  {
   "cell_type": "markdown",
   "metadata": {},
   "source": [
    "$x_{sij}$: Takes $1$, if store $i$ is assigned to warehouse $j$ in scenario $s$. Otherwise, $0$.\n",
    "\n",
    "$y_{j}$: Takes $1$, if warehouse $j$ is working."
   ]
  },
  {
   "cell_type": "code",
   "execution_count": null,
   "metadata": {},
   "outputs": [],
   "source": [
    "# Generate Variables in Pulp\n"
   ]
  },
  {
   "cell_type": "code",
   "execution_count": null,
   "metadata": {},
   "outputs": [],
   "source": [
    "# Generate Problem/Solver\n",
    "prob = LpProblem(\"Training Q5\",LpMinimize)"
   ]
  },
  {
   "cell_type": "code",
   "execution_count": null,
   "metadata": {},
   "outputs": [],
   "source": [
    "# Add the Objective Function\n"
   ]
  },
  {
   "cell_type": "code",
   "execution_count": null,
   "metadata": {},
   "outputs": [],
   "source": [
    "# Add constraints\n"
   ]
  },
  {
   "cell_type": "code",
   "execution_count": null,
   "metadata": {},
   "outputs": [],
   "source": [
    "import time\n",
    "\n",
    "start = time.time()\n",
    "## Solve model\n",
    "prob.solve()\n",
    "end = time.time()\n",
    "print(pulp.LpStatus[prob.status], \"solution in: \", float(end - start), \"sec\")"
   ]
  },
  {
   "cell_type": "code",
   "execution_count": null,
   "metadata": {},
   "outputs": [],
   "source": [
    "## Print variables with value greater than 0 \n",
    "for v in prob.variables():\n",
    "    if v.varValue > 0:\n",
    "        print(v.name, \"=\", v.varValue)\n",
    "\n",
    "# Print The optimal objective function value\n",
    "print(\"Total Cost = \", pulp.value(prob.objective))"
   ]
  },
  {
   "cell_type": "markdown",
   "metadata": {},
   "source": [
    "We just modelled a stochastic problem as a TWO STAGE STOCHASTIC PROGRAMMING, and solved it by using a linear solver!"
   ]
  },
  {
   "cell_type": "markdown",
   "metadata": {},
   "source": [
    "# We reached the end of our training today."
   ]
  },
  {
   "cell_type": "markdown",
   "metadata": {},
   "source": [
    "# THINGS THAT WE HAD COVERED TODAY"
   ]
  },
  {
   "cell_type": "markdown",
   "metadata": {},
   "source": [
    "1. Sets, Parameters and Variables\n",
    "    - Continuous Variables and Integer Variables\n",
    "\n",
    "\n",
    "2. Objective Functions\n",
    "\n",
    "\n",
    "3. Constraint Sets\n",
    "    - Unbounded and Bounded Feasible Solution Space\n",
    "    \n",
    "\n",
    "4. Linear Programming vs. NonLinear Programming\n",
    "    - LP, NLP, MILP, MINLP\n",
    "    \n",
    "\n",
    "5. Using Pulp to solve Linear Programming Models\n",
    "\n",
    "\n",
    "6. Modelling with Either-Or Constraints and Big-M.\n",
    "\n",
    "\n",
    "7. Integer Linear Programming (ILP)\n",
    "\n",
    "\n",
    "8. Deterministic and Stochastic Problems"
   ]
  },
  {
   "cell_type": "markdown",
   "metadata": {},
   "source": [
    "# IF YOU ARE STILL INTERESTED, PLEASE SEND ME YOUR MODELLING THOUGHTS AND SOLUTIONS FOR Q3, WHERE TRAVELLING THROUGH THE RECTANGLE IS FORBIDDEN."
   ]
  },
  {
   "cell_type": "code",
   "execution_count": null,
   "metadata": {},
   "outputs": [],
   "source": []
  }
 ],
 "metadata": {
  "kernelspec": {
   "display_name": "Python 3",
   "language": "python",
   "name": "python3"
  },
  "language_info": {
   "codemirror_mode": {
    "name": "ipython",
    "version": 3
   },
   "file_extension": ".py",
   "mimetype": "text/x-python",
   "name": "python",
   "nbconvert_exporter": "python",
   "pygments_lexer": "ipython3",
   "version": "3.7.0"
  }
 },
 "nbformat": 4,
 "nbformat_minor": 2
}
