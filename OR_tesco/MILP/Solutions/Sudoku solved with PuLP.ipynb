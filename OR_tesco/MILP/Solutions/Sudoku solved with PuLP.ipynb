{
 "cells": [
  {
   "cell_type": "code",
   "execution_count": 1,
   "metadata": {},
   "outputs": [],
   "source": [
    "from pulp import *\n",
    "import numpy as np"
   ]
  },
  {
   "cell_type": "markdown",
   "metadata": {},
   "source": [
    "## Sudoku rules\n",
    "\n",
    "The classic Sudoku game involves a grid of 81 squares. The grid is divided into nine blocks, each containing nine squares\n",
    "\n",
    "The rules of the game are simple: \n",
    "* Each of the nine blocks has to contain all the numbers 1-9 within its squares. \n",
    "* Each number can only appear once in a row, column or box.\n",
    "\n",
    "source: http://www.counton.org/sudoku/rules-of-sudoku.php"
   ]
  },
  {
   "cell_type": "code",
   "execution_count": 2,
   "metadata": {},
   "outputs": [],
   "source": [
    "problem_board =    [[0, 0, 0, 6, 0, 0, 0, 1, 0],\n",
    "                   [0, 7, 2, 0, 0, 0, 0, 0, 0],\n",
    "                   [0, 8, 0, 0, 4, 0, 0, 0, 0],\n",
    "                   [5, 0, 0, 3, 0, 9, 0, 0, 0],\n",
    "                   [0, 0, 0, 0, 7, 0, 8, 0, 0],\n",
    "                   [6, 0, 0, 0, 0, 0, 0, 0, 0],\n",
    "                   [3, 0, 0, 9, 0, 0, 0, 0, 5],\n",
    "                   [0, 4, 0, 0, 0, 0, 7, 0, 0],\n",
    "                   [0, 0, 0, 0, 0, 0, 0, 0, 0]]"
   ]
  },
  {
   "cell_type": "markdown",
   "metadata": {},
   "source": [
    "## Mathematical programming formulation\n",
    "by Francesco Bucci &copy;\n",
    "\n",
    "### Notation and parameters\n",
    "* $s$: size of one of the board dimentions\n",
    "* $R = \\{1,2, ..., s\\}$: is the set of rows\n",
    "* $C = \\{1,2, ..., s\\}$: is the set of columns\n",
    "* $N = \\{1,2, ..., s\\}$: is the set of allowed numbers\n",
    "* $B$: is the set of tuples $(row, column, number)$ with the given numbers on the initial board  \n",
    "* $L = \\{ \\{1,2,3\\}, \\{4,5,6\\}, ... , \\{s-3,s-1,s\\}\\}$: are set of set to help define the sub-blocks of the board\n",
    "* $B_{(l_i,l_j)} = \\{(i,j) | i \\in l_i,\\; j \\in l_j\\}, l_i \\in L,\\; l_j \\in L$ : contains the $(row, column)$ tuples for each blocks of the board\n",
    "\n"
   ]
  },
  {
   "cell_type": "code",
   "execution_count": 14,
   "metadata": {},
   "outputs": [],
   "source": [
    "s = 9 # size of one of the board dimentions\n",
    "C = set(range(1,s+1))\n",
    "R = set(range(1,s+1))\n",
    "N = set(range(1,s+1))\n",
    "B={}\n",
    "\n",
    "L=list()\n",
    "for l in range(1,s,3):\n",
    "    L.append(set(range(l,l+3)))\n",
    "    \n",
    "Bl = {}\n",
    "count =1\n",
    "for li in L:\n",
    "    for lj in L:\n",
    "        Bl[count] = set([(i,j) for i in li for j in lj])\n",
    "        count +=1\n",
    "        \n",
    "    \n",
    "# Create tuples from initial board\n",
    "for i in range(s):\n",
    "    for j in range(s):\n",
    "        if problem_board[i][j]>0:\n",
    "            B[(i+1,j+1)] = problem_board[i][j]\n"
   ]
  },
  {
   "cell_type": "markdown",
   "metadata": {},
   "source": [
    "### Decision variables\n",
    "\n",
    "* $b_{i,j}^n,\\in \\{0,1\\},  i\\in R,  j\\in C, n\\in N$: takes value 1 if in cell $i,j$ number $n$ is assigned, otherwise 0\n",
    "*"
   ]
  },
  {
   "cell_type": "code",
   "execution_count": 4,
   "metadata": {},
   "outputs": [],
   "source": [
    "prob = LpProblem()\n",
    "b_ij_n = {}\n",
    "for n in N:\n",
    "    for i in R:\n",
    "        for j in C:\n",
    "            b_ij_n[(i,j,n)] = LpVariable(\"b_%s,%s_%s\"%(i,j,n),lowBound=0,upBound=1,cat=\"Binary \")"
   ]
  },
  {
   "cell_type": "markdown",
   "metadata": {},
   "source": [
    "## Constraints\n",
    "\n",
    "$$ \\sum_{j \\in C} b_{ij}^n = 1,\\forall\\:n \\in N,\\forall\\:i \\in R\\;\\;(1.)$$ Each number can appear only once in each row\n",
    "$$ \\sum_{i \\in R} b_{ij}^n = 1,\\forall\\:n \\in N,\\forall\\:j \\in C\\;\\;(2.)$$ Each number can appear only once in each column\n",
    "$$ \\sum_{ (i,j) \\in l} b_{ij}^n = 1,\\forall\\:n \\in N,\\forall\\:l \\in Bl\\;\\;(3.)$$ Each number can appear only once in each 3x3 square\n",
    "$$ \\sum_{n \\in N} b_{ij}^n = 1,\\forall\\:i \\in R,\\forall\\:j \\in C\\;\\;(4.)$$ Each cell can only be activated for one of the n boards\n",
    "$$  b_{ij}^n = 1,\\forall\\:(i,j,n) \\in B\\;(5.)$$ Assign variable values from the initial board"
   ]
  },
  {
   "cell_type": "code",
   "execution_count": 5,
   "metadata": {},
   "outputs": [],
   "source": [
    "#1 each number can appear only once in each row\n",
    "for n in N: # for each number\n",
    "    for i in R: # for each row\n",
    "        prob += lpSum([b_ij_n[(i,j,n)] for j in C]) == 1\n",
    "        \n",
    "#2 each number can appear only once in each column\n",
    "for n in N: # for each number\n",
    "    for j in C: # for each column\n",
    "        prob += lpSum([b_ij_n[(i,j,n)] for i in R]) == 1\n",
    "        \n",
    "#3 each number can appear only once in each 3x3 square\n",
    "for n in N:\n",
    "    for l in Bl:\n",
    "        prob += lpSum(b_ij_n[(i,j,n)] for (i,j) in Bl[l]) == 1\n",
    "        \n",
    "#4 each cell can only be activated for one of the n boards:\n",
    "# it means that there can be only one number in a given cell\n",
    "for i in R:\n",
    "    for j in C:\n",
    "        prob += lpSum(b_ij_n[(i,j,n)] for n in N) == 1\n",
    "        \n",
    "#5 Assign variable values from the initial board\n",
    "for (i,j) in B:\n",
    "    prob += b_ij_n[(i,j,B[(i,j)])] == 1"
   ]
  },
  {
   "cell_type": "code",
   "execution_count": 6,
   "metadata": {},
   "outputs": [],
   "source": [
    "# might be redundant as an objective function\n",
    "# It will minimise the number of cells filled with numbers\n",
    "# which is going to be always 81 if the problem is solved correcty\n",
    "prob += lpSum([b_ij_n[(i,j,n)] for i in R for j in C for n in N])"
   ]
  },
  {
   "cell_type": "code",
   "execution_count": 7,
   "metadata": {},
   "outputs": [],
   "source": [
    "solver = PULP_CBC_CMD(maxSeconds=100)"
   ]
  },
  {
   "cell_type": "code",
   "execution_count": 8,
   "metadata": {},
   "outputs": [
    {
     "data": {
      "text/plain": [
       "1"
      ]
     },
     "execution_count": 8,
     "metadata": {},
     "output_type": "execute_result"
    }
   ],
   "source": [
    "prob.solve(solver=solver)"
   ]
  },
  {
   "cell_type": "code",
   "execution_count": 9,
   "metadata": {},
   "outputs": [],
   "source": [
    "# Extract solution\n",
    "final_board = []\n",
    "for i in R:\n",
    "    for j in C:\n",
    "        final_board.append([b_ij_n[(i,j,n)].name[6] for n in N if b_ij_n[(i,j,n)].varValue==1])"
   ]
  },
  {
   "cell_type": "markdown",
   "metadata": {},
   "source": [
    "Print and check the solution"
   ]
  },
  {
   "cell_type": "code",
   "execution_count": 10,
   "metadata": {},
   "outputs": [],
   "source": [
    "solution = np.array(final_board).reshape((9,9))"
   ]
  },
  {
   "cell_type": "code",
   "execution_count": 11,
   "metadata": {},
   "outputs": [
    {
     "name": "stdout",
     "output_type": "stream",
     "text": [
      "[['4' '5' '3' '6' '2' '8' '9' '1' '7']\n",
      " ['1' '7' '2' '5' '9' '3' '6' '4' '8']\n",
      " ['9' '8' '6' '7' '4' '1' '5' '2' '3']\n",
      " ['5' '1' '7' '3' '8' '9' '2' '6' '4']\n",
      " ['2' '3' '4' '1' '7' '6' '8' '5' '9']\n",
      " ['6' '9' '8' '4' '5' '2' '3' '7' '1']\n",
      " ['3' '2' '1' '9' '6' '7' '4' '8' '5']\n",
      " ['8' '4' '9' '2' '1' '5' '7' '3' '6']\n",
      " ['7' '6' '5' '8' '3' '4' '1' '9' '2']]\n"
     ]
    }
   ],
   "source": [
    "print(solution)"
   ]
  },
  {
   "cell_type": "code",
   "execution_count": 12,
   "metadata": {},
   "outputs": [],
   "source": [
    "b = np.array( [['4', '5', '3', '6', '2', '8', '9', '1', '7'],\n",
    "               ['1', '7', '2', '5', '9', '3', '6', '4', '8'],\n",
    "               ['9', '8', '6', '7', '4', '1', '5', '2', '3'],\n",
    "               ['5', '1', '7', '3', '8', '9', '2', '6', '4'],\n",
    "               ['2', '3', '4', '1', '7', '6', '8', '5', '9'],\n",
    "               ['6', '9', '8', '4', '5', '2', '3', '7', '1'],\n",
    "               ['3', '2', '1', '9', '6', '7', '4', '8', '5'],\n",
    "               ['8', '4', '9', '2', '1', '5', '7', '3', '6'],\n",
    "               ['7', '6', '5', '8', '3', '4', '1', '9', '2']], dtype='<U1')"
   ]
  },
  {
   "cell_type": "code",
   "execution_count": 13,
   "metadata": {},
   "outputs": [
    {
     "data": {
      "text/plain": [
       "True"
      ]
     },
     "execution_count": 13,
     "metadata": {},
     "output_type": "execute_result"
    }
   ],
   "source": [
    "sum(sum(solution == b)) == 81"
   ]
  },
  {
   "cell_type": "code",
   "execution_count": null,
   "metadata": {},
   "outputs": [],
   "source": []
  }
 ],
 "metadata": {
  "kernelspec": {
   "display_name": "Python 3",
   "language": "python",
   "name": "python3"
  },
  "language_info": {
   "codemirror_mode": {
    "name": "ipython",
    "version": 3
   },
   "file_extension": ".py",
   "mimetype": "text/x-python",
   "name": "python",
   "nbconvert_exporter": "python",
   "pygments_lexer": "ipython3",
   "version": "3.7.0"
  }
 },
 "nbformat": 4,
 "nbformat_minor": 2
}
