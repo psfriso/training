{
 "cells": [
  {
   "cell_type": "markdown",
   "metadata": {},
   "source": [
    "# 0. Environment preparation\n"
   ]
  },
  {
   "cell_type": "markdown",
   "metadata": {},
   "source": [
    "Let's create SparkSession object - entry point for all Spark computations. We're also loading some data and saving them as views."
   ]
  },
  {
   "cell_type": "code",
   "execution_count": 1,
   "metadata": {},
   "outputs": [
    {
     "name": "stdout",
     "output_type": "stream",
     "text": [
      "Created local SparkSession\n",
      "Created \"sales\" view from CSV file\n",
      "Created \"item_prices\" view from CSV file\n"
     ]
    }
   ],
   "source": [
    "import env_setup\n",
    "import pyspark.sql.functions as f\n",
    "\n",
    "spark = env_setup.getSession(local=True)"
   ]
  },
  {
   "cell_type": "markdown",
   "metadata": {},
   "source": [
    "We can assign each part of a query to a variable. __table()__ method will return a Dataframe which contains a structured dataset. To see what's inside it we can print its schema."
   ]
  },
  {
   "cell_type": "code",
   "execution_count": 2,
   "metadata": {},
   "outputs": [
    {
     "name": "stdout",
     "output_type": "stream",
     "text": [
      "# schema of both tables\n",
      "root\n",
      " |-- shop_id: string (nullable = true)\n",
      " |-- item_id: string (nullable = true)\n",
      " |-- qty: string (nullable = true)\n",
      " |-- transaction_date: string (nullable = true)\n",
      "\n",
      "root\n",
      " |-- item_id: string (nullable = true)\n",
      " |-- unit_price: string (nullable = true)\n",
      "\n"
     ]
    }
   ],
   "source": [
    "sales_df = spark.table(\"sales\")\n",
    "item_prices_df = spark.table(\"item_prices\")\n",
    "\n",
    "print(\"# schema of both tables\")\n",
    "sales_df.printSchema()\n",
    "item_prices_df.printSchema()\n"
   ]
  },
  {
   "cell_type": "markdown",
   "metadata": {},
   "source": [
    "We can also print first rows with __show()__"
   ]
  },
  {
   "cell_type": "code",
   "execution_count": 3,
   "metadata": {},
   "outputs": [
    {
     "name": "stdout",
     "output_type": "stream",
     "text": [
      "# sample results from both tables\n",
      "+-------+-------+---+----------------+\n",
      "|shop_id|item_id|qty|transaction_date|\n",
      "+-------+-------+---+----------------+\n",
      "| SHOP_1| ITEM_1|  2|      2018-02-01|\n",
      "| SHOP_1| ITEM_2|  1|      2018-02-01|\n",
      "| SHOP_1| ITEM_3|  4|      2018-02-10|\n",
      "| SHOP_2| ITEM_3|  1|      2018-02-02|\n",
      "| SHOP_2| ITEM_1|  1|      2018-02-11|\n",
      "+-------+-------+---+----------------+\n",
      "\n",
      "+-------+----------+\n",
      "|item_id|unit_price|\n",
      "+-------+----------+\n",
      "| ITEM_1|     100.0|\n",
      "| ITEM_2|     300.0|\n",
      "| ITEM_3|      50.0|\n",
      "+-------+----------+\n",
      "\n"
     ]
    }
   ],
   "source": [
    "print(\"# sample results from both tables\")\n",
    "sales_df.show()\n",
    "item_prices_df.show()"
   ]
  },
  {
   "cell_type": "markdown",
   "metadata": {},
   "source": [
    "Dataframe transformations are evaluated lazily. If we chain multiple operations together they will be invoked only when we call an action. To see what's the current *execution plan* we can call __explain()__ method. It will work even for a simple selection from a view like here. "
   ]
  },
  {
   "cell_type": "code",
   "execution_count": 4,
   "metadata": {},
   "outputs": [
    {
     "name": "stdout",
     "output_type": "stream",
     "text": [
      "# query execution plan for this simple select\n",
      "== Physical Plan ==\n",
      "*(1) FileScan csv [shop_id#10,item_id#11,qty#12,transaction_date#13] Batched: false, Format: CSV, Location: InMemoryFileIndex[file:/Users/mkromka/dev/trainings/pySpark_workshop/data/sales.csv], PartitionFilters: [], PushedFilters: [], ReadSchema: struct<shop_id:string,item_id:string,qty:string,transaction_date:string>\n",
      "== Physical Plan ==\n",
      "*(1) FileScan csv [item_id#28,unit_price#29] Batched: false, Format: CSV, Location: InMemoryFileIndex[file:/Users/mkromka/dev/trainings/pySpark_workshop/data/item_prices.csv], PartitionFilters: [], PushedFilters: [], ReadSchema: struct<item_id:string,unit_price:string>\n"
     ]
    }
   ],
   "source": [
    "print(\"# query execution plan for this simple select\")\n",
    "sales_df.explain()\n",
    "item_prices_df.explain()"
   ]
  },
  {
   "cell_type": "markdown",
   "metadata": {},
   "source": [
    "It prints a one-step operation, which is a csv FileScan, which is correct, because our table was read from such file. We can also see the schema along with some other information."
   ]
  },
  {
   "cell_type": "markdown",
   "metadata": {},
   "source": [
    "# 1. SQL support"
   ]
  },
  {
   "cell_type": "markdown",
   "metadata": {},
   "source": [
    "Spark SQL's name is rather intuitive - we can use Spark to execute SQL queries on our Dataframes."
   ]
  },
  {
   "cell_type": "code",
   "execution_count": 5,
   "metadata": {},
   "outputs": [
    {
     "name": "stdout",
     "output_type": "stream",
     "text": [
      "+-------+----------------+\n",
      "|item_id|transaction_date|\n",
      "+-------+----------------+\n",
      "| ITEM_3|      2018-02-10|\n",
      "| ITEM_1|      2018-02-01|\n",
      "| ITEM_2|      2018-02-01|\n",
      "+-------+----------------+\n",
      "\n"
     ]
    }
   ],
   "source": [
    "sql_df = spark.sql('select item_id, transaction_date from sales where shop_id = \"SHOP_1\" order by transaction_date desc')\n",
    "sql_df.show()"
   ]
  },
  {
   "cell_type": "markdown",
   "metadata": {},
   "source": [
    "### ex1. Use plain SQL query select all transactions with quantity between 2 and 4 (inclusive). Show all results.\n"
   ]
  },
  {
   "cell_type": "code",
   "execution_count": 6,
   "metadata": {},
   "outputs": [
    {
     "name": "stdout",
     "output_type": "stream",
     "text": [
      "+-------+-------+---+----------------+\n",
      "|shop_id|item_id|qty|transaction_date|\n",
      "+-------+-------+---+----------------+\n",
      "| SHOP_1| ITEM_1|  2|      2018-02-01|\n",
      "| SHOP_1| ITEM_3|  4|      2018-02-10|\n",
      "+-------+-------+---+----------------+\n",
      "\n"
     ]
    }
   ],
   "source": [
    "spark.sql('select * from sales where qty >= 2 and qty <=4').show()"
   ]
  },
  {
   "cell_type": "markdown",
   "metadata": {},
   "source": [
    "### ex2. Print mean unit price for all items"
   ]
  },
  {
   "cell_type": "code",
   "execution_count": 7,
   "metadata": {},
   "outputs": [
    {
     "name": "stdout",
     "output_type": "stream",
     "text": [
      "+----------+\n",
      "|mean_price|\n",
      "+----------+\n",
      "|     150.0|\n",
      "+----------+\n",
      "\n"
     ]
    }
   ],
   "source": [
    "spark.sql('select mean(unit_price) as mean_price from item_prices').show()"
   ]
  },
  {
   "cell_type": "markdown",
   "metadata": {},
   "source": [
    "# 2. Dataframe operations"
   ]
  },
  {
   "cell_type": "markdown",
   "metadata": {},
   "source": [
    "For analysts usinq plain SQL API may be enough, but its much better to use method invocation and chaining to transform out Dataframes. Almost every operation in SQL can be translated to some methods."
   ]
  },
  {
   "cell_type": "code",
   "execution_count": 8,
   "metadata": {},
   "outputs": [
    {
     "name": "stdout",
     "output_type": "stream",
     "text": [
      "+-------+----------------+\n",
      "|item_id|transaction_date|\n",
      "+-------+----------------+\n",
      "| ITEM_3|      2018-02-10|\n",
      "| ITEM_1|      2018-02-01|\n",
      "| ITEM_2|      2018-02-01|\n",
      "+-------+----------------+\n",
      "\n"
     ]
    }
   ],
   "source": [
    "string_df = sales_df.select(\"item_id\", \"transaction_date\")\\\n",
    "    .filter(f.col(\"shop_id\") == \"SHOP_1\")\\\n",
    "    .orderBy(f.col(\"transaction_date\").desc())\n",
    "string_df.show()"
   ]
  },
  {
   "cell_type": "markdown",
   "metadata": {},
   "source": [
    " We can use strings to specify column names, but there is another, more dynamic, option to treat columns as fields in a dataframe object."
   ]
  },
  {
   "cell_type": "code",
   "execution_count": 9,
   "metadata": {},
   "outputs": [
    {
     "name": "stdout",
     "output_type": "stream",
     "text": [
      "+-------+----------------+\n",
      "|item_id|transaction_date|\n",
      "+-------+----------------+\n",
      "| ITEM_3|      2018-02-10|\n",
      "| ITEM_1|      2018-02-01|\n",
      "| ITEM_2|      2018-02-01|\n",
      "+-------+----------------+\n",
      "\n"
     ]
    }
   ],
   "source": [
    "field_df = sales_df.select(sales_df.item_id, sales_df.transaction_date)\\\n",
    "    .filter(sales_df.shop_id == \"SHOP_1\")\\\n",
    "    .orderBy(sales_df.transaction_date.desc())\n",
    "field_df.show()"
   ]
  },
  {
   "cell_type": "markdown",
   "metadata": {},
   "source": [
    "The results are the same and actually all these queries will be executed in __exactly__ the same way by Spark. The only difference is the query translation step. Afterwards, when spark has an execution plan of a query it will treat it in the same way regardless of used API. To verify that let's see physical plans of all three queries."
   ]
  },
  {
   "cell_type": "code",
   "execution_count": 10,
   "metadata": {},
   "outputs": [
    {
     "name": "stdout",
     "output_type": "stream",
     "text": [
      "Plain SQL API execution plan\n",
      "== Physical Plan ==\n",
      "*(2) Sort [transaction_date#13 DESC NULLS LAST], true, 0\n",
      "+- Exchange rangepartitioning(transaction_date#13 DESC NULLS LAST, 200)\n",
      "   +- *(1) Project [item_id#11, transaction_date#13]\n",
      "      +- *(1) Filter (isnotnull(shop_id#10) && (shop_id#10 = SHOP_1))\n",
      "         +- *(1) FileScan csv [shop_id#10,item_id#11,transaction_date#13] Batched: false, Format: CSV, Location: InMemoryFileIndex[file:/Users/mkromka/dev/trainings/pySpark_workshop/data/sales.csv], PartitionFilters: [], PushedFilters: [IsNotNull(shop_id), EqualTo(shop_id,SHOP_1)], ReadSchema: struct<shop_id:string,item_id:string,transaction_date:string>\n",
      "\n",
      " Columns as strings approach\n",
      "== Physical Plan ==\n",
      "*(2) Sort [transaction_date#13 DESC NULLS LAST], true, 0\n",
      "+- Exchange rangepartitioning(transaction_date#13 DESC NULLS LAST, 200)\n",
      "   +- *(1) Project [item_id#11, transaction_date#13]\n",
      "      +- *(1) Filter (isnotnull(shop_id#10) && (shop_id#10 = SHOP_1))\n",
      "         +- *(1) FileScan csv [shop_id#10,item_id#11,transaction_date#13] Batched: false, Format: CSV, Location: InMemoryFileIndex[file:/Users/mkromka/dev/trainings/pySpark_workshop/data/sales.csv], PartitionFilters: [], PushedFilters: [IsNotNull(shop_id), EqualTo(shop_id,SHOP_1)], ReadSchema: struct<shop_id:string,item_id:string,transaction_date:string>\n",
      "\n",
      " Columns as fields solution\n",
      "== Physical Plan ==\n",
      "*(2) Sort [transaction_date#13 DESC NULLS LAST], true, 0\n",
      "+- Exchange rangepartitioning(transaction_date#13 DESC NULLS LAST, 200)\n",
      "   +- *(1) Project [item_id#11, transaction_date#13]\n",
      "      +- *(1) Filter (isnotnull(shop_id#10) && (shop_id#10 = SHOP_1))\n",
      "         +- *(1) FileScan csv [shop_id#10,item_id#11,transaction_date#13] Batched: false, Format: CSV, Location: InMemoryFileIndex[file:/Users/mkromka/dev/trainings/pySpark_workshop/data/sales.csv], PartitionFilters: [], PushedFilters: [IsNotNull(shop_id), EqualTo(shop_id,SHOP_1)], ReadSchema: struct<shop_id:string,item_id:string,transaction_date:string>\n"
     ]
    }
   ],
   "source": [
    "print(\"Plain SQL API execution plan\")\n",
    "sql_df.explain()\n",
    "print(\"\\n Columns as strings approach\")\n",
    "string_df.explain()\n",
    "print(\"\\n Columns as fields solution\")\n",
    "field_df.explain()"
   ]
  },
  {
   "cell_type": "markdown",
   "metadata": {},
   "source": [
    "### ex3. Rewrite query from ex1 to dataframe operations"
   ]
  },
  {
   "cell_type": "code",
   "execution_count": 11,
   "metadata": {},
   "outputs": [
    {
     "name": "stdout",
     "output_type": "stream",
     "text": [
      "+-------+-------+---+----------------+\n",
      "|shop_id|item_id|qty|transaction_date|\n",
      "+-------+-------+---+----------------+\n",
      "| SHOP_1| ITEM_1|  2|      2018-02-01|\n",
      "| SHOP_1| ITEM_3|  4|      2018-02-10|\n",
      "+-------+-------+---+----------------+\n",
      "\n"
     ]
    }
   ],
   "source": [
    "sales_df.filter((sales_df.qty >= 2) & (sales_df.qty <= 4)).show()"
   ]
  },
  {
   "cell_type": "markdown",
   "metadata": {},
   "source": [
    "# 3. Joins"
   ]
  },
  {
   "cell_type": "markdown",
   "metadata": {},
   "source": [
    "Most of the complex queries in relational databases require joins. Spark SQL have them as well."
   ]
  },
  {
   "cell_type": "code",
   "execution_count": 12,
   "metadata": {},
   "outputs": [
    {
     "name": "stdout",
     "output_type": "stream",
     "text": [
      "# joins using plain SQL queries\n",
      "+-------+-------+---+----------------+-------+----------+\n",
      "|shop_id|item_id|qty|transaction_date|item_id|unit_price|\n",
      "+-------+-------+---+----------------+-------+----------+\n",
      "| SHOP_1| ITEM_1|  2|      2018-02-01| ITEM_1|     100.0|\n",
      "| SHOP_1| ITEM_2|  1|      2018-02-01| ITEM_2|     300.0|\n",
      "| SHOP_1| ITEM_3|  4|      2018-02-10| ITEM_3|      50.0|\n",
      "| SHOP_2| ITEM_3|  1|      2018-02-02| ITEM_3|      50.0|\n",
      "| SHOP_2| ITEM_1|  1|      2018-02-11| ITEM_1|     100.0|\n",
      "+-------+-------+---+----------------+-------+----------+\n",
      "\n",
      "# using Dataframe API - duplicated item_id column!\n",
      "+-------+-------+---+----------------+-------+----------+\n",
      "|shop_id|item_id|qty|transaction_date|item_id|unit_price|\n",
      "+-------+-------+---+----------------+-------+----------+\n",
      "| SHOP_1| ITEM_1|  2|      2018-02-01| ITEM_1|     100.0|\n",
      "| SHOP_1| ITEM_2|  1|      2018-02-01| ITEM_2|     300.0|\n",
      "| SHOP_1| ITEM_3|  4|      2018-02-10| ITEM_3|      50.0|\n",
      "| SHOP_2| ITEM_3|  1|      2018-02-02| ITEM_3|      50.0|\n",
      "| SHOP_2| ITEM_1|  1|      2018-02-11| ITEM_1|     100.0|\n",
      "+-------+-------+---+----------------+-------+----------+\n",
      "\n",
      "# dropping redundant column\n",
      "+-------+---+----------------+-------+----------+\n",
      "|shop_id|qty|transaction_date|item_id|unit_price|\n",
      "+-------+---+----------------+-------+----------+\n",
      "| SHOP_1|  2|      2018-02-01| ITEM_1|     100.0|\n",
      "| SHOP_1|  1|      2018-02-01| ITEM_2|     300.0|\n",
      "| SHOP_1|  4|      2018-02-10| ITEM_3|      50.0|\n",
      "| SHOP_2|  1|      2018-02-02| ITEM_3|      50.0|\n",
      "| SHOP_2|  1|      2018-02-11| ITEM_1|     100.0|\n",
      "+-------+---+----------------+-------+----------+\n",
      "\n"
     ]
    }
   ],
   "source": [
    "print(\"# joins using plain SQL queries\")\n",
    "spark.sql('select * from sales join item_prices on sales.item_id = item_prices.item_id').show()\n",
    "\n",
    "print(\"# using Dataframe API - duplicated item_id column!\")\n",
    "sales_df.join(item_prices_df, sales_df.item_id == item_prices_df.item_id, \"inner\").show()\n",
    "\n",
    "print(\"# dropping redundant column\")\n",
    "sales_with_unit_prices_df = sales_df\\\n",
    "    .join(item_prices_df, sales_df.item_id == item_prices_df.item_id)\\\n",
    "    .drop(sales_df.item_id)\n",
    "    \n",
    "sales_with_unit_prices_df.show()"
   ]
  },
  {
   "cell_type": "markdown",
   "metadata": {},
   "source": [
    "### ex4. Filter out excluded items"
   ]
  },
  {
   "cell_type": "markdown",
   "metadata": {},
   "source": [
    "Given a Spark Dataframe with a column of items select all transactions from sales_df not containing any of these items."
   ]
  },
  {
   "cell_type": "code",
   "execution_count": 13,
   "metadata": {},
   "outputs": [
    {
     "name": "stdout",
     "output_type": "stream",
     "text": [
      "# Dataframe with column of items we would like to exclude\n",
      "+------+\n",
      "|  item|\n",
      "+------+\n",
      "|ITEM_2|\n",
      "|ITEM_4|\n",
      "+------+\n",
      "\n",
      "# we could collect the result but the execution plan contains all values, not good for large datasets:\n",
      "['ITEM_2', 'ITEM_4']\n",
      "+-------+-------+---+----------------+\n",
      "|shop_id|item_id|qty|transaction_date|\n",
      "+-------+-------+---+----------------+\n",
      "| SHOP_1| ITEM_1|  2|      2018-02-01|\n",
      "| SHOP_1| ITEM_3|  4|      2018-02-10|\n",
      "| SHOP_2| ITEM_3|  1|      2018-02-02|\n",
      "| SHOP_2| ITEM_1|  1|      2018-02-11|\n",
      "+-------+-------+---+----------------+\n",
      "\n",
      "== Physical Plan ==\n",
      "*(1) Filter NOT item_id#11 IN (ITEM_2,ITEM_4)\n",
      "+- *(1) FileScan csv [shop_id#10,item_id#11,qty#12,transaction_date#13] Batched: false, Format: CSV, Location: InMemoryFileIndex[file:/Users/mkromka/dev/trainings/pySpark_workshop/data/sales.csv], PartitionFilters: [], PushedFilters: [Not(In(item_id, [ITEM_2,ITEM_4]))], ReadSchema: struct<shop_id:string,item_id:string,qty:string,transaction_date:string>\n",
      "# using join and filtering - result doesn't contain ITEM_2 and ITEM_4 \n",
      "+-------+-------+---+----------------+\n",
      "|shop_id|item_id|qty|transaction_date|\n",
      "+-------+-------+---+----------------+\n",
      "| SHOP_1| ITEM_3|  4|      2018-02-10|\n",
      "| SHOP_2| ITEM_3|  1|      2018-02-02|\n",
      "| SHOP_1| ITEM_1|  2|      2018-02-01|\n",
      "| SHOP_2| ITEM_1|  1|      2018-02-11|\n",
      "+-------+-------+---+----------------+\n",
      "\n",
      "== Physical Plan ==\n",
      "*(5) Project [shop_id#10, item_id#11, qty#12, transaction_date#13]\n",
      "+- *(5) Filter isnull(item#269)\n",
      "   +- SortMergeJoin [item_id#11], [item#269], LeftOuter\n",
      "      :- *(2) Sort [item_id#11 ASC NULLS FIRST], false, 0\n",
      "      :  +- Exchange hashpartitioning(item_id#11, 200)\n",
      "      :     +- *(1) FileScan csv [shop_id#10,item_id#11,qty#12,transaction_date#13] Batched: false, Format: CSV, Location: InMemoryFileIndex[file:/Users/mkromka/dev/trainings/pySpark_workshop/data/sales.csv], PartitionFilters: [], PushedFilters: [], ReadSchema: struct<shop_id:string,item_id:string,qty:string,transaction_date:string>\n",
      "      +- *(4) Sort [item#269 ASC NULLS FIRST], false, 0\n",
      "         +- Exchange hashpartitioning(item#269, 200)\n",
      "            +- *(3) Filter isnotnull(item#269)\n",
      "               +- Scan ExistingRDD[item#269]\n",
      "# better option: anti join\n",
      "+-------+-------+---+----------------+\n",
      "|shop_id|item_id|qty|transaction_date|\n",
      "+-------+-------+---+----------------+\n",
      "| SHOP_1| ITEM_3|  4|      2018-02-10|\n",
      "| SHOP_2| ITEM_3|  1|      2018-02-02|\n",
      "| SHOP_1| ITEM_1|  2|      2018-02-01|\n",
      "| SHOP_2| ITEM_1|  1|      2018-02-11|\n",
      "+-------+-------+---+----------------+\n",
      "\n",
      "== Physical Plan ==\n",
      "SortMergeJoin [item_id#11], [item#269], LeftAnti\n",
      ":- *(2) Sort [item_id#11 ASC NULLS FIRST], false, 0\n",
      ":  +- Exchange hashpartitioning(item_id#11, 200)\n",
      ":     +- *(1) FileScan csv [shop_id#10,item_id#11,qty#12,transaction_date#13] Batched: false, Format: CSV, Location: InMemoryFileIndex[file:/Users/mkromka/dev/trainings/pySpark_workshop/data/sales.csv], PartitionFilters: [], PushedFilters: [], ReadSchema: struct<shop_id:string,item_id:string,qty:string,transaction_date:string>\n",
      "+- *(4) Sort [item#269 ASC NULLS FIRST], false, 0\n",
      "   +- Exchange hashpartitioning(item#269, 200)\n",
      "      +- *(3) Filter isnotnull(item#269)\n",
      "         +- Scan ExistingRDD[item#269]\n"
     ]
    }
   ],
   "source": [
    "print(\"# Dataframe with column of items we would like to exclude\")\n",
    "excluded_items_df = spark.createDataFrame([(\"ITEM_2\",),(\"ITEM_4\",)], ['item'])\n",
    "excluded_items_df.show()\n",
    "\n",
    "print(\"# we could collect the result but the execution plan contains all values, not good for large datasets:\")\n",
    "excluded_items = [x.item for x in excluded_items_df.collect()]\n",
    "print(excluded_items)\n",
    "filtered_isin_df = sales_df.filter(~sales_df.item_id.isin(excluded_items))\n",
    "filtered_isin_df.show()\n",
    "filtered_isin_df.explain()\n",
    "\n",
    "print(\"# using join and filtering - result doesn't contain ITEM_2 and ITEM_4 \")\n",
    "filtered_left_join = sales_df.join(excluded_items_df, sales_df.item_id == excluded_items_df.item, \"left_outer\")\\\n",
    "    .filter(f.isnull(excluded_items_df.item))\\\n",
    "    .drop(excluded_items_df.item)\n",
    "filtered_left_join.show()\n",
    "filtered_left_join.explain()\n",
    "\n",
    "print(\"# better option: anti join\")\n",
    "filtered_left_anti = sales_df.join(excluded_items_df, sales_df.item_id == excluded_items_df.item, \"left_anti\")\n",
    "filtered_left_anti.show()\n",
    "filtered_left_anti.explain()"
   ]
  },
  {
   "cell_type": "markdown",
   "metadata": {},
   "source": [
    "# 4. Adding columns"
   ]
  },
  {
   "cell_type": "markdown",
   "metadata": {},
   "source": [
    "We might want to add a column in dataframe based on values from other columns. __withColumn()__ method is just for that."
   ]
  },
  {
   "cell_type": "code",
   "execution_count": 14,
   "metadata": {},
   "outputs": [
    {
     "name": "stdout",
     "output_type": "stream",
     "text": [
      "# Added new total_sales column which is a multuply of unit_price and qty\n",
      "+-------+---+----------------+-------+----------+-----------+\n",
      "|shop_id|qty|transaction_date|item_id|unit_price|total_sales|\n",
      "+-------+---+----------------+-------+----------+-----------+\n",
      "| SHOP_1|  2|      2018-02-01| ITEM_1|     100.0|      200.0|\n",
      "| SHOP_1|  1|      2018-02-01| ITEM_2|     300.0|      300.0|\n",
      "| SHOP_1|  4|      2018-02-10| ITEM_3|      50.0|      200.0|\n",
      "| SHOP_2|  1|      2018-02-02| ITEM_3|      50.0|       50.0|\n",
      "| SHOP_2|  1|      2018-02-11| ITEM_1|     100.0|      100.0|\n",
      "+-------+---+----------------+-------+----------+-----------+\n",
      "\n"
     ]
    }
   ],
   "source": [
    "total_sales_df = sales_with_unit_prices_df\\\n",
    "    .withColumn(\"total_sales\", f.col(\"qty\") * f.col(\"unit_price\"))\n",
    "\n",
    "print(\"# Added new total_sales column which is a multuply of unit_price and qty\")\n",
    "total_sales_df.show()"
   ]
  },
  {
   "cell_type": "markdown",
   "metadata": {},
   "source": [
    "Apart from simple ooperations we may use complex predicates while calculating the new value"
   ]
  },
  {
   "cell_type": "code",
   "execution_count": 45,
   "metadata": {},
   "outputs": [
    {
     "name": "stdout",
     "output_type": "stream",
     "text": [
      "# Adding price category column based on a condition\n",
      "+-------+---+----------------+-------+----------+-----------+--------------------------+\n",
      "|shop_id|qty|transaction_date|item_id|unit_price|total_sales|transaction_price_category|\n",
      "+-------+---+----------------+-------+----------+-----------+--------------------------+\n",
      "| SHOP_1|  2|      2018-02-01| ITEM_1|     100.0|      200.0|                      High|\n",
      "| SHOP_1|  1|      2018-02-01| ITEM_2|     300.0|      300.0|                      High|\n",
      "| SHOP_1|  4|      2018-02-10| ITEM_3|      50.0|      200.0|                      High|\n",
      "| SHOP_2|  1|      2018-02-02| ITEM_3|      50.0|       50.0|                       Low|\n",
      "| SHOP_2|  1|      2018-02-11| ITEM_1|     100.0|      100.0|                    Medium|\n",
      "+-------+---+----------------+-------+----------+-----------+--------------------------+\n",
      "\n"
     ]
    }
   ],
   "source": [
    "print(\"# Adding price category column based on a condition\")\n",
    "sales_with_transaction_category = total_sales_df\\\n",
    "    .withColumn(\"transaction_price_category\", \\\n",
    "                f.when(f.col(\"total_sales\") > 150, \"High\")\\\n",
    "                .when(f.col(\"total_sales\") < 60, \"Low\")\\\n",
    "                .otherwise(\"Medium\"))\n",
    "\n",
    "sales_with_transaction_category.show()"
   ]
  },
  {
   "cell_type": "markdown",
   "metadata": {},
   "source": [
    "### ex5. Two-packs of items\n",
    "We want to create two-packs of items, but sum of their prices must be lower than 360.\n",
    "hint: use cross join, and alias\n"
   ]
  },
  {
   "cell_type": "code",
   "execution_count": 16,
   "metadata": {},
   "outputs": [
    {
     "name": "stdout",
     "output_type": "stream",
     "text": [
      "+-------+-------+---------+\n",
      "|item_id|item_id|price_sum|\n",
      "+-------+-------+---------+\n",
      "| ITEM_1| ITEM_3|    150.0|\n",
      "| ITEM_2| ITEM_3|    350.0|\n",
      "| ITEM_3| ITEM_1|    150.0|\n",
      "| ITEM_3| ITEM_2|    350.0|\n",
      "+-------+-------+---------+\n",
      "\n"
     ]
    }
   ],
   "source": [
    "item_prices_df.alias(\"items1\")\\\n",
    "    .crossJoin(item_prices_df.alias(\"items2\"))\\\n",
    "    .withColumn(\"price_sum\",f.col(\"items1.unit_price\") + f.col(\"items2.unit_price\"))\\\n",
    "    .where((f.col(\"price_sum\") < 360) & (f.col(\"items1.item_id\") != f.col(\"items2.item_id\")))\\\n",
    "    .select(\"items1.item_id\", \"items2.item_id\", \"price_sum\")\\\n",
    "    .show()"
   ]
  },
  {
   "cell_type": "markdown",
   "metadata": {},
   "source": [
    "# 5. Simple aggregations"
   ]
  },
  {
   "cell_type": "markdown",
   "metadata": {},
   "source": [
    "We already saw a simple aggregation when calculating mean of prices. Dataframe API allows us to make do it as well."
   ]
  },
  {
   "cell_type": "code",
   "execution_count": 17,
   "metadata": {},
   "outputs": [
    {
     "name": "stdout",
     "output_type": "stream",
     "text": [
      "# using alias to have a better column name\n",
      "+-------+-----+\n",
      "|shop_id|sales|\n",
      "+-------+-----+\n",
      "| SHOP_1|700.0|\n",
      "| SHOP_2|150.0|\n",
      "+-------+-----+\n",
      "\n"
     ]
    }
   ],
   "source": [
    "print(\"# using alias to have a better column name\")\n",
    "total_sales_df\\\n",
    "    .groupBy(\"shop_id\")\\\n",
    "    .agg(f.sum(total_sales_df.total_sales).alias(\"sales\"))\\\n",
    "    .orderBy(f.col(\"sales\").desc())\\\n",
    "    .show()\n",
    "    # .orderBy(total_sales_df.sales) won't work as total_sales_df has no sales column (we define it later)"
   ]
  },
  {
   "cell_type": "markdown",
   "metadata": {},
   "source": [
    "### ex6. Aggregating data to lists\n",
    "Produce a column with list of all shops where each item was sold, new column should be named \"shops\"\n",
    "hint: check collect_list function"
   ]
  },
  {
   "cell_type": "code",
   "execution_count": 18,
   "metadata": {},
   "outputs": [
    {
     "name": "stdout",
     "output_type": "stream",
     "text": [
      "+-------+----------------+\n",
      "|item_id|           shops|\n",
      "+-------+----------------+\n",
      "| ITEM_3|[SHOP_1, SHOP_2]|\n",
      "| ITEM_2|        [SHOP_1]|\n",
      "| ITEM_1|[SHOP_1, SHOP_2]|\n",
      "+-------+----------------+\n",
      "\n"
     ]
    }
   ],
   "source": [
    "total_sales_df\\\n",
    "    .groupBy(\"item_id\")\\\n",
    "    .agg(f.collect_list(f.col(\"shop_id\")).alias(\"shops\"))\\\n",
    "    .show()"
   ]
  },
  {
   "cell_type": "markdown",
   "metadata": {},
   "source": [
    "# 6. Date handling"
   ]
  },
  {
   "cell_type": "markdown",
   "metadata": {},
   "source": [
    "Lots of datasets contain some kind of notion of date or time. Let's see how can we transform it. Our total_sales_df contains *transaction_date* column, we are going to extract each bit out of it with functions from pyspark.sql.functions module"
   ]
  },
  {
   "cell_type": "code",
   "execution_count": 19,
   "metadata": {},
   "outputs": [
    {
     "name": "stdout",
     "output_type": "stream",
     "text": [
      "# extracting multiple elements of date\n",
      "+-------+---+----------------+-------+----------+-----------+----+-----+---+-----------+-----------+---------------+------------+\n",
      "|shop_id|qty|transaction_date|item_id|unit_price|total_sales|year|month|day|day_of_year|day_of_week|day_of_week_str|week_of_year|\n",
      "+-------+---+----------------+-------+----------+-----------+----+-----+---+-----------+-----------+---------------+------------+\n",
      "| SHOP_1|  2|      2018-02-01| ITEM_1|     100.0|      200.0|2018|    2|  1|         32|          4|            Thu|           5|\n",
      "| SHOP_1|  1|      2018-02-01| ITEM_2|     300.0|      300.0|2018|    2|  1|         32|          4|            Thu|           5|\n",
      "| SHOP_1|  4|      2018-02-10| ITEM_3|      50.0|      200.0|2018|    2| 10|         41|          6|            Sat|           6|\n",
      "| SHOP_2|  1|      2018-02-02| ITEM_3|      50.0|       50.0|2018|    2|  2|         33|          5|            Fri|           5|\n",
      "| SHOP_2|  1|      2018-02-11| ITEM_1|     100.0|      100.0|2018|    2| 11|         42|          7|            Sun|           6|\n",
      "+-------+---+----------------+-------+----------+-----------+----+-----+---+-----------+-----------+---------------+------------+\n",
      "\n"
     ]
    }
   ],
   "source": [
    "print(\"# extracting multiple elements of date\")\n",
    "total_sales_df\\\n",
    "    .withColumn(\"year\", f.year(f.col(\"transaction_date\")))\\\n",
    "    .withColumn(\"month\", f.month(f.col(\"transaction_date\")))\\\n",
    "    .withColumn(\"day\", f.dayofmonth(f.col(\"transaction_date\")))\\\n",
    "    .withColumn(\"day_of_year\", f.dayofyear(f.col(\"transaction_date\")))\\\n",
    "    .withColumn(\"day_of_week\", f.date_format(f.col(\"transaction_date\"), 'u'))\\\n",
    "    .withColumn(\"day_of_week_str\", f.date_format(f.col(\"transaction_date\"), 'E'))\\\n",
    "    .withColumn(\"week_of_year\", f.weekofyear(f.col(\"transaction_date\")))\\\n",
    "    .show()"
   ]
  },
  {
   "cell_type": "markdown",
   "metadata": {},
   "source": [
    "We don't need to define new column to use obtained values. Here's an example of getting sales aggregated by week."
   ]
  },
  {
   "cell_type": "code",
   "execution_count": 20,
   "metadata": {},
   "outputs": [
    {
     "name": "stdout",
     "output_type": "stream",
     "text": [
      "# aggregate sales by week\n",
      "+----------------------------+----------------+\n",
      "|weekofyear(transaction_date)|sum(total_sales)|\n",
      "+----------------------------+----------------+\n",
      "|                           6|           300.0|\n",
      "|                           5|           550.0|\n",
      "+----------------------------+----------------+\n",
      "\n"
     ]
    }
   ],
   "source": [
    "print(\"# aggregate sales by week\")\n",
    "total_sales_df\\\n",
    "    .groupBy(f.weekofyear(f.col(\"transaction_date\")))\\\n",
    "    .agg(f.sum(f.col(\"total_sales\")))\\\n",
    "    .show()"
   ]
  },
  {
   "cell_type": "markdown",
   "metadata": {},
   "source": [
    "### ex7. Weekly sales aggregation not starting on Monday\n",
    "For Spark, each week starts on Monday. But what if we want to start aggregation on a different day, for example Sunday?"
   ]
  },
  {
   "cell_type": "code",
   "execution_count": 21,
   "metadata": {},
   "outputs": [
    {
     "name": "stdout",
     "output_type": "stream",
     "text": [
      "+--------------------+----------------+\n",
      "|shifted_week_of_year|sum(total_sales)|\n",
      "+--------------------+----------------+\n",
      "|                   6|           200.0|\n",
      "|                   5|           550.0|\n",
      "|                   7|           100.0|\n",
      "+--------------------+----------------+\n",
      "\n"
     ]
    }
   ],
   "source": [
    "total_sales_df\\\n",
    "    .groupBy(f.weekofyear(f.date_add(f.col(\"transaction_date\"), 1)).alias(\"shifted_week_of_year\"))\\\n",
    "    .agg(f.sum(f.col(\"total_sales\")))\\\n",
    "    .show()"
   ]
  },
  {
   "cell_type": "markdown",
   "metadata": {},
   "source": [
    "### ex8. (Homework) Sales aggregation with preserving date\n",
    "Sometimes we want to preserve the date of the week (for example last day) instead of year week number. Try implementing aggregation above where instead of week number there is a date of last day of given week. Try to do it without using join. \n",
    "\n",
    "hint: maybe *next_day()* function will be helpful."
   ]
  },
  {
   "cell_type": "code",
   "execution_count": 22,
   "metadata": {},
   "outputs": [
    {
     "name": "stdout",
     "output_type": "stream",
     "text": [
      "+----------+----------------+------------------+\n",
      "| aggr_date|sum(total_sales)|day_of_week_string|\n",
      "+----------+----------------+------------------+\n",
      "|2018-02-10|           200.0|               Sat|\n",
      "|2018-02-17|           100.0|               Sat|\n",
      "|2018-02-03|           550.0|               Sat|\n",
      "+----------+----------------+------------------+\n",
      "\n"
     ]
    }
   ],
   "source": [
    "total_sales_df\\\n",
    "    .withColumn(\"aggr_date\", f.next_day(f.date_sub(f.col(\"transaction_date\"), 1), \"Sat\"))\\\n",
    "    .groupBy(f.col(\"aggr_date\"))\\\n",
    "    .agg(f.sum(f.col(\"total_sales\")))\\\n",
    "    .withColumn(\"day_of_week_string\",  f.date_format(f.col(\"aggr_date\"), 'E'))\\\n",
    "    .show()"
   ]
  },
  {
   "cell_type": "markdown",
   "metadata": {},
   "source": [
    "# 7. Using results of one query in another"
   ]
  },
  {
   "cell_type": "markdown",
   "metadata": {},
   "source": [
    "How can we get results from one query to another? We could use joins, but there are other ways. Let's say we want to add maximal price of all items to each sales row."
   ]
  },
  {
   "cell_type": "code",
   "execution_count": 23,
   "metadata": {},
   "outputs": [
    {
     "name": "stdout",
     "output_type": "stream",
     "text": [
      "# Calculate global max unit_price\n",
      "+---------+\n",
      "|max_price|\n",
      "+---------+\n",
      "|     50.0|\n",
      "+---------+\n",
      "\n"
     ]
    }
   ],
   "source": [
    "print(\"# Calculate global max unit_price\")\n",
    "item_prices_df\\\n",
    "    .select(f.max(item_prices_df.unit_price).alias(\"max_price\"))\\\n",
    "    .show()"
   ]
  },
  {
   "cell_type": "markdown",
   "metadata": {},
   "source": [
    "But how can we get that value out of the dataframe? If we only have one Row then using *first()* method will be enpough to return a Row object. In cases we have more rows then we need to use *collect()*.\n",
    "Both of these methods are actions, which means they will invoke calculations. Furthermore, result of these operations will be sent directly to driver. This can be be problematic for large Dataframes."
   ]
  },
  {
   "cell_type": "code",
   "execution_count": 24,
   "metadata": {},
   "outputs": [
    {
     "name": "stdout",
     "output_type": "stream",
     "text": [
      "Row(max_price='50.0')\n"
     ]
    }
   ],
   "source": [
    "max_date_row = item_prices_df\\\n",
    "    .select(f.max(item_prices_df.unit_price).alias(\"max_price\"))\\\n",
    "    .first() # first() returns first Row, collect returns list of rows\n",
    "    #.collect()[0]\n",
    "\n",
    "print(max_date_row)"
   ]
  },
  {
   "cell_type": "markdown",
   "metadata": {},
   "source": [
    "We ended up with a Row object. It has a field for each column in the Dataframe. We can extract values either by index or by name."
   ]
  },
  {
   "cell_type": "code",
   "execution_count": 25,
   "metadata": {},
   "outputs": [
    {
     "name": "stdout",
     "output_type": "stream",
     "text": [
      "50.0\n",
      "50.0\n",
      "50.0\n"
     ]
    }
   ],
   "source": [
    "print(max_date_row[0])\n",
    "print(max_date_row.max_price)\n",
    "print(max_date_row['max_price'])\n",
    "\n",
    "max_price = max_date_row.max_price"
   ]
  },
  {
   "cell_type": "markdown",
   "metadata": {},
   "source": [
    "Now to include it in each sales rows, we need to add a new column of literal value using __lit()__ function."
   ]
  },
  {
   "cell_type": "code",
   "execution_count": 26,
   "metadata": {},
   "outputs": [
    {
     "name": "stdout",
     "output_type": "stream",
     "text": [
      "# adding it as a literal (constant) column\n",
      "+-------+---+----------------+-------+----------+-----------+----------------+\n",
      "|shop_id|qty|transaction_date|item_id|unit_price|total_sales|global_max_price|\n",
      "+-------+---+----------------+-------+----------+-----------+----------------+\n",
      "| SHOP_1|  2|      2018-02-01| ITEM_1|     100.0|      200.0|            50.0|\n",
      "| SHOP_1|  1|      2018-02-01| ITEM_2|     300.0|      300.0|            50.0|\n",
      "| SHOP_1|  4|      2018-02-10| ITEM_3|      50.0|      200.0|            50.0|\n",
      "| SHOP_2|  1|      2018-02-02| ITEM_3|      50.0|       50.0|            50.0|\n",
      "| SHOP_2|  1|      2018-02-11| ITEM_1|     100.0|      100.0|            50.0|\n",
      "+-------+---+----------------+-------+----------+-----------+----------------+\n",
      "\n"
     ]
    }
   ],
   "source": [
    "print(\"# adding it as a literal (constant) column\")\n",
    "sales_with_max_global_price_df = total_sales_df\\\n",
    "    .withColumn(\"global_max_price\", f.lit(max_price))\n",
    "\n",
    "sales_with_max_global_price_df.show()"
   ]
  },
  {
   "cell_type": "markdown",
   "metadata": {},
   "source": [
    "### ex8. Adding constant column using cross join\n",
    "Most of the times we want to avoid unnnecessary actions. They break the flow of a query, canot be optimized and require sending data over network to driver and, in our case, back again. Let's implement query above using cross join."
   ]
  },
  {
   "cell_type": "code",
   "execution_count": 27,
   "metadata": {},
   "outputs": [
    {
     "name": "stdout",
     "output_type": "stream",
     "text": [
      "+-------+---+----------------+-------+----------+-----------+---------+\n",
      "|shop_id|qty|transaction_date|item_id|unit_price|total_sales|max_price|\n",
      "+-------+---+----------------+-------+----------+-----------+---------+\n",
      "| SHOP_1|  2|      2018-02-01| ITEM_1|     100.0|      200.0|     50.0|\n",
      "| SHOP_1|  1|      2018-02-01| ITEM_2|     300.0|      300.0|     50.0|\n",
      "| SHOP_1|  4|      2018-02-10| ITEM_3|      50.0|      200.0|     50.0|\n",
      "| SHOP_2|  1|      2018-02-02| ITEM_3|      50.0|       50.0|     50.0|\n",
      "| SHOP_2|  1|      2018-02-11| ITEM_1|     100.0|      100.0|     50.0|\n",
      "+-------+---+----------------+-------+----------+-----------+---------+\n",
      "\n"
     ]
    }
   ],
   "source": [
    "max_price_df = item_prices_df\\\n",
    "    .select(f.max(f.col(\"unit_price\")).alias(\"max_price\"))\n",
    "    \n",
    "total_sales_df\\\n",
    "    .crossJoin(f.broadcast(max_price_df))\\\n",
    "    .show()"
   ]
  },
  {
   "cell_type": "markdown",
   "metadata": {},
   "source": [
    "You must make sure that Dataframe used in cross join has at most couple elements, if not then the number of rows will explode."
   ]
  },
  {
   "cell_type": "markdown",
   "metadata": {},
   "source": [
    "# 8. Window functions"
   ]
  },
  {
   "cell_type": "markdown",
   "metadata": {},
   "source": [
    "To perform partial aggregations but preserving initial number of rows we could use joins.Let's try that to get latest transaction date for each shop."
   ]
  },
  {
   "cell_type": "code",
   "execution_count": 46,
   "metadata": {},
   "outputs": [
    {
     "name": "stdout",
     "output_type": "stream",
     "text": [
      "+-------+---+----------------+-------+----------+-----------+----------------------------+\n",
      "|shop_id|qty|transaction_date|item_id|unit_price|total_sales|max_transaction_date_by_shop|\n",
      "+-------+---+----------------+-------+----------+-----------+----------------------------+\n",
      "| SHOP_1|  2|      2018-02-01| ITEM_1|     100.0|      200.0|                  2018-02-10|\n",
      "| SHOP_1|  1|      2018-02-01| ITEM_2|     300.0|      300.0|                  2018-02-10|\n",
      "| SHOP_1|  4|      2018-02-10| ITEM_3|      50.0|      200.0|                  2018-02-10|\n",
      "| SHOP_2|  1|      2018-02-02| ITEM_3|      50.0|       50.0|                  2018-02-11|\n",
      "| SHOP_2|  1|      2018-02-11| ITEM_1|     100.0|      100.0|                  2018-02-11|\n",
      "+-------+---+----------------+-------+----------+-----------+----------------------------+\n",
      "\n"
     ]
    }
   ],
   "source": [
    "max_date_by_store_df = total_sales_df\\\n",
    "    .groupBy(f.col(\"shop_id\"))\\\n",
    "    .agg(f.max(\"transaction_date\").alias(\"max_transaction_date_by_shop\")) \n",
    "    \n",
    "total_sales_df.join(max_date_by_store_df, [\"shop_id\"])\\\n",
    "    .show() # "
   ]
  },
  {
   "cell_type": "markdown",
   "metadata": {},
   "source": [
    "__Side note__: instead of join condition we passed a list with one column name. This way we avoid duplicationd of that column in join."
   ]
  },
  {
   "cell_type": "markdown",
   "metadata": {},
   "source": [
    "Another option is using __window functions__. They are experimental since spark 1.4, but they are widely used in production.\n",
    "\n",
    "First, we need to define Window with a grouping column using __partitionBy()__ method. Then we create a new column as usual, but after invoking a function we add __.over(window)__ to say that this is not a global operation."
   ]
  },
  {
   "cell_type": "code",
   "execution_count": 29,
   "metadata": {},
   "outputs": [
    {
     "name": "stdout",
     "output_type": "stream",
     "text": [
      "+-------+---+----------------+-------+----------+-----------+----------------------------+\n",
      "|shop_id|qty|transaction_date|item_id|unit_price|total_sales|max_transaction_date_by_shop|\n",
      "+-------+---+----------------+-------+----------+-----------+----------------------------+\n",
      "| SHOP_2|  1|      2018-02-02| ITEM_3|      50.0|       50.0|                  2018-02-11|\n",
      "| SHOP_2|  1|      2018-02-11| ITEM_1|     100.0|      100.0|                  2018-02-11|\n",
      "| SHOP_1|  2|      2018-02-01| ITEM_1|     100.0|      200.0|                  2018-02-10|\n",
      "| SHOP_1|  1|      2018-02-01| ITEM_2|     300.0|      300.0|                  2018-02-10|\n",
      "| SHOP_1|  4|      2018-02-10| ITEM_3|      50.0|      200.0|                  2018-02-10|\n",
      "+-------+---+----------------+-------+----------+-----------+----------------------------+\n",
      "\n"
     ]
    }
   ],
   "source": [
    "from pyspark.sql import Window\n",
    "\n",
    "window = Window.partitionBy(f.col(\"shop_id\"))\n",
    "\n",
    "total_sales_df\\\n",
    "    .withColumn(\"max_transaction_date_by_shop\", f.max(f.col(\"transaction_date\")).over(window)).show()\n"
   ]
  },
  {
   "cell_type": "markdown",
   "metadata": {},
   "source": [
    "In each partition partition we can specify order in which we traverse the rows. Let's use that to find ordinals for transactions for each item."
   ]
  },
  {
   "cell_type": "code",
   "execution_count": 30,
   "metadata": {},
   "outputs": [
    {
     "name": "stdout",
     "output_type": "stream",
     "text": [
      "+-------+---+----------------+-------+----------+-----------+------------------------+\n",
      "|shop_id|qty|transaction_date|item_id|unit_price|total_sales|item_transaction_ordinal|\n",
      "+-------+---+----------------+-------+----------+-----------+------------------------+\n",
      "| SHOP_2|  1|      2018-02-02| ITEM_3|      50.0|       50.0|                       1|\n",
      "| SHOP_1|  4|      2018-02-10| ITEM_3|      50.0|      200.0|                       2|\n",
      "| SHOP_1|  1|      2018-02-01| ITEM_2|     300.0|      300.0|                       1|\n",
      "| SHOP_1|  2|      2018-02-01| ITEM_1|     100.0|      200.0|                       1|\n",
      "| SHOP_2|  1|      2018-02-11| ITEM_1|     100.0|      100.0|                       2|\n",
      "+-------+---+----------------+-------+----------+-----------+------------------------+\n",
      "\n"
     ]
    }
   ],
   "source": [
    "window_by_item_sorted = Window.partitionBy(f.col(\"item_id\")).orderBy(f.col(\"transaction_date\"))\n",
    "\n",
    "total_sales_df\\\n",
    "    .withColumn(\"item_transaction_ordinal\", f.rank().over(window_by_item_sorted))\\\n",
    "    .show()"
   ]
  },
  {
   "cell_type": "markdown",
   "metadata": {},
   "source": [
    "We can specify also how large the window should be in each step using **rowsBetween()** method. We can use it to find average price from last two transactions in given shop, ordered by transaction date (like a group-level, moving average)"
   ]
  },
  {
   "cell_type": "code",
   "execution_count": 31,
   "metadata": {},
   "outputs": [
    {
     "name": "stdout",
     "output_type": "stream",
     "text": [
      "+-------+---+----------------+-------+----------+-----------+--------------------+\n",
      "|shop_id|qty|transaction_date|item_id|unit_price|total_sales|price_moving_average|\n",
      "+-------+---+----------------+-------+----------+-----------+--------------------+\n",
      "| SHOP_1|  1|      2018-02-01| ITEM_2|     300.0|      300.0|               250.0|\n",
      "| SHOP_1|  2|      2018-02-01| ITEM_1|     100.0|      200.0|               200.0|\n",
      "| SHOP_1|  4|      2018-02-10| ITEM_3|      50.0|      200.0|               250.0|\n",
      "| SHOP_2|  1|      2018-02-02| ITEM_3|      50.0|       50.0|                50.0|\n",
      "| SHOP_2|  1|      2018-02-11| ITEM_1|     100.0|      100.0|                75.0|\n",
      "+-------+---+----------------+-------+----------+-----------+--------------------+\n",
      "\n"
     ]
    }
   ],
   "source": [
    "window_by_transaction_date = Window\\\n",
    "    .partitionBy(f.col(\"shop_id\"))\\\n",
    "    .orderBy(f.col(\"transaction_date\"))\\\n",
    "    .rowsBetween(-1,Window.currentRow)\n",
    "\n",
    "total_sales_df\\\n",
    "    .withColumn(\"price_moving_average\", f.mean(f.col(\"total_sales\")).over(window_by_transaction_date))\\\n",
    "    .orderBy(f.col(\"shop_id\"), f.col(\"transaction_date\"))\\\n",
    "    .show()"
   ]
  },
  {
   "cell_type": "markdown",
   "metadata": {},
   "source": [
    "### ex9. Cumulative moving average of quantities\n",
    "Find average quantity of items from current and all previous transactions for given item ordered by transaction date."
   ]
  },
  {
   "cell_type": "code",
   "execution_count": 32,
   "metadata": {},
   "outputs": [
    {
     "name": "stdout",
     "output_type": "stream",
     "text": [
      "+-------+---+----------------+-------+----------+-----------+---------------------+\n",
      "|shop_id|qty|transaction_date|item_id|unit_price|total_sales|average_qty_until_now|\n",
      "+-------+---+----------------+-------+----------+-----------+---------------------+\n",
      "| SHOP_1|  2|      2018-02-01| ITEM_1|     100.0|      200.0|                  2.0|\n",
      "| SHOP_2|  1|      2018-02-11| ITEM_1|     100.0|      100.0|                  1.5|\n",
      "| SHOP_1|  1|      2018-02-01| ITEM_2|     300.0|      300.0|                  1.0|\n",
      "| SHOP_2|  1|      2018-02-02| ITEM_3|      50.0|       50.0|                  1.0|\n",
      "| SHOP_1|  4|      2018-02-10| ITEM_3|      50.0|      200.0|                  2.5|\n",
      "+-------+---+----------------+-------+----------+-----------+---------------------+\n",
      "\n"
     ]
    }
   ],
   "source": [
    "unbounded_window_by_transaction_date = Window\\\n",
    "    .partitionBy(f.col(\"item_id\"))\\\n",
    "    .orderBy(f.col(\"transaction_date\"))\\\n",
    "    .rowsBetween(Window.unboundedPreceding,Window.currentRow)\n",
    "    \n",
    "total_sales_df\\\n",
    "    .withColumn(\"average_qty_until_now\", f.mean(f.col(\"qty\")).over(unbounded_window_by_transaction_date))\\\n",
    "    .orderBy(f.col(\"item_id\"), f.col(\"transaction_date\"))\\\n",
    "    .show()\n"
   ]
  },
  {
   "cell_type": "markdown",
   "metadata": {},
   "source": [
    "# 9. Complex aggregations"
   ]
  },
  {
   "cell_type": "markdown",
   "metadata": {},
   "source": [
    "Sometimes we need more complex aggregations. Let's say we want to analyse weekly sales in each shop. We would like to get a Dataframe with one row per shop and a list of all transactions with week and year numbers.\n",
    "We could try doing that using multiple invocations of collect_list function."
   ]
  },
  {
   "cell_type": "code",
   "execution_count": 33,
   "metadata": {},
   "outputs": [
    {
     "name": "stdout",
     "output_type": "stream",
     "text": [
      "# Sales Dataframe with week and year columnns\n",
      "+-------+----+----+-----+\n",
      "|shop_id|week|year|sales|\n",
      "+-------+----+----+-----+\n",
      "| SHOP_2|   5|2018| 50.0|\n",
      "| SHOP_1|   5|2018|500.0|\n",
      "| SHOP_1|   6|2018|200.0|\n",
      "| SHOP_2|   6|2018|100.0|\n",
      "+-------+----+----+-----+\n",
      "\n",
      "# aggregating sales with three collect_list invocations\n",
      "+-------+------------------+------------------+-------------------+\n",
      "|shop_id|collect_list(week)|collect_list(year)|collect_list(sales)|\n",
      "+-------+------------------+------------------+-------------------+\n",
      "|SHOP_2 |[5, 6]            |[2018, 2018]      |[50.0, 100.0]      |\n",
      "|SHOP_1 |[5, 6]            |[2018, 2018]      |[500.0, 200.0]     |\n",
      "+-------+------------------+------------------+-------------------+\n",
      "\n"
     ]
    }
   ],
   "source": [
    "weekly_sales_by_shop_df = total_sales_df\\\n",
    "    .groupBy(\"shop_id\", f.weekofyear(\"transaction_date\").alias(\"week\"), f.year(\"transaction_date\").alias(\"year\"))\\\n",
    "    .agg(f.sum(\"total_sales\").alias(\"sales\"))\n",
    "\n",
    "print(\"# Sales Dataframe with week and year columnns\")\n",
    "weekly_sales_by_shop_df.show()\n",
    "        \n",
    "print(\"# aggregating sales with three collect_list invocations\")\n",
    "shop_sales_weekly_series_df = weekly_sales_by_shop_df\\\n",
    "    .groupBy(\"shop_id\")\\\n",
    "    .agg(f.collect_list(\"week\"),f.collect_list(\"year\"),  f.collect_list(\"sales\"))\n",
    "\n",
    "shop_sales_weekly_series_df.show(truncate=False)"
   ]
  },
  {
   "cell_type": "markdown",
   "metadata": {},
   "source": [
    "Unfortunately solution above won't work correctly, as ordering in each column may be different. Passing list of columns to colllect_list won't work either as there is no such API: .agg(f.collect_list([\"sales\", \"week\"]))  \n",
    "\n",
    "We can overcome that using a struct method which aggregates values for each row in a structure (similar to dict)"
   ]
  },
  {
   "cell_type": "code",
   "execution_count": 34,
   "metadata": {},
   "outputs": [
    {
     "name": "stdout",
     "output_type": "stream",
     "text": [
      "+-------+------------------------------------+\n",
      "|shop_id|sales_ts                            |\n",
      "+-------+------------------------------------+\n",
      "|SHOP_2 |[[2018, 5, 50.0], [2018, 6, 100.0]] |\n",
      "|SHOP_1 |[[2018, 5, 500.0], [2018, 6, 200.0]]|\n",
      "+-------+------------------------------------+\n",
      "\n",
      "root\n",
      " |-- shop_id: string (nullable = true)\n",
      " |-- sales_ts: array (nullable = true)\n",
      " |    |-- element: struct (containsNull = true)\n",
      " |    |    |-- year: integer (nullable = true)\n",
      " |    |    |-- week: integer (nullable = true)\n",
      " |    |    |-- sales: double (nullable = true)\n",
      "\n"
     ]
    }
   ],
   "source": [
    "shop_sales_weekly_series_df = weekly_sales_by_shop_df\\\n",
    "    .groupBy(\"shop_id\")\\\n",
    "    .agg(f.collect_list(f.struct([\"year\", \"week\", \"sales\"])).alias(\"sales_ts\"))\n",
    "\n",
    "shop_sales_weekly_series_df.show(truncate=False)\n",
    "shop_sales_weekly_series_df.printSchema()"
   ]
  },
  {
   "cell_type": "markdown",
   "metadata": {},
   "source": [
    "Ok, we have a time series for each shop, but what if we want to have it ordered by date? We could try sorting the dataframe before aggregation. Unfortunately Spark doesn't preserve this ordering after groupBy"
   ]
  },
  {
   "cell_type": "code",
   "execution_count": 35,
   "metadata": {},
   "outputs": [
    {
     "name": "stdout",
     "output_type": "stream",
     "text": [
      "+-------+----+----+-----+\n",
      "|shop_id|week|year|sales|\n",
      "+-------+----+----+-----+\n",
      "| SHOP_1|   5|2018|500.0|\n",
      "| SHOP_1|   6|2018|200.0|\n",
      "| SHOP_2|   5|2018| 50.0|\n",
      "| SHOP_2|   6|2018|100.0|\n",
      "+-------+----+----+-----+\n",
      "\n",
      "+-------+------------------------------------+\n",
      "|shop_id|sales_ts                            |\n",
      "+-------+------------------------------------+\n",
      "|SHOP_2 |[[2018, 5, 50.0], [2018, 6, 100.0]] |\n",
      "|SHOP_1 |[[2018, 5, 500.0], [2018, 6, 200.0]]|\n",
      "+-------+------------------------------------+\n",
      "\n"
     ]
    }
   ],
   "source": [
    "ordered_weekly_sales_df = weekly_sales_by_shop_df\\\n",
    "    .orderBy(\"shop_id\", \"year\", \"week\")\n",
    "  \n",
    "ordered_weekly_sales_df.show()\n",
    "\n",
    "wrongly_sorted_series_df = ordered_weekly_sales_df\\\n",
    "    .groupBy(\"shop_id\")\\\n",
    "    .agg(f.collect_list(f.struct([\"year\", \"week\", \"sales\"])).alias(\"sales_ts\"))\n",
    "    \n",
    "wrongly_sorted_series_df.show(truncate=False)"
   ]
  },
  {
   "cell_type": "markdown",
   "metadata": {},
   "source": [
    "# 10. Defining custom UDFs"
   ]
  },
  {
   "cell_type": "markdown",
   "metadata": {},
   "source": [
    "To solve that issue we need to sort the time series after aggregation. To do that we need to define a custom User Defined Functions (UDF).\n",
    "Such function is invoked on each row separately. It can take as many columns as we need. It can contain any custom Python code, even from libraries available in your environment. \n",
    "\n",
    "Let's create a function appending a custom prefix to value from another column"
   ]
  },
  {
   "cell_type": "code",
   "execution_count": 36,
   "metadata": {},
   "outputs": [
    {
     "name": "stdout",
     "output_type": "stream",
     "text": [
      "+-------+--------------------+--------------------+\n",
      "|shop_id|            sales_ts|  sales_ts_after_udf|\n",
      "+-------+--------------------+--------------------+\n",
      "| SHOP_2|[[2018, 5, 50.0],...|AFTER_UDF_[Row(ye...|\n",
      "| SHOP_1|[[2018, 5, 500.0]...|AFTER_UDF_[Row(ye...|\n",
      "+-------+--------------------+--------------------+\n",
      "\n",
      "# Schema of the new dataframe\n",
      "root\n",
      " |-- shop_id: string (nullable = true)\n",
      " |-- sales_ts: array (nullable = true)\n",
      " |    |-- element: struct (containsNull = true)\n",
      " |    |    |-- year: integer (nullable = true)\n",
      " |    |    |-- week: integer (nullable = true)\n",
      " |    |    |-- sales: double (nullable = true)\n",
      " |-- sales_ts_after_udf: string (nullable = true)\n",
      "\n"
     ]
    }
   ],
   "source": [
    "def my_custom_function(column1):\n",
    "    return \"AFTER_UDF_\" + str(column1)\n",
    "\n",
    "my_custom_udf = f.udf(my_custom_function)\n",
    "df_after_udf = shop_sales_weekly_series_df.withColumn(\"sales_ts_after_udf\", my_custom_udf(f.col(\"sales_ts\")))\n",
    "df_after_udf.show()\n",
    "print(\"# Schema of the new dataframe\")\n",
    "df_after_udf.printSchema()"
   ]
  },
  {
   "cell_type": "markdown",
   "metadata": {},
   "source": [
    "To use custom UDF in a plain, SQL query we need to register it in a sqlContext"
   ]
  },
  {
   "cell_type": "code",
   "execution_count": 37,
   "metadata": {},
   "outputs": [
    {
     "name": "stdout",
     "output_type": "stream",
     "text": [
      "+----------------+\n",
      "| my_udf(shop_id)|\n",
      "+----------------+\n",
      "|AFTER_UDF_SHOP_1|\n",
      "|AFTER_UDF_SHOP_1|\n",
      "|AFTER_UDF_SHOP_1|\n",
      "|AFTER_UDF_SHOP_2|\n",
      "|AFTER_UDF_SHOP_2|\n",
      "+----------------+\n",
      "\n"
     ]
    }
   ],
   "source": [
    "from pyspark import SparkContext\n",
    "from pyspark.sql import SQLContext\n",
    "\n",
    "sqlContext = SQLContext(spark.sparkContext)\n",
    "sqlContext.registerFunction(\"my_udf\", my_custom_function)\n",
    "\n",
    "spark.sql(\"select my_udf(shop_id) from sales\").show()\n"
   ]
  },
  {
   "cell_type": "markdown",
   "metadata": {},
   "source": [
    "### ex10. UDF calculating sales for given transaction by multiplying qty and unit_price  \n",
    "Create a UDF taking two columns (qty and unit_price) from total_sales_df and returning their product as a new column"
   ]
  },
  {
   "cell_type": "code",
   "execution_count": 38,
   "metadata": {},
   "outputs": [
    {
     "name": "stdout",
     "output_type": "stream",
     "text": [
      "+-------+---+----------------+-------+----------+-----------+----------------------+\n",
      "|shop_id|qty|transaction_date|item_id|unit_price|total_sales|custom_udf_total_sales|\n",
      "+-------+---+----------------+-------+----------+-----------+----------------------+\n",
      "| SHOP_1|  2|      2018-02-01| ITEM_1|     100.0|      200.0|                 200.0|\n",
      "| SHOP_1|  1|      2018-02-01| ITEM_2|     300.0|      300.0|                 300.0|\n",
      "| SHOP_1|  4|      2018-02-10| ITEM_3|      50.0|      200.0|                 200.0|\n",
      "| SHOP_2|  1|      2018-02-02| ITEM_3|      50.0|       50.0|                  50.0|\n",
      "| SHOP_2|  1|      2018-02-11| ITEM_1|     100.0|      100.0|                 100.0|\n",
      "+-------+---+----------------+-------+----------+-----------+----------------------+\n",
      "\n"
     ]
    }
   ],
   "source": [
    "def my_custom_multiply(col1, col2):\n",
    "    return col1 * col2\n",
    "\n",
    "my_custom_multiply_udf = f.udf(my_custom_multiply)\n",
    "\n",
    "total_sales_df.withColumn(\"custom_udf_total_sales\", my_custom_multiply(f.col(\"qty\"), f.col(\"unit_price\"))).show()"
   ]
  },
  {
   "cell_type": "markdown",
   "metadata": {},
   "source": [
    "What happens if we want to return more than one column from a UDF? Let's try returning a tuple."
   ]
  },
  {
   "cell_type": "code",
   "execution_count": 39,
   "metadata": {},
   "outputs": [
    {
     "name": "stdout",
     "output_type": "stream",
     "text": [
      "# Results not as expected - seems like calling toString on Object\n",
      "+-------+------------------------------------+----------------------------+\n",
      "|shop_id|sales_ts                            |shop_id_splits              |\n",
      "+-------+------------------------------------+----------------------------+\n",
      "|SHOP_2 |[[2018, 5, 50.0], [2018, 6, 100.0]] |[Ljava.lang.Object;@6f5dae41|\n",
      "|SHOP_1 |[[2018, 5, 500.0], [2018, 6, 200.0]]|[Ljava.lang.Object;@7d6842d4|\n",
      "+-------+------------------------------------+----------------------------+\n",
      "\n",
      "# Actual inferred schema: one string instead of a tuple\n",
      "root\n",
      " |-- shop_id: string (nullable = true)\n",
      " |-- sales_ts: array (nullable = true)\n",
      " |    |-- element: struct (containsNull = true)\n",
      " |    |    |-- year: integer (nullable = true)\n",
      " |    |    |-- week: integer (nullable = true)\n",
      " |    |    |-- sales: double (nullable = true)\n",
      " |-- shop_id_splits: string (nullable = true)\n",
      "\n"
     ]
    }
   ],
   "source": [
    "def split_shop_id(shop_id):\n",
    "    s, i = shop_id.split(\"_\")\n",
    "    return s, int(i) \n",
    "\n",
    "split_shop_id_udf = f.udf(split_shop_id)\n",
    "df_udf_no_schema = shop_sales_weekly_series_df.withColumn(\"shop_id_splits\", split_shop_id_udf(f.col(\"shop_id\")))\n",
    "print(\"# Results not as expected - seems like calling toString on Object\")\n",
    "df_udf_no_schema.show(truncate=False)\n",
    "\n",
    "print(\"# Actual inferred schema: one string instead of a tuple\")\n",
    "df_udf_no_schema.printSchema()"
   ]
  },
  {
   "cell_type": "markdown",
   "metadata": {},
   "source": [
    "To avoid that situation we need to define a result schema for our UDF"
   ]
  },
  {
   "cell_type": "code",
   "execution_count": 40,
   "metadata": {},
   "outputs": [
    {
     "name": "stdout",
     "output_type": "stream",
     "text": [
      "+-------+------------------------------------+----------------------------+--------------------------+\n",
      "|shop_id|sales_ts                            |shop_id_splits              |shop_id_splits_with_schema|\n",
      "+-------+------------------------------------+----------------------------+--------------------------+\n",
      "|SHOP_2 |[[2018, 5, 50.0], [2018, 6, 100.0]] |[Ljava.lang.Object;@361a1c0f|[SHOP, 2]                 |\n",
      "|SHOP_1 |[[2018, 5, 500.0], [2018, 6, 200.0]]|[Ljava.lang.Object;@4f2eaeb |[SHOP, 1]                 |\n",
      "+-------+------------------------------------+----------------------------+--------------------------+\n",
      "\n",
      "# New schema is correct as well\n",
      "root\n",
      " |-- shop_id: string (nullable = true)\n",
      " |-- sales_ts: array (nullable = true)\n",
      " |    |-- element: struct (containsNull = true)\n",
      " |    |    |-- year: integer (nullable = true)\n",
      " |    |    |-- week: integer (nullable = true)\n",
      " |    |    |-- sales: double (nullable = true)\n",
      " |-- shop_id_splits: string (nullable = true)\n",
      " |-- shop_id_splits_with_schema: struct (nullable = true)\n",
      " |    |-- s: string (nullable = true)\n",
      " |    |-- i: integer (nullable = true)\n",
      "\n"
     ]
    }
   ],
   "source": [
    "from pyspark.sql.types import IntegerType, StringType, StructType, StructField\n",
    "\n",
    "schema = StructType([StructField(\"s\", StringType()), StructField(\"i\", IntegerType())])\n",
    "udf_with_schema = f.udf(split_shop_id, schema)\n",
    "\n",
    "df = df_udf_no_schema.withColumn(\"shop_id_splits_with_schema\", udf_with_schema(f.col(\"shop_id\")))\n",
    "df.show(truncate=False)\n",
    "print(\"# New schema is correct as well\")\n",
    "df.printSchema()"
   ]
  },
  {
   "cell_type": "markdown",
   "metadata": {},
   "source": [
    "## Creating multiple columns based on a result from UDF\n",
    "In the last example we created one column with multiple values, now let's try to extract them to separate columns\n",
    "\n",
    "This can be done using asterisk __\\*__"
   ]
  },
  {
   "cell_type": "code",
   "execution_count": 41,
   "metadata": {},
   "outputs": [
    {
     "name": "stdout",
     "output_type": "stream",
     "text": [
      "+-------+--------------------+--------------------+----+---+\n",
      "|shop_id|            sales_ts|      shop_id_splits|   s|  i|\n",
      "+-------+--------------------+--------------------+----+---+\n",
      "| SHOP_2|[[2018, 5, 50.0],...|[Ljava.lang.Objec...|SHOP|  2|\n",
      "| SHOP_1|[[2018, 5, 500.0]...|[Ljava.lang.Objec...|SHOP|  1|\n",
      "+-------+--------------------+--------------------+----+---+\n",
      "\n",
      "# Schema was updated and new fields have correct types\n",
      "root\n",
      " |-- shop_id: string (nullable = true)\n",
      " |-- sales_ts: array (nullable = true)\n",
      " |    |-- element: struct (containsNull = true)\n",
      " |    |    |-- year: integer (nullable = true)\n",
      " |    |    |-- week: integer (nullable = true)\n",
      " |    |    |-- sales: double (nullable = true)\n",
      " |-- shop_id_splits: string (nullable = true)\n",
      " |-- s: string (nullable = true)\n",
      " |-- i: integer (nullable = true)\n",
      "\n"
     ]
    }
   ],
   "source": [
    "df_split_shop_id = df.select(\"*\", \"shop_id_splits_with_schema.*\").drop(\"shop_id_splits_with_schema\")\n",
    "df_split_shop_id.show()\n",
    "print(\"# Schema was updated and new fields have correct types\")\n",
    "df_split_shop_id.printSchema()"
   ]
  },
  {
   "cell_type": "markdown",
   "metadata": {},
   "source": [
    "Solution above will invoke UDF as many times as new column (it's a feature not a bug! https://issues.apache.org/jira/browse/SPARK-17728\").\n",
    "\n",
    "For costly UDFs (and in pySpark most of them are very costly) we have a workaround: we need to explode an array with one element - result of the UDF"
   ]
  },
  {
   "cell_type": "code",
   "execution_count": 42,
   "metadata": {},
   "outputs": [
    {
     "name": "stdout",
     "output_type": "stream",
     "text": [
      "+-------+--------------------+--------------------+----+---+\n",
      "|shop_id|            sales_ts|      shop_id_splits|   s|  i|\n",
      "+-------+--------------------+--------------------+----+---+\n",
      "| SHOP_2|[[2018, 5, 50.0],...|[Ljava.lang.Objec...|SHOP|  2|\n",
      "| SHOP_1|[[2018, 5, 500.0]...|[Ljava.lang.Objec...|SHOP|  1|\n",
      "+-------+--------------------+--------------------+----+---+\n",
      "\n",
      "# Results and schema are the same\n",
      "root\n",
      " |-- shop_id: string (nullable = true)\n",
      " |-- sales_ts: array (nullable = true)\n",
      " |    |-- element: struct (containsNull = true)\n",
      " |    |    |-- year: integer (nullable = true)\n",
      " |    |    |-- week: integer (nullable = true)\n",
      " |    |    |-- sales: double (nullable = true)\n",
      " |-- shop_id_splits: string (nullable = true)\n",
      " |-- s: string (nullable = true)\n",
      " |-- i: integer (nullable = true)\n",
      "\n"
     ]
    }
   ],
   "source": [
    "df_split_shop_id_correct = df_udf_no_schema.withColumn(\"shop_id_splits_with_schema\", \\\n",
    "                                 f.explode(f.array(udf_with_schema(f.col(\"shop_id\")))))\n",
    "\n",
    "df_split_shop_id_correct = df_split_shop_id_correct \\\n",
    "    .select(\"*\", \"shop_id_splits_with_schema.*\") \\\n",
    "    .drop(\"shop_id_splits_with_schema\")\n",
    "df_split_shop_id_correct.show()\n",
    "print(\"# Results and schema are the same\")\n",
    "df_split_shop_id_correct.printSchema()\n"
   ]
  },
  {
   "cell_type": "markdown",
   "metadata": {},
   "source": [
    "But how do we know that this UDF will be invoked multiple times? Let's take a deeper look at execution plans of both queries.\n",
    "\n",
    "For the first version we can see:\n",
    "\n",
    "> +- BatchEvalPython [split_shop_id(shop_id#10), split_shop_id(shop_id#10), split_shop_id(shop_id#10)], [shop_id#10, sales_ts#3899, pythonUDF0#4442, pythonUDF1#4443, pythonUDF2#4444]\n",
    "\n",
    "which contains multiple pythonUDF references.\n",
    "                                  \n",
    "For the updated solution there's only one invocation:\n",
    "\n",
    "> +- BatchEvalPython [split_shop_id(shop_id#10)], [shop_id#10, sales_ts#3899, shop_id_splits#4155, pythonUDF0#4448]\n"
   ]
  },
  {
   "cell_type": "code",
   "execution_count": 43,
   "metadata": {},
   "outputs": [
    {
     "name": "stdout",
     "output_type": "stream",
     "text": [
      "== Physical Plan ==\n",
      "*(4) Project [shop_id#10, sales_ts#2191, pythonUDF0#2633 AS shop_id_splits#2399, pythonUDF2#2635.s AS s#2499, pythonUDF2#2635.i AS i#2500]\n",
      "+- BatchEvalPython [split_shop_id(shop_id#10), split_shop_id(shop_id#10), split_shop_id(shop_id#10)], [shop_id#10, sales_ts#2191, pythonUDF0#2633, pythonUDF1#2634, pythonUDF2#2635]\n",
      "   +- ObjectHashAggregate(keys=[shop_id#10], functions=[collect_list(named_struct(year, year#2037, week, week#2036, sales, sales#2045), 0, 0)])\n",
      "      +- Exchange hashpartitioning(shop_id#10, 200)\n",
      "         +- ObjectHashAggregate(keys=[shop_id#10], functions=[partial_collect_list(named_struct(year, year#2037, week, week#2036, sales, sales#2045), 0, 0)])\n",
      "            +- *(3) HashAggregate(keys=[shop_id#10, weekofyear(cast(transaction_date#13 as date))#2636, year(cast(transaction_date#13 as date))#2637], functions=[sum(total_sales#358)])\n",
      "               +- Exchange hashpartitioning(shop_id#10, weekofyear(cast(transaction_date#13 as date))#2636, year(cast(transaction_date#13 as date))#2637, 200)\n",
      "                  +- *(2) HashAggregate(keys=[shop_id#10, weekofyear(cast(transaction_date#13 as date)) AS weekofyear(cast(transaction_date#13 as date))#2636, year(cast(transaction_date#13 as date)) AS year(cast(transaction_date#13 as date))#2637], functions=[partial_sum(total_sales#358)])\n",
      "                     +- *(2) Project [shop_id#10, transaction_date#13, (cast(qty#12 as double) * cast(unit_price#29 as double)) AS total_sales#358]\n",
      "                        +- *(2) BroadcastHashJoin [item_id#11], [item_id#28], Inner, BuildRight\n",
      "                           :- *(2) Project [shop_id#10, item_id#11, qty#12, transaction_date#13]\n",
      "                           :  +- *(2) Filter isnotnull(item_id#11)\n",
      "                           :     +- *(2) FileScan csv [shop_id#10,item_id#11,qty#12,transaction_date#13] Batched: false, Format: CSV, Location: InMemoryFileIndex[file:/Users/mkromka/dev/trainings/pySpark_workshop/data/sales.csv], PartitionFilters: [], PushedFilters: [IsNotNull(item_id)], ReadSchema: struct<shop_id:string,item_id:string,qty:string,transaction_date:string>\n",
      "                           +- BroadcastExchange HashedRelationBroadcastMode(List(input[0, string, true]))\n",
      "                              +- *(1) Project [item_id#28, unit_price#29]\n",
      "                                 +- *(1) Filter isnotnull(item_id#28)\n",
      "                                    +- *(1) FileScan csv [item_id#28,unit_price#29] Batched: false, Format: CSV, Location: InMemoryFileIndex[file:/Users/mkromka/dev/trainings/pySpark_workshop/data/item_prices.csv], PartitionFilters: [], PushedFilters: [IsNotNull(item_id)], ReadSchema: struct<item_id:string,unit_price:string>\n",
      "\n",
      "\n",
      "\n",
      "\n",
      "== Physical Plan ==\n",
      "*(5) Project [shop_id#10, sales_ts#2191, shop_id_splits#2399, shop_id_splits_with_schema#2565.s AS s#2570, shop_id_splits_with_schema#2565.i AS i#2571]\n",
      "+- *(5) Project [shop_id#10, sales_ts#2191, shop_id_splits#2399, shop_id_splits_with_schema#2565]\n",
      "   +- Generate explode(array(pythonUDF0#2639)), [shop_id#10, sales_ts#2191, shop_id_splits#2399, pythonUDF0#2639], false, [shop_id_splits_with_schema#2565]\n",
      "      +- BatchEvalPython [split_shop_id(shop_id#10)], [shop_id#10, sales_ts#2191, shop_id_splits#2399, pythonUDF0#2639]\n",
      "         +- *(4) Project [shop_id#10, sales_ts#2191, pythonUDF0#2638 AS shop_id_splits#2399]\n",
      "            +- BatchEvalPython [split_shop_id(shop_id#10)], [shop_id#10, sales_ts#2191, pythonUDF0#2638]\n",
      "               +- ObjectHashAggregate(keys=[shop_id#10], functions=[collect_list(named_struct(year, year#2037, week, week#2036, sales, sales#2045), 0, 0)])\n",
      "                  +- Exchange hashpartitioning(shop_id#10, 200)\n",
      "                     +- ObjectHashAggregate(keys=[shop_id#10], functions=[partial_collect_list(named_struct(year, year#2037, week, week#2036, sales, sales#2045), 0, 0)])\n",
      "                        +- *(3) HashAggregate(keys=[shop_id#10, weekofyear(cast(transaction_date#13 as date))#2640, year(cast(transaction_date#13 as date))#2641], functions=[sum(total_sales#358)])\n",
      "                           +- Exchange hashpartitioning(shop_id#10, weekofyear(cast(transaction_date#13 as date))#2640, year(cast(transaction_date#13 as date))#2641, 200)\n",
      "                              +- *(2) HashAggregate(keys=[shop_id#10, weekofyear(cast(transaction_date#13 as date)) AS weekofyear(cast(transaction_date#13 as date))#2640, year(cast(transaction_date#13 as date)) AS year(cast(transaction_date#13 as date))#2641], functions=[partial_sum(total_sales#358)])\n",
      "                                 +- *(2) Project [shop_id#10, transaction_date#13, (cast(qty#12 as double) * cast(unit_price#29 as double)) AS total_sales#358]\n",
      "                                    +- *(2) BroadcastHashJoin [item_id#11], [item_id#28], Inner, BuildRight\n",
      "                                       :- *(2) Project [shop_id#10, item_id#11, qty#12, transaction_date#13]\n",
      "                                       :  +- *(2) Filter isnotnull(item_id#11)\n",
      "                                       :     +- *(2) FileScan csv [shop_id#10,item_id#11,qty#12,transaction_date#13] Batched: false, Format: CSV, Location: InMemoryFileIndex[file:/Users/mkromka/dev/trainings/pySpark_workshop/data/sales.csv], PartitionFilters: [], PushedFilters: [IsNotNull(item_id)], ReadSchema: struct<shop_id:string,item_id:string,qty:string,transaction_date:string>\n",
      "                                       +- BroadcastExchange HashedRelationBroadcastMode(List(input[0, string, true]))\n",
      "                                          +- *(1) Project [item_id#28, unit_price#29]\n",
      "                                             +- *(1) Filter isnotnull(item_id#28)\n",
      "                                                +- *(1) FileScan csv [item_id#28,unit_price#29] Batched: false, Format: CSV, Location: InMemoryFileIndex[file:/Users/mkromka/dev/trainings/pySpark_workshop/data/item_prices.csv], PartitionFilters: [], PushedFilters: [IsNotNull(item_id)], ReadSchema: struct<item_id:string,unit_price:string>\n"
     ]
    }
   ],
   "source": [
    "df_split_shop_id.explain()\n",
    "print(\"\\n\\n\\n\")\n",
    "df_split_shop_id_correct.explain()\n"
   ]
  },
  {
   "cell_type": "markdown",
   "metadata": {},
   "source": [
    "### ex.11 Sort each time series in wrongly_sorted_series_df from previous exercise in descending order and compare to initial ts \n",
    "tip: use python's sorted method inside a UDF. FloatType and ArrayType imports may be usefull as well"
   ]
  },
  {
   "cell_type": "code",
   "execution_count": 44,
   "metadata": {},
   "outputs": [
    {
     "name": "stdout",
     "output_type": "stream",
     "text": [
      "+-------+--------------------+--------------------+\n",
      "|shop_id|            sales_ts|           sorted_ts|\n",
      "+-------+--------------------+--------------------+\n",
      "| SHOP_2|[[2018, 5, 50.0],...|[[2018, 6, 100.0]...|\n",
      "| SHOP_1|[[2018, 5, 500.0]...|[[2018, 6, 200.0]...|\n",
      "+-------+--------------------+--------------------+\n",
      "\n"
     ]
    }
   ],
   "source": [
    "from pyspark.sql.types import FloatType, ArrayType\n",
    "\n",
    "def sort_ts(ts):\n",
    "    s_ts = sorted(ts, key=lambda row: (-row.week, -row.year))\n",
    "    return s_ts\n",
    "\n",
    "sort_ts_udf = f.udf(sort_ts, ArrayType(StructType(\n",
    "            [StructField(\"year\", IntegerType()),\n",
    "             StructField(\"week\", IntegerType()),\n",
    "             StructField(\"sales\", FloatType())])))\n",
    "\n",
    "sorted_ts_df = wrongly_sorted_series_df.withColumn(\"sorted_ts\", sort_ts_udf(f.col(\"sales_ts\")))\n",
    "\n",
    "sorted_ts_df.show()\n"
   ]
  }
 ],
 "metadata": {
  "anaconda-cloud": {},
  "kernelspec": {
   "display_name": "Python 3",
   "language": "python",
   "name": "python3"
  },
  "language_info": {
   "codemirror_mode": {
    "name": "ipython",
    "version": 3
   },
   "file_extension": ".py",
   "mimetype": "text/x-python",
   "name": "python",
   "nbconvert_exporter": "python",
   "pygments_lexer": "ipython3",
   "version": "3.7.4"
  }
 },
 "nbformat": 4,
 "nbformat_minor": 1
}
