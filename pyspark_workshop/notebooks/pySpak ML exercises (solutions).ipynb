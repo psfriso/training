{
 "cells": [
  {
   "cell_type": "code",
   "execution_count": 1,
   "metadata": {},
   "outputs": [
    {
     "name": "stdout",
     "output_type": "stream",
     "text": [
      "Created local SparkSession\n",
      "Created \"sales\" view from CSV file\n",
      "Created \"item_prices\" view from CSV file\n"
     ]
    }
   ],
   "source": [
    "import env_setup\n",
    "import pyspark.sql.functions as f\n",
    "import pandas as pd\n",
    "\n",
    "spark = env_setup.getSession(local=True)\n",
    "sales_df = spark.table(\"sales\")\n",
    "item_prices_df = spark.table(\"item_prices\")"
   ]
  },
  {
   "cell_type": "markdown",
   "metadata": {},
   "source": [
    "# Pandas UDFs\n",
    "\n",
    "Many data science libraries use pandas dataframes for operations. We would like to use them in our spark UDF easily. Before Spark 2.3 we had to manually map our column to pandas Series:"
   ]
  },
  {
   "cell_type": "code",
   "execution_count": 2,
   "metadata": {},
   "outputs": [
    {
     "name": "stdout",
     "output_type": "stream",
     "text": [
      "+----+------------------+-------------+--------------------+\n",
      "|data|old_udf_type(data)|old_udf(data)|old_udf_pandas(data)|\n",
      "+----+------------------+-------------+--------------------+\n",
      "|1   |<class 'int'>     |>>>1<<<      |1                   |\n",
      "|2   |<class 'int'>     |>>>2<<<      |1                   |\n",
      "|3   |<class 'int'>     |>>>3<<<      |1                   |\n",
      "+----+------------------+-------------+--------------------+\n",
      "\n",
      "+---------+------------------+---------------+--------------------+\n",
      "|data     |old_udf_type(data)|old_udf(data)  |old_udf_pandas(data)|\n",
      "+---------+------------------+---------------+--------------------+\n",
      "|[1, 2, 3]|<class 'list'>    |>>>[1, 2, 3]<<<|3                   |\n",
      "|[2]      |<class 'list'>    |>>>[2]<<<      |1                   |\n",
      "+---------+------------------+---------------+--------------------+\n",
      "\n"
     ]
    }
   ],
   "source": [
    "from pyspark.sql.functions import udf\n",
    "from pyspark.sql.types import IntegerType, StringType, ArrayType, FloatType, StructType, StructField, DateType, DoubleType\n",
    "\n",
    "@udf(StringType())\n",
    "def old_udf_type(col):\n",
    "    return str(type(col))\n",
    "\n",
    "@udf(StringType())\n",
    "def old_udf(col):\n",
    "    return \">>>\" + str(col) + \"<<<\" # + is invoked on string\n",
    "\n",
    "@udf(StringType())\n",
    "def old_udf_pandas(col):\n",
    "    pds = pd.Series(col) # creating pandas Series\n",
    "    return str(len(pds)) # using pandas api, need to return python list\n",
    "#     return str(pds.sum()) \n",
    "\n",
    "df1 = spark.createDataFrame([(1,),(2,), (3,)], ['data'])\n",
    "df2 = spark.createDataFrame([([1,2,3],),([2],)], ['data'])\n",
    "\n",
    "df1.select(\"data\", old_udf_type(\"data\"), old_udf(\"data\"), old_udf_pandas(\"data\")).show(truncate=False)\n",
    "df2.select(\"data\", old_udf_type(\"data\"), old_udf(\"data\"), old_udf_pandas(\"data\")).show(truncate=False)"
   ]
  },
  {
   "cell_type": "markdown",
   "metadata": {},
   "source": [
    "## Scalar pandas udf\n",
    "\n",
    "The type of variable passed to the udf is exactly the same as the one from schema. If we create a pandas Series from the input, then in we will have __one Series per row__. Its size will differ based on the actual value (and its type).\n",
    "\n",
    "Spark 2.3 introduced pandas_udf function, which treats the input to udf as a pandas Series __but in a different way__. In pandas_udf there will be at most as many series as there are rows. Spark can optimize it and put values from multiple rows inside one Series.\n",
    "\n",
    "To use pandas udfs we need to install pyarrow package by invoking in our terminal:\n",
    "```conda install pyarrow```\n",
    "Then a kernel restart should be needed to have it available.\n",
    "\n",
    "To have behavior similar to normal UDFs (where we have one to one mapping between rows) we need to use __SCALAR__ pandas udf. We specify that as a second argument to the pandas_udf function."
   ]
  },
  {
   "cell_type": "code",
   "execution_count": 3,
   "metadata": {},
   "outputs": [
    {
     "name": "stdout",
     "output_type": "stream",
     "text": [
      "+----+-----------------------------------+-----------------------------+-----------------+\n",
      "|data|pudf_type(data)                    |pudf_str_series(data)        |pudf_length(data)|\n",
      "+----+-----------------------------------+-----------------------------+-----------------+\n",
      "|1   |<class 'pandas.core.series.Series'>|0    1\n",
      "Name: _0, dtype: int64|##1##1           |\n",
      "|2   |<class 'pandas.core.series.Series'>|0    2\n",
      "Name: _0, dtype: int64|##2##1           |\n",
      "|3   |<class 'pandas.core.series.Series'>|0    3\n",
      "Name: _0, dtype: int64|##3##1           |\n",
      "+----+-----------------------------------+-----------------------------+-----------------+\n",
      "\n",
      "+---------+-----------------------------------+--------------------------------------+-----------------+\n",
      "|data     |pudf_type(data)                    |pudf_str_series(data)                 |pudf_length(data)|\n",
      "+---------+-----------------------------------+--------------------------------------+-----------------+\n",
      "|[1, 2, 3]|<class 'pandas.core.series.Series'>|0    [1, 2, 3]\n",
      "Name: _0, dtype: object|##[1 2 3]##1     |\n",
      "|[2]      |<class 'pandas.core.series.Series'>|0    [2]\n",
      "Name: _0, dtype: object      |##[2]##1         |\n",
      "+---------+-----------------------------------+--------------------------------------+-----------------+\n",
      "\n"
     ]
    }
   ],
   "source": [
    "from pyspark.sql.functions import pandas_udf, PandasUDFType\n",
    "import pandas as pd\n",
    "\n",
    "@pandas_udf(StringType(), PandasUDFType.SCALAR)\n",
    "def pudf_type(col_as_pd_series):\n",
    "    return pd.Series([str(type(col_as_pd_series))]) # It may not work on bigger dataset because we always return 1 element!\n",
    "\n",
    "@pandas_udf(StringType(), PandasUDFType.SCALAR)\n",
    "def pudf_str_series(col_as_pd_series):\n",
    "    return pd.Series([str(col_as_pd_series)]) # as above, may not work on bigger dataset\n",
    "\n",
    "@pandas_udf(StringType(), PandasUDFType.SCALAR)\n",
    "def pudf_length(col_as_pd_series):\n",
    "    # + below is invoked on pandas.Series\n",
    "    return \"##\" + col_as_pd_series.astype(str) + \"##\" + str(len(col_as_pd_series)) \n",
    "\n",
    "\n",
    "\n",
    "df1.select(\"data\", pudf_type(\"data\"), pudf_str_series(\"data\"), pudf_length(\"data\")).show(truncate=False)\n",
    "df2.select(\"data\", pudf_type(\"data\"), pudf_str_series(\"data\"), pudf_length(\"data\")).show(truncate=False)\n"
   ]
  },
  {
   "cell_type": "markdown",
   "metadata": {},
   "source": [
    "SCALAR pandas udf is a mapping between two pandas Series, where number of elements in the output is the same as the input. pandas udf can change the type of a column on which it's invoked.\n",
    "\n",
    "SCALAR pandas udfs are useful when we already have a code working on pandas series. Previously Data Scientists tried calling toPandas() on Spark dataframe and then performing calculations on the driver. This has two disadvantages:\n",
    "1. It won't work for datasets that do not fit into driver's memory\n",
    "2. Can't be parallelized (only via pandas parallelization on driver)"
   ]
  },
  {
   "cell_type": "markdown",
   "metadata": {},
   "source": [
    "## Grouped_agg pandas udf\n",
    "The second type of pandas_udf is __GROUPED_AGG__ thanks to which we can define our user defined aggregate functions (UDAF). It can be seen as a mapping between pandas Series and a scalar invoked for each aggregation group. \n",
    "In previous versions of Spark, to achieve that we had to collect elements to list, map to pandas and then return a scalar, now it's much simpler:"
   ]
  },
  {
   "cell_type": "code",
   "execution_count": 4,
   "metadata": {},
   "outputs": [
    {
     "name": "stdout",
     "output_type": "stream",
     "text": [
      "+-------+-------+---+----------------+\n",
      "|shop_id|item_id|qty|transaction_date|\n",
      "+-------+-------+---+----------------+\n",
      "| SHOP_1| ITEM_1|  2|      2018-02-01|\n",
      "| SHOP_1| ITEM_2|  1|      2018-02-01|\n",
      "| SHOP_1| ITEM_3|  4|      2018-02-10|\n",
      "| SHOP_2| ITEM_3|  1|      2018-02-02|\n",
      "| SHOP_2| ITEM_1|  1|      2018-02-11|\n",
      "+-------+-------+---+----------------+\n",
      "\n",
      "+-------+--------------+\n",
      "|shop_id|pudf_mean(qty)|\n",
      "+-------+--------------+\n",
      "| SHOP_2|           1.0|\n",
      "| SHOP_1|     2.3333333|\n",
      "+-------+--------------+\n",
      "\n"
     ]
    }
   ],
   "source": [
    "@pandas_udf(FloatType(), PandasUDFType.GROUPED_AGG)\n",
    "def pudf_mean(group):\n",
    "    print(group)\n",
    "    return group.astype(int).mean() # our own implementation of mean() udf using pandas\n",
    "\n",
    "sales_df.show()\n",
    "sales_df.groupby(\"shop_id\").agg(pudf_mean(\"qty\")).show()"
   ]
  },
  {
   "cell_type": "markdown",
   "metadata": {},
   "source": [
    "We can use it also as window functions:"
   ]
  },
  {
   "cell_type": "code",
   "execution_count": 5,
   "metadata": {},
   "outputs": [],
   "source": [
    "from pyspark.sql import Window \n",
    "\n",
    "w = Window.partitionBy(\"shop_id\")\n",
    "new_df = sales_df.select(\"shop_id\", pudf_mean(\"qty\").over(w))"
   ]
  },
  {
   "cell_type": "markdown",
   "metadata": {},
   "source": [
    "How many rows will new_df have?"
   ]
  },
  {
   "cell_type": "code",
   "execution_count": 6,
   "metadata": {},
   "outputs": [
    {
     "name": "stdout",
     "output_type": "stream",
     "text": [
      "+-------+--------------------------------------------------------------+\n",
      "|shop_id|pudf_mean(qty) OVER (PARTITION BY shop_id unspecifiedframe$())|\n",
      "+-------+--------------------------------------------------------------+\n",
      "| SHOP_2|                                                           1.0|\n",
      "| SHOP_2|                                                           1.0|\n",
      "| SHOP_1|                                                     2.3333333|\n",
      "| SHOP_1|                                                     2.3333333|\n",
      "| SHOP_1|                                                     2.3333333|\n",
      "+-------+--------------------------------------------------------------+\n",
      "\n"
     ]
    }
   ],
   "source": [
    "new_df.count()\n",
    "new_df.show()"
   ]
  },
  {
   "cell_type": "markdown",
   "metadata": {},
   "source": [
    "Of course as many as there are rows in the input DF, this is what windows are for."
   ]
  },
  {
   "cell_type": "markdown",
   "metadata": {},
   "source": [
    "## Grouped_map pandas udf\n",
    "\n",
    "There is another possibility of defining our pandas udf called __GROUPED_MAP__. It can be seen as a mapping from pd.DataFrame to another pd.DataFrame. \n",
    "\n",
    "The return type mut be a StructType corresponding to the types of returned pd.DataFrame. \n",
    "Number of rows can be arbitrary. \n",
    "\n",
    "It must be invoked on GroupedData (after groupby or inside a window). The input pd.DataFrame contains all columns from the input spark.Dataframe (aggregating column is also present) but with limited number of rows to each group."
   ]
  },
  {
   "cell_type": "code",
   "execution_count": 7,
   "metadata": {},
   "outputs": [
    {
     "name": "stdout",
     "output_type": "stream",
     "text": [
      "+-------+------------------+\n",
      "|shop_id|              mean|\n",
      "+-------+------------------+\n",
      "| SHOP_2|               1.0|\n",
      "| SHOP_2|               1.0|\n",
      "| SHOP_1|2.3333333333333335|\n",
      "| SHOP_1|2.3333333333333335|\n",
      "| SHOP_1|2.3333333333333335|\n",
      "+-------+------------------+\n",
      "\n"
     ]
    }
   ],
   "source": [
    "@pandas_udf(\"shop_id string, mean double\", PandasUDFType.GROUPED_MAP)\n",
    "def gm_pudf(pdf):\n",
    "    pdf['mean'] = pdf['qty'].astype(int).mean()\n",
    "    return pdf[['shop_id','mean']]\n",
    "\n",
    "sales_df.groupby(\"shop_id\").apply(gm_pudf).show()"
   ]
  },
  {
   "cell_type": "markdown",
   "metadata": {},
   "source": [
    "There is a possibility to get the aggregating column as a variable inside udf:"
   ]
  },
  {
   "cell_type": "code",
   "execution_count": 8,
   "metadata": {},
   "outputs": [
    {
     "name": "stdout",
     "output_type": "stream",
     "text": [
      "+--------------+------------------+\n",
      "|mapped_shop_id|              mean|\n",
      "+--------------+------------------+\n",
      "| SHOP_2#SHOP_2|               1.0|\n",
      "| SHOP_2#SHOP_2|               1.0|\n",
      "| SHOP_1#SHOP_1|2.3333333333333335|\n",
      "| SHOP_1#SHOP_1|2.3333333333333335|\n",
      "| SHOP_1#SHOP_1|2.3333333333333335|\n",
      "+--------------+------------------+\n",
      "\n"
     ]
    }
   ],
   "source": [
    "@pandas_udf(\"mapped_shop_id string, mean double\", PandasUDFType.GROUPED_MAP)\n",
    "def gm_pudf(key, pdf):\n",
    "    pdf['mean'] = pdf['qty'].astype(int).mean()\n",
    "    pdf['mapped_shop_id'] = pdf['shop_id'] + \"#\" + key\n",
    "    return pdf[['mapped_shop_id','mean']]\n",
    "\n",
    "sales_df.groupby(\"shop_id\").apply(gm_pudf).show()"
   ]
  },
  {
   "cell_type": "markdown",
   "metadata": {},
   "source": [
    "__additional notes:__ \n",
    "1. Udfs are considered deterministic (and may be invoked multiple times), if you have a nondeterministic function then use .asNondeterministic() method.\n",
    "2. Each group must fit into memory of the worker node. Skewed dataset may result in OOM.\n",
    "3. Only unbounded windows are supported for pandas UDFs"
   ]
  },
  {
   "cell_type": "markdown",
   "metadata": {},
   "source": [
    "### Ex. 1: Find correlation between temperature and humidity for each month using pandas UDFs\n",
    "\n",
    "\n",
    "In data folder there are two csv files from Kaggle https://www.kaggle.com/codersree/mount-rainier-weather-and-climbing-data\n",
    "\n",
    "Read Rainer_Weather.csv"
   ]
  },
  {
   "cell_type": "code",
   "execution_count": 9,
   "metadata": {},
   "outputs": [
    {
     "name": "stdout",
     "output_type": "stream",
     "text": [
      "+----------+-------------------+---------------+---------------------+--------------------+------------------+--------------------+\n",
      "|      Date|Battery Voltage AVG|Temperature AVG|Relative Humidity AVG|Wind Speed Daily AVG|Wind Direction AVG|Solare Radiation AVG|\n",
      "+----------+-------------------+---------------+---------------------+--------------------+------------------+--------------------+\n",
      "|12/31/2015|             13.845|    19.06291667|          21.87083333|         21.97779167|       62.32583333|         84.91529167|\n",
      "|12/30/2015|        13.82291667|    14.63120833|          18.49383333|         3.540541667|       121.5054167|         86.19283333|\n",
      "+----------+-------------------+---------------+---------------------+--------------------+------------------+--------------------+\n",
      "only showing top 2 rows\n",
      "\n",
      "464\n"
     ]
    }
   ],
   "source": [
    "weather_schema = StructType([\n",
    "    StructField(\"Date\", StringType()),\n",
    "    StructField(\"Battery Voltage AVG\", DoubleType()),\n",
    "    StructField(\"Temperature AVG\", DoubleType()),\n",
    "    StructField(\"Relative Humidity AVG\", DoubleType()),\n",
    "    StructField(\"Wind Speed Daily AVG\", DoubleType()),\n",
    "    StructField(\"Wind Direction AVG\", DoubleType()),\n",
    "    StructField(\"Solare Radiation AVG\", DoubleType())\n",
    "])\n",
    "rainer_weather_df = spark.read.option(\"header\", \"true\").csv(path=\"../data/Rainier_Weather.csv\", schema=weather_schema)\n",
    "rainer_weather_df.show(2)\n",
    "print(rainer_weather_df.count())"
   ]
  },
  {
   "cell_type": "markdown",
   "metadata": {},
   "source": [
    "1. Map \"Date\" field to Date Type (to_date function)\n",
    "2. Define pandas UDF to calculate correlation for of Temperature AVG and  Relative Humidity AVG for each month (try using grouped_agg UDF)\n",
    "3. Invoke udf and show the result ordered by month"
   ]
  },
  {
   "cell_type": "code",
   "execution_count": 10,
   "metadata": {},
   "outputs": [
    {
     "name": "stdout",
     "output_type": "stream",
     "text": [
      "+----------+-------------------+---------------+---------------------+--------------------+------------------+--------------------+\n",
      "|      Date|Battery Voltage AVG|Temperature AVG|Relative Humidity AVG|Wind Speed Daily AVG|Wind Direction AVG|Solare Radiation AVG|\n",
      "+----------+-------------------+---------------+---------------------+--------------------+------------------+--------------------+\n",
      "|2015-12-31|             13.845|    19.06291667|          21.87083333|         21.97779167|       62.32583333|         84.91529167|\n",
      "+----------+-------------------+---------------+---------------------+--------------------+------------------+--------------------+\n",
      "only showing top 1 row\n",
      "\n",
      "root\n",
      " |-- Date: date (nullable = true)\n",
      " |-- Battery Voltage AVG: double (nullable = true)\n",
      " |-- Temperature AVG: double (nullable = true)\n",
      " |-- Relative Humidity AVG: double (nullable = true)\n",
      " |-- Wind Speed Daily AVG: double (nullable = true)\n",
      " |-- Wind Direction AVG: double (nullable = true)\n",
      " |-- Solare Radiation AVG: double (nullable = true)\n",
      "\n",
      "12\n",
      "+-----+------------+\n",
      "|month|        corr|\n",
      "+-----+------------+\n",
      "|    1| -0.60713613|\n",
      "|    2| -0.52137023|\n",
      "|    3|  -0.6789836|\n",
      "|    4|  -0.5655488|\n",
      "|    5| -0.16762167|\n",
      "|    6|   -0.680385|\n",
      "|    7|  -0.7538197|\n",
      "|    8|  -0.6682967|\n",
      "|    9| -0.73671955|\n",
      "|   10| -0.78694963|\n",
      "|   11| -0.29571345|\n",
      "|   12|-0.035700515|\n",
      "+-----+------------+\n",
      "\n"
     ]
    }
   ],
   "source": [
    "rainer_weather_df = rainer_weather_df.withColumn(\"Date\", f.to_date(f.col(\"Date\"), \"MM/dd/yyyy\"))\n",
    "rainer_weather_df.show(1)\n",
    "rainer_weather_df.printSchema()\n",
    "\n",
    "@pandas_udf(FloatType(), PandasUDFType.GROUPED_AGG)\n",
    "def pudf_corr(temperature, humidity):\n",
    "    return temperature.corr(humidity)\n",
    "\n",
    "df_month = rainer_weather_df.withColumn(\"month\", f.month(\"Date\"))\n",
    "print(df_month.select(\"month\").distinct().count())\n",
    "df_month.groupby(\"month\").agg(pudf_corr(\"Temperature AVG\",\"Relative Humidity AVG\").alias(\"corr\")).orderBy(f.col(\"month\")).show()"
   ]
  },
  {
   "cell_type": "markdown",
   "metadata": {},
   "source": [
    "Now the same using GROUPED_MAP UDF"
   ]
  },
  {
   "cell_type": "code",
   "execution_count": 11,
   "metadata": {},
   "outputs": [
    {
     "name": "stdout",
     "output_type": "stream",
     "text": [
      "root\n",
      " |-- Date: date (nullable = true)\n",
      " |-- Battery Voltage AVG: double (nullable = true)\n",
      " |-- Temperature AVG: double (nullable = true)\n",
      " |-- Relative Humidity AVG: double (nullable = true)\n",
      " |-- Wind Speed Daily AVG: double (nullable = true)\n",
      " |-- Wind Direction AVG: double (nullable = true)\n",
      " |-- Solare Radiation AVG: double (nullable = true)\n",
      " |-- month: integer (nullable = true)\n",
      "\n"
     ]
    }
   ],
   "source": [
    "df_month.printSchema()"
   ]
  },
  {
   "cell_type": "code",
   "execution_count": 12,
   "metadata": {},
   "outputs": [
    {
     "name": "stdout",
     "output_type": "stream",
     "text": [
      "+-----+------------+\n",
      "|month|        corr|\n",
      "+-----+------------+\n",
      "|    1| -0.60713613|\n",
      "|    2| -0.52137023|\n",
      "|    3|  -0.6789836|\n",
      "|    4|  -0.5655488|\n",
      "|    5| -0.16762167|\n",
      "|    6|   -0.680385|\n",
      "|    7|  -0.7538197|\n",
      "|    8|  -0.6682967|\n",
      "|    9| -0.73671955|\n",
      "|   10| -0.78694963|\n",
      "|   11| -0.29571345|\n",
      "|   12|-0.035700515|\n",
      "+-----+------------+\n",
      "\n"
     ]
    }
   ],
   "source": [
    "@pandas_udf('month integer, corr float', PandasUDFType.GROUPED_MAP)\n",
    "def pudf_corr_map(key, pdf):\n",
    "    corr = pdf[\"Temperature AVG\"].corr(pdf[\"Relative Humidity AVG\"])\n",
    "    d = {\"month\": key,\n",
    "         \"corr\": corr}\n",
    "    return pd.DataFrame(d, index=[1])\n",
    "\n",
    "df_month.drop(\"Date\").groupby(\"month\").apply(pudf_corr_map).orderBy(\"month\").show()"
   ]
  },
  {
   "cell_type": "markdown",
   "metadata": {},
   "source": [
    "__Side note__ Spark's dataframes have some statistical functions available:"
   ]
  },
  {
   "cell_type": "code",
   "execution_count": 13,
   "metadata": {},
   "outputs": [
    {
     "data": {
      "text/plain": [
       "-0.03570051636599091"
      ]
     },
     "execution_count": 13,
     "metadata": {},
     "output_type": "execute_result"
    }
   ],
   "source": [
    "df_month.where(f.col(\"month\") == \"12\").stat.corr(\"Temperature AVG\", \"Relative Humidity AVG\")"
   ]
  },
  {
   "cell_type": "markdown",
   "metadata": {},
   "source": [
    "# Spark ML\n",
    "\n",
    "Spark ML operates on Dataframes containing columns of Vectors. Let's see how we can use vector assembler to transform our data\n",
    "\n",
    "Let's try to predict temperature based on other values"
   ]
  },
  {
   "cell_type": "code",
   "execution_count": 14,
   "metadata": {},
   "outputs": [
    {
     "name": "stdout",
     "output_type": "stream",
     "text": [
      "['Date', 'Battery Voltage AVG', 'Temperature AVG', 'Relative Humidity AVG', 'Wind Speed Daily AVG', 'Wind Direction AVG', 'Solare Radiation AVG', 'month']\n",
      "['Battery Voltage AVG', 'Relative Humidity AVG', 'Wind Speed Daily AVG', 'Wind Direction AVG', 'Solare Radiation AVG', 'month']\n",
      "+---------------+------------------------------------------------------------------+\n",
      "|Temperature AVG|features                                                          |\n",
      "+---------------+------------------------------------------------------------------+\n",
      "|19.06291667    |[13.845,21.87083333,21.97779167,62.32583333,84.91529167,12.0]     |\n",
      "|14.63120833    |[13.82291667,18.49383333,3.540541667,121.5054167,86.19283333,12.0]|\n",
      "+---------------+------------------------------------------------------------------+\n",
      "only showing top 2 rows\n",
      "\n",
      "root\n",
      " |-- Temperature AVG: double (nullable = true)\n",
      " |-- features: vector (nullable = true)\n",
      "\n"
     ]
    }
   ],
   "source": [
    "from pyspark.ml.feature import VectorAssembler\n",
    "\n",
    "\n",
    "label_col = 'Temperature AVG'\n",
    "cols = df_month.columns\n",
    "print(cols)\n",
    "cols.remove('Date')\n",
    "cols.remove(label_col)\n",
    "print(cols)\n",
    "\n",
    "vecAssembler = VectorAssembler(inputCols=cols, outputCol=\"features\")\n",
    "\n",
    "transformed_df = vecAssembler.transform(df_month).select(label_col, \"features\")\n",
    "transformed_df.show(2, False)\n",
    "transformed_df.printSchema()"
   ]
  },
  {
   "cell_type": "markdown",
   "metadata": {},
   "source": [
    "Let's split data into train and test datasets (why is that needed?)"
   ]
  },
  {
   "cell_type": "code",
   "execution_count": 15,
   "metadata": {},
   "outputs": [
    {
     "name": "stdout",
     "output_type": "stream",
     "text": [
      "464\n",
      "Train dataset size:\n",
      "381\n",
      "Test dataset size:\n",
      "83\n",
      "Number of features:\n",
      "6\n"
     ]
    }
   ],
   "source": [
    "train_data, test_data = transformed_df.randomSplit([.8,.2], seed=111)\n",
    "print(transformed_df.count())\n",
    "print(\"Train dataset size:\")\n",
    "print(train_data.count())\n",
    "print(\"Test dataset size:\")\n",
    "print(test_data.count())\n",
    "print(\"Number of features:\")\n",
    "print(str(len(cols)))\n"
   ]
  },
  {
   "cell_type": "markdown",
   "metadata": {},
   "source": [
    "Fitting linear regression model and printing basic information. \n",
    "Intercept is f(0). coefficients are the coefficients for each of the feature.  r2 is the coefficient of determination, it explains how much of the response variable variation is explained by the model (defined as r2 = 1-SS_res/SS_tot) - closer to 1 is usually better. Unfortunately there's no p-value for significance of coefficients."
   ]
  },
  {
   "cell_type": "code",
   "execution_count": 16,
   "metadata": {},
   "outputs": [
    {
     "name": "stdout",
     "output_type": "stream",
     "text": [
      "intercept: \n",
      "197.26741430922266\n",
      "Coefficients:\n",
      "[-12.199853698398842,-0.15166096689885933,0.1421879615797083,0.006094677045728606,0.06616304835888681,-0.7530263872381652]\n",
      "RMSE:\n",
      "7.136453394317182\n",
      "R^2:\n",
      "0.6550992545570922\n"
     ]
    }
   ],
   "source": [
    "from pyspark.ml.regression import LinearRegression\n",
    "\n",
    "lr = LinearRegression(labelCol=label_col)\n",
    "\n",
    "linear_model = lr.fit(train_data)\n",
    "print(\"intercept: \")\n",
    "print(linear_model.intercept)\n",
    "print(\"Coefficients:\")\n",
    "print(linear_model.coefficients)\n",
    "print(\"RMSE:\")\n",
    "print(linear_model.summary.rootMeanSquaredError)\n",
    "print(\"R^2:\")\n",
    "print(linear_model.summary.r2)"
   ]
  },
  {
   "cell_type": "markdown",
   "metadata": {},
   "source": [
    "If we have test_data set with labels then we can evaluate it. linear model will automatically get features from the \"features\" column."
   ]
  },
  {
   "cell_type": "code",
   "execution_count": 17,
   "metadata": {},
   "outputs": [
    {
     "name": "stdout",
     "output_type": "stream",
     "text": [
      "RMSE:\n",
      "7.7080993566340945\n",
      "R^2: \n",
      "0.4551143471821757\n"
     ]
    }
   ],
   "source": [
    "print(\"RMSE:\")\n",
    "print(linear_model.evaluate(test_data).rootMeanSquaredError)\n",
    "print(\"R^2: \")\n",
    "print(linear_model.evaluate(test_data).r2)"
   ]
  },
  {
   "cell_type": "markdown",
   "metadata": {},
   "source": [
    "If we don't have labels we can still use transform method to get results. "
   ]
  },
  {
   "cell_type": "code",
   "execution_count": 18,
   "metadata": {},
   "outputs": [
    {
     "name": "stdout",
     "output_type": "stream",
     "text": [
      "+---------------+--------------------+------------------+\n",
      "|Temperature AVG|            features|        prediction|\n",
      "+---------------+--------------------+------------------+\n",
      "|       4.028125|[13.68125,91.3166...|13.619681429886214|\n",
      "|       6.937875|[13.75458333,81.2...|16.717578904201076|\n",
      "+---------------+--------------------+------------------+\n",
      "only showing top 2 rows\n",
      "\n"
     ]
    }
   ],
   "source": [
    "predictions = linear_model.transform(test_data)\n",
    "predictions.show(2)"
   ]
  },
  {
   "cell_type": "markdown",
   "metadata": {},
   "source": [
    "Our model is not performing very well, but let's save it, load it and use for predictions. The __class__ we're using for loading the model __is different__ than the one we used for fitting model!"
   ]
  },
  {
   "cell_type": "code",
   "execution_count": 19,
   "metadata": {},
   "outputs": [
    {
     "name": "stdout",
     "output_type": "stream",
     "text": [
      "+---------------+--------------------+------------------+\n",
      "|Temperature AVG|            features|        prediction|\n",
      "+---------------+--------------------+------------------+\n",
      "|       4.028125|[13.68125,91.3166...|13.619681429886214|\n",
      "|       6.937875|[13.75458333,81.2...|16.717578904201076|\n",
      "+---------------+--------------------+------------------+\n",
      "only showing top 2 rows\n",
      "\n"
     ]
    }
   ],
   "source": [
    "from pyspark.ml.regression import LinearRegressionModel\n",
    "import shutil\n",
    "shutil.rmtree(\"linear_model\", ignore_errors=True)\n",
    "linear_model.save(\"linear_model\")\n",
    "loaded_lm = LinearRegressionModel.load(\"linear_model\")\n",
    "loaded_lm.transform(test_data).show(2)"
   ]
  },
  {
   "cell_type": "markdown",
   "metadata": {},
   "source": [
    "## ML Pipelines\n",
    "\n",
    "Most of ML systems work exactly the same:\n",
    "1. preprocess features (transforming dataframes)\n",
    "2. train model - sometimes with cross validation (generating object which will transform dataframes)\n",
    "3. use model for prediction (transforming dataframes)\n",
    "\n",
    "In Spark ML, all these three steps are defined using two type: `Transformer` and `Estimator`. The first one transforms dataframes and the second one fits a Transformer model.\n",
    "\n",
    "We can define a `Pipeline` using only those types. We already have them defined, we just need to combine them together"
   ]
  },
  {
   "cell_type": "code",
   "execution_count": 20,
   "metadata": {},
   "outputs": [
    {
     "name": "stdout",
     "output_type": "stream",
     "text": [
      "+----------+-------------------+---------------+---------------------+--------------------+------------------+--------------------+-----+--------------------+------------------+\n",
      "|      Date|Battery Voltage AVG|Temperature AVG|Relative Humidity AVG|Wind Speed Daily AVG|Wind Direction AVG|Solare Radiation AVG|month|            features|        prediction|\n",
      "+----------+-------------------+---------------+---------------------+--------------------+------------------+--------------------+-----+--------------------+------------------+\n",
      "|2015-12-31|             13.845|    19.06291667|          21.87083333|         21.97779167|       62.32583333|         84.91529167|   12|[13.845,21.870833...|24.935008005834703|\n",
      "|2015-12-30|        13.82291667|    14.63120833|          18.49383333|         3.540541667|       121.5054167|         86.19283333|   12|[13.82291667,18.4...|23.578075625312806|\n",
      "+----------+-------------------+---------------+---------------------+--------------------+------------------+--------------------+-----+--------------------+------------------+\n",
      "only showing top 2 rows\n",
      "\n"
     ]
    }
   ],
   "source": [
    "from pyspark.ml import Pipeline\n",
    "\n",
    "vectorAssemblerTransformer = vecAssembler\n",
    "modelEstimator = lr\n",
    "pipeline = Pipeline(stages = [vectorAssemblerTransformer, modelEstimator])\n",
    "\n",
    "model = pipeline.fit(df_month)\n",
    "model.transform(df_month).show(2)"
   ]
  },
  {
   "cell_type": "markdown",
   "metadata": {},
   "source": [
    "Example above didn't include splitting data into train and test datasets. Let's do something better and use TrainValidationSplit"
   ]
  },
  {
   "cell_type": "code",
   "execution_count": 21,
   "metadata": {},
   "outputs": [
    {
     "name": "stdout",
     "output_type": "stream",
     "text": [
      "+----------+-------------------+---------------+---------------------+--------------------+------------------+--------------------+-----+--------------------+------------------+\n",
      "|      Date|Battery Voltage AVG|Temperature AVG|Relative Humidity AVG|Wind Speed Daily AVG|Wind Direction AVG|Solare Radiation AVG|month|            features|        prediction|\n",
      "+----------+-------------------+---------------+---------------------+--------------------+------------------+--------------------+-----+--------------------+------------------+\n",
      "|2015-12-31|             13.845|    19.06291667|          21.87083333|         21.97779167|       62.32583333|         84.91529167|   12|[13.845,21.870833...|24.935008005834703|\n",
      "|2015-12-30|        13.82291667|    14.63120833|          18.49383333|         3.540541667|       121.5054167|         86.19283333|   12|[13.82291667,18.4...|23.578075625312806|\n",
      "+----------+-------------------+---------------+---------------------+--------------------+------------------+--------------------+-----+--------------------+------------------+\n",
      "only showing top 2 rows\n",
      "\n"
     ]
    }
   ],
   "source": [
    "from pyspark.ml.tuning import TrainValidationSplit, ParamGridBuilder\n",
    "from pyspark.ml.evaluation import RegressionEvaluator\n",
    "\n",
    "\n",
    "grid = ParamGridBuilder().addGrid(modelEstimator.maxIter, [5, 10]).build()\n",
    "regression_evaluator = RegressionEvaluator().setLabelCol(label_col).setMetricName(\"rmse\")\n",
    "tvs = TrainValidationSplit(estimator=modelEstimator, \n",
    "                           estimatorParamMaps=grid, \n",
    "                           evaluator=regression_evaluator, \n",
    "                           trainRatio=0.8)\n",
    "\n",
    "new_pipeline = Pipeline(stages=[vectorAssemblerTransformer, tvs])\n",
    "model = new_pipeline.fit(df_month)\n",
    "model.transform(df_month).show(2)\n"
   ]
  },
  {
   "cell_type": "markdown",
   "metadata": {},
   "source": [
    "Checking summary of a pipeline model is trickier"
   ]
  },
  {
   "cell_type": "code",
   "execution_count": 22,
   "metadata": {},
   "outputs": [
    {
     "data": {
      "text/plain": [
       "7.238441050183376"
      ]
     },
     "execution_count": 22,
     "metadata": {},
     "output_type": "execute_result"
    }
   ],
   "source": [
    "model.stages[-1].bestModel.summary.rootMeanSquaredError"
   ]
  },
  {
   "cell_type": "markdown",
   "metadata": {},
   "source": [
    "Let's compare it with the RegressionEvaluator metrics."
   ]
  },
  {
   "cell_type": "code",
   "execution_count": 23,
   "metadata": {},
   "outputs": [
    {
     "name": "stdout",
     "output_type": "stream",
     "text": [
      "rmse\n",
      "[(7.06197446921459, {Param(parent='LinearRegression_39a8b92ca05b', name='maxIter', doc='max number of iterations (>= 0).'): 5}), (7.06197446921459, {Param(parent='LinearRegression_39a8b92ca05b', name='maxIter', doc='max number of iterations (>= 0).'): 10})]\n"
     ]
    }
   ],
   "source": [
    "print(model.stages[-1].getEvaluator().getMetricName())\n",
    "print(list(zip(model.stages[-1].validationMetrics, model.stages[-1].getEstimatorParamMaps())))\n"
   ]
  },
  {
   "cell_type": "markdown",
   "metadata": {},
   "source": [
    "### Ex.2 Check if a different regression model (DecisionTreeRegressor) will have a better result"
   ]
  },
  {
   "cell_type": "code",
   "execution_count": 24,
   "metadata": {},
   "outputs": [],
   "source": [
    "from pyspark.ml.regression import DecisionTreeRegressor\n",
    "\n",
    "dt = DecisionTreeRegressor(labelCol=label_col)\n",
    "\n",
    "dt_grid = ParamGridBuilder().addGrid(dt.maxDepth, [5, 10, 15]).build()\n",
    "dt_tvs = TrainValidationSplit(estimator=dt, \n",
    "                           estimatorParamMaps=dt_grid, \n",
    "                           evaluator=RegressionEvaluator().setLabelCol(label_col).setMetricName(\"rmse\"), \n",
    "                           trainRatio=0.8)\n",
    "\n",
    "dt_pipeline = Pipeline(stages=[vectorAssemblerTransformer, dt_tvs])\n",
    "dt_model = dt_pipeline.fit(df_month)\n",
    "best_model = dt_model.stages[-1].bestModel\n",
    "\n"
   ]
  },
  {
   "cell_type": "code",
   "execution_count": 25,
   "metadata": {},
   "outputs": [
    {
     "name": "stdout",
     "output_type": "stream",
     "text": [
      "[(6.076256341852658, {Param(parent='DecisionTreeRegressor_881207cc875e', name='maxDepth', doc='Maximum depth of the tree. (>= 0) E.g., depth 0 means 1 leaf node; depth 1 means 1 internal node + 2 leaf nodes.'): 5}), (6.75724424751899, {Param(parent='DecisionTreeRegressor_881207cc875e', name='maxDepth', doc='Maximum depth of the tree. (>= 0) E.g., depth 0 means 1 leaf node; depth 1 means 1 internal node + 2 leaf nodes.'): 10}), (6.685177928653709, {Param(parent='DecisionTreeRegressor_881207cc875e', name='maxDepth', doc='Maximum depth of the tree. (>= 0) E.g., depth 0 means 1 leaf node; depth 1 means 1 internal node + 2 leaf nodes.'): 15})]\n"
     ]
    }
   ],
   "source": [
    "dt_model.stages[-1].getEvaluator().getMetricName()\n",
    "print(list(zip(dt_model.stages[-1].validationMetrics, dt_model.stages[-1].getEstimatorParamMaps())))"
   ]
  },
  {
   "cell_type": "markdown",
   "metadata": {},
   "source": [
    "We can check feature importances"
   ]
  },
  {
   "cell_type": "code",
   "execution_count": 26,
   "metadata": {},
   "outputs": [
    {
     "name": "stdout",
     "output_type": "stream",
     "text": [
      "[('Solare Radiation AVG', 0.6081535946365453), ('Relative Humidity AVG', 0.15669484472940645), ('Wind Speed Daily AVG', 0.09698167794482615), ('Battery Voltage AVG', 0.08654048719065467), ('Wind Direction AVG', 0.027955389744970888), ('month', 0.023674005753596593)]\n"
     ]
    }
   ],
   "source": [
    "print(sorted(list(zip(cols,list(best_model.featureImportances))),key=lambda x: -x[1]))\n"
   ]
  },
  {
   "cell_type": "markdown",
   "metadata": {},
   "source": [
    "We can also use cross validation"
   ]
  },
  {
   "cell_type": "code",
   "execution_count": 27,
   "metadata": {},
   "outputs": [],
   "source": [
    "from pyspark.ml.tuning import CrossValidator\n",
    "\n",
    "dt_cv = CrossValidator(estimator=dt, \n",
    "                           estimatorParamMaps=dt_grid, \n",
    "                           evaluator=RegressionEvaluator().setLabelCol(label_col).setMetricName(\"rmse\"), \n",
    "                           numFolds=4)\n",
    "\n",
    "dt_cv_pipeline = Pipeline(stages=[vectorAssemblerTransformer, dt_cv])\n",
    "dt_cv_model = dt_cv_pipeline.fit(df_month)\n",
    "best_cv_model = dt_model.stages[-1].bestModel\n",
    "\n"
   ]
  },
  {
   "cell_type": "code",
   "execution_count": 28,
   "metadata": {},
   "outputs": [
    {
     "name": "stdout",
     "output_type": "stream",
     "text": [
      "rmse\n",
      "[(6.638640652746212, {Param(parent='DecisionTreeRegressor_881207cc875e', name='maxDepth', doc='Maximum depth of the tree. (>= 0) E.g., depth 0 means 1 leaf node; depth 1 means 1 internal node + 2 leaf nodes.'): 5}), (7.043312343516404, {Param(parent='DecisionTreeRegressor_881207cc875e', name='maxDepth', doc='Maximum depth of the tree. (>= 0) E.g., depth 0 means 1 leaf node; depth 1 means 1 internal node + 2 leaf nodes.'): 10}), (7.19828120973758, {Param(parent='DecisionTreeRegressor_881207cc875e', name='maxDepth', doc='Maximum depth of the tree. (>= 0) E.g., depth 0 means 1 leaf node; depth 1 means 1 internal node + 2 leaf nodes.'): 15})]\n",
      "[('Solare Radiation AVG', 0.6081535946365453), ('Relative Humidity AVG', 0.15669484472940645), ('Wind Speed Daily AVG', 0.09698167794482615), ('Battery Voltage AVG', 0.08654048719065467), ('Wind Direction AVG', 0.027955389744970888), ('month', 0.023674005753596593)]\n"
     ]
    }
   ],
   "source": [
    "print(dt_cv_model.stages[-1].getEvaluator().getMetricName())\n",
    "print(list(zip(dt_cv_model.stages[-1].avgMetrics, dt_cv_model.stages[-1].getEstimatorParamMaps())))\n",
    "print(sorted(list(zip(cols,list(best_cv_model.featureImportances))),key=lambda x: -x[1]))"
   ]
  },
  {
   "cell_type": "markdown",
   "metadata": {},
   "source": [
    "When using cross validation the rmse is a bit higher - hopefully it is not overfitting as much"
   ]
  },
  {
   "cell_type": "markdown",
   "metadata": {},
   "source": [
    "### Ex 3. Train the best model to predict probability of successfuly reaching summit of Mt. Rainer.\n",
    "Use `climbing_statistics.csv` file. It may be tricky to join these two datasets. For categorical variable (`Route`) use some encoding (for example OneHotEncoder). Think about what kind of model do you need - is regression the best option here? What problems can it cause? Hint: Check LogisticRegression"
   ]
  },
  {
   "cell_type": "code",
   "execution_count": null,
   "metadata": {},
   "outputs": [],
   "source": []
  }
 ],
 "metadata": {
  "kernelspec": {
   "display_name": "Python 3",
   "language": "python",
   "name": "python3"
  },
  "language_info": {
   "codemirror_mode": {
    "name": "ipython",
    "version": 3
   },
   "file_extension": ".py",
   "mimetype": "text/x-python",
   "name": "python",
   "nbconvert_exporter": "python",
   "pygments_lexer": "ipython3",
   "version": "3.7.4"
  }
 },
 "nbformat": 4,
 "nbformat_minor": 2
}
