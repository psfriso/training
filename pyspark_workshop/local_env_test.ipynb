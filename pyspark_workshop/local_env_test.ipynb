{
 "cells": [
  {
   "cell_type": "code",
   "execution_count": 1,
   "metadata": {},
   "outputs": [
    {
     "name": "stdout",
     "output_type": "stream",
     "text": [
      "+---------+\n",
      "|     data|\n",
      "+---------+\n",
      "|[1, 2, 3]|\n",
      "|       []|\n",
      "+---------+\n",
      "\n"
     ]
    }
   ],
   "source": [
    "from pyspark.sql import SparkSession\n",
    "import os, sys, pyspark\n",
    "\n",
    "os.environ['PYSPARK_PYTHON'] = sys.executable\n",
    "spark_home = os.path.dirname(pyspark.__file__)\n",
    "os.makedirs(spark_home + \"\\\\RELEASE\", exist_ok=True)\n",
    "spark =  SparkSession.builder.appName(\"DataMashup 2018 pySpark workshop\")\\\n",
    "    .config(\"spark.master\", \"local[*]\")\\\n",
    "    .config(\"spark.home\", spark_home)\\\n",
    "    .config(\"spark.pyspark.python\", sys.executable).getOrCreate()\n",
    "df = spark.createDataFrame([([1, 2, 3],),([],)], ['data'])\n",
    "df.show()"
   ]
  }
 ],
 "metadata": {
  "kernelspec": {
   "display_name": "Python 3",
   "language": "python",
   "name": "python3"
  },
  "language_info": {
   "codemirror_mode": {
    "name": "ipython",
    "version": 3
   },
   "file_extension": ".py",
   "mimetype": "text/x-python",
   "name": "python",
   "nbconvert_exporter": "python",
   "pygments_lexer": "ipython3",
   "version": "3.7.4"
  }
 },
 "nbformat": 4,
 "nbformat_minor": 2
}
