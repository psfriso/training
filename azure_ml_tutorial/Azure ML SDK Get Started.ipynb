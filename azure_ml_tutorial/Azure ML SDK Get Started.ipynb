{
 "cells": [
  {
   "cell_type": "code",
   "execution_count": 1,
   "metadata": {},
   "outputs": [],
   "source": [
    "import azureml.core"
   ]
  },
  {
   "cell_type": "code",
   "execution_count": 2,
   "metadata": {},
   "outputs": [
    {
     "name": "stdout",
     "output_type": "stream",
     "text": [
      "1.0.43\n"
     ]
    }
   ],
   "source": [
    "print(azureml.core.VERSION)"
   ]
  },
  {
   "cell_type": "code",
   "execution_count": 17,
   "metadata": {},
   "outputs": [],
   "source": [
    "from azureml.core import Workspace\n",
    "from azureml.core import Experiment"
   ]
  },
  {
   "cell_type": "code",
   "execution_count": 24,
   "metadata": {},
   "outputs": [
    {
     "name": "stdout",
     "output_type": "stream",
     "text": [
      "Deploying KeyVault with name azuremlekeyvaulte7eada73.\n",
      "Deploying StorageAccount with name azuremlestorage9451e43f9.\n",
      "Deploying AppInsights with name azuremleinsightsf97110c2.\n",
      "Deployed AppInsights with name azuremleinsightsf97110c2. Took  seconds.\n",
      "Deployed KeyVault with name azuremlekeyvaulte7eada73. Took  seconds.\n",
      "Deploying Workspace with name azure-ml-experiments.\n",
      "Deployed StorageAccount with name azuremlestorage9451e43f9. Took  seconds.\n",
      "Deployed Workspace with name azure-ml-experiments. Took  seconds.\n",
      "Deploying Compute Target with name cpu-cluster\n",
      "Deploying Compute Target with name gpu-cluster\n",
      "Deployed Compute Target with name cpu-cluster. Took 57.17 seconds\n",
      "Deployed Compute Target with name gpu-cluster. Took 57.39 seconds\n"
     ]
    }
   ],
   "source": [
    "ws = Workspace.create(name = 'azure-ml-experiments',\n",
    "                      subscription_id = '79ec9c01-599f-4707-82f9-31b2d938f2e5',\n",
    "                      resource_group = 'pedro-test',\n",
    "                      create_resource_group = False,\n",
    "                      location = 'northeurope'\n",
    "                     )"
   ]
  },
  {
   "cell_type": "code",
   "execution_count": 25,
   "metadata": {},
   "outputs": [
    {
     "data": {
      "text/plain": [
       "{'id': '/subscriptions/79ec9c01-599f-4707-82f9-31b2d938f2e5/resourceGroups/pedro-test/providers/Microsoft.MachineLearningServices/workspaces/azure-ml-experiments',\n",
       " 'name': 'azure-ml-experiments',\n",
       " 'location': 'northeurope',\n",
       " 'type': 'Microsoft.MachineLearningServices/workspaces',\n",
       " 'tags': {'sub_type': 'dev_test', 'team_number': '160'},\n",
       " 'workspaceid': '71e38e68-7b34-4a4e-97c2-09d047576363',\n",
       " 'description': '',\n",
       " 'friendlyName': 'azure-ml-experiments',\n",
       " 'creationTime': '2019-06-24T15:52:26.1565359+00:00',\n",
       " 'keyVault': '/subscriptions/79ec9c01-599f-4707-82f9-31b2d938f2e5/resourcegroups/pedro-test/providers/microsoft.keyvault/vaults/azuremlekeyvaulte7eada73',\n",
       " 'applicationInsights': '/subscriptions/79ec9c01-599f-4707-82f9-31b2d938f2e5/resourcegroups/pedro-test/providers/microsoft.insights/components/azuremleinsightsf97110c2',\n",
       " 'identityPrincipalId': '06941ca1-bbfc-4be8-a270-8156003614f7',\n",
       " 'identityTenantId': 'f55b1f7d-7a7f-49e4-9b90-55218aad89f8',\n",
       " 'identityType': 'SystemAssigned',\n",
       " 'storageAccount': '/subscriptions/79ec9c01-599f-4707-82f9-31b2d938f2e5/resourcegroups/pedro-test/providers/microsoft.storage/storageaccounts/azuremlestorage9451e43f9'}"
      ]
     },
     "execution_count": 25,
     "metadata": {},
     "output_type": "execute_result"
    }
   ],
   "source": [
    "ws.get_details()"
   ]
  },
  {
   "cell_type": "code",
   "execution_count": 26,
   "metadata": {},
   "outputs": [],
   "source": [
    "ws.write_config()"
   ]
  },
  {
   "cell_type": "code",
   "execution_count": 27,
   "metadata": {},
   "outputs": [
    {
     "name": "stdout",
     "output_type": "stream",
     "text": [
      "{\"Id\": null, \"Scope\": \"/subscriptions/79ec9c01-599f-4707-82f9-31b2d938f2e5/resourceGroups/pedro-test/providers/Microsoft.MachineLearningServices/workspaces/azure-ml-experiments\"}"
     ]
    }
   ],
   "source": [
    "!cat .azureml/config.json"
   ]
  },
  {
   "cell_type": "code",
   "execution_count": 16,
   "metadata": {},
   "outputs": [],
   "source": [
    "# _ = Workspace.from_config() # functiona"
   ]
  },
  {
   "cell_type": "markdown",
   "metadata": {},
   "source": [
    "### Creating an experiment"
   ]
  },
  {
   "cell_type": "code",
   "execution_count": 28,
   "metadata": {},
   "outputs": [],
   "source": [
    "exp = Experiment(workspace=ws, name='test1')"
   ]
  },
  {
   "cell_type": "code",
   "execution_count": 29,
   "metadata": {},
   "outputs": [],
   "source": [
    "run = exp.start_logging()"
   ]
  },
  {
   "cell_type": "code",
   "execution_count": 30,
   "metadata": {},
   "outputs": [],
   "source": [
    "run.log(\"Una cosa \", -1)"
   ]
  },
  {
   "cell_type": "code",
   "execution_count": 31,
   "metadata": {},
   "outputs": [],
   "source": [
    "run.complete()"
   ]
  },
  {
   "cell_type": "code",
   "execution_count": 32,
   "metadata": {},
   "outputs": [
    {
     "data": {
      "text/html": [
       "<table style=\"width:100%\"><tr><th>Experiment</th><th>Id</th><th>Type</th><th>Status</th><th>Details Page</th><th>Docs Page</th></tr><tr><td>test1</td><td>59be0ee6-ff1f-415d-852e-8117e879468b</td><td></td><td>Running</td><td><a href=\"https://mlworkspace.azure.ai/portal/subscriptions/79ec9c01-599f-4707-82f9-31b2d938f2e5/resourceGroups/pedro-test/providers/Microsoft.MachineLearningServices/workspaces/azure-ml-experiments/experiments/test1/runs/59be0ee6-ff1f-415d-852e-8117e879468b\" target=\"_blank\" rel=\"noopener\">Link to Azure Portal</a></td><td><a href=\"https://docs.microsoft.com/en-us/python/api/azureml-core/azureml.core.run.Run?view=azure-ml-py\" target=\"_blank\" rel=\"noopener\">Link to Documentation</a></td></tr></table>"
      ],
      "text/plain": [
       "Run(Experiment: test1,\n",
       "Id: 59be0ee6-ff1f-415d-852e-8117e879468b,\n",
       "Type: None,\n",
       "Status: Running)"
      ]
     },
     "execution_count": 32,
     "metadata": {},
     "output_type": "execute_result"
    }
   ],
   "source": [
    "run"
   ]
  },
  {
   "cell_type": "code",
   "execution_count": null,
   "metadata": {},
   "outputs": [],
   "source": [
    "# ws.delete(delete_dependent_resources=True)"
   ]
  }
 ],
 "metadata": {
  "kernelspec": {
   "display_name": "Python 3",
   "language": "python",
   "name": "python3"
  },
  "language_info": {
   "codemirror_mode": {
    "name": "ipython",
    "version": 3
   },
   "file_extension": ".py",
   "mimetype": "text/x-python",
   "name": "python",
   "nbconvert_exporter": "python",
   "pygments_lexer": "ipython3",
   "version": "3.6.8"
  }
 },
 "nbformat": 4,
 "nbformat_minor": 2
}
