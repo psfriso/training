{
 "cells": [
  {
   "cell_type": "code",
   "execution_count": 41,
   "metadata": {},
   "outputs": [],
   "source": [
    "import pandas as pd\n",
    "pd.set_option('display.max_columns', 100)"
   ]
  },
  {
   "cell_type": "code",
   "execution_count": 42,
   "metadata": {},
   "outputs": [
    {
     "name": "stderr",
     "output_type": "stream",
     "text": [
      "/Users/raoul/anaconda3/lib/python3.6/site-packages/IPython/core/interactiveshell.py:2698: DtypeWarning: Columns (21,22,23,24) have mixed types. Specify dtype option on import or set low_memory=False.\n",
      "  interactivity=interactivity, compiler=compiler, result=result)\n"
     ]
    }
   ],
   "source": [
    "PATH = \"../data/train.zip\"\n",
    "df = pd.read_csv(PATH)"
   ]
  },
  {
   "cell_type": "code",
   "execution_count": 43,
   "metadata": {
    "scrolled": true
   },
   "outputs": [
    {
     "data": {
      "text/html": [
       "<div>\n",
       "<style scoped>\n",
       "    .dataframe tbody tr th:only-of-type {\n",
       "        vertical-align: middle;\n",
       "    }\n",
       "\n",
       "    .dataframe tbody tr th {\n",
       "        vertical-align: top;\n",
       "    }\n",
       "\n",
       "    .dataframe thead th {\n",
       "        text-align: right;\n",
       "    }\n",
       "</style>\n",
       "<table border=\"1\" class=\"dataframe\">\n",
       "  <thead>\n",
       "    <tr style=\"text-align: right;\">\n",
       "      <th></th>\n",
       "      <th>id</th>\n",
       "      <th>photo</th>\n",
       "      <th>name</th>\n",
       "      <th>blurb</th>\n",
       "      <th>goal</th>\n",
       "      <th>slug</th>\n",
       "      <th>disable_communication</th>\n",
       "      <th>country</th>\n",
       "      <th>currency</th>\n",
       "      <th>currency_symbol</th>\n",
       "      <th>currency_trailing_code</th>\n",
       "      <th>deadline</th>\n",
       "      <th>created_at</th>\n",
       "      <th>launched_at</th>\n",
       "      <th>static_usd_rate</th>\n",
       "      <th>creator</th>\n",
       "      <th>location</th>\n",
       "      <th>category</th>\n",
       "      <th>profile</th>\n",
       "      <th>urls</th>\n",
       "      <th>source_url</th>\n",
       "      <th>friends</th>\n",
       "      <th>is_starred</th>\n",
       "      <th>is_backing</th>\n",
       "      <th>permissions</th>\n",
       "      <th>state</th>\n",
       "    </tr>\n",
       "  </thead>\n",
       "  <tbody>\n",
       "    <tr>\n",
       "      <th>0</th>\n",
       "      <td>663816109</td>\n",
       "      <td>{\"small\":\"https://ksr-ugc.imgix.net/assets/012...</td>\n",
       "      <td>Angular - Where Modern Art meets Cards</td>\n",
       "      <td>Angular is a minimalist card design for simpli...</td>\n",
       "      <td>17380.0</td>\n",
       "      <td>angular-where-modern-art-meets-cards</td>\n",
       "      <td>False</td>\n",
       "      <td>US</td>\n",
       "      <td>USD</td>\n",
       "      <td>$</td>\n",
       "      <td>True</td>\n",
       "      <td>1459283229</td>\n",
       "      <td>1455845363</td>\n",
       "      <td>1456694829</td>\n",
       "      <td>1.000000</td>\n",
       "      <td>{\"urls\":{\"web\":{\"user\":\"https://www.kickstarte...</td>\n",
       "      <td>{\"country\":\"US\",\"urls\":{\"web\":{\"discover\":\"htt...</td>\n",
       "      <td>{\"urls\":{\"web\":{\"discover\":\"http://www.kicksta...</td>\n",
       "      <td>{\"background_image_opacity\":0.8,\"should_show_f...</td>\n",
       "      <td>{\"web\":{\"project\":\"https://www.kickstarter.com...</td>\n",
       "      <td>https://www.kickstarter.com/discover/categorie...</td>\n",
       "      <td>NaN</td>\n",
       "      <td>NaN</td>\n",
       "      <td>NaN</td>\n",
       "      <td>NaN</td>\n",
       "      <td>failed</td>\n",
       "    </tr>\n",
       "    <tr>\n",
       "      <th>1</th>\n",
       "      <td>1462931821</td>\n",
       "      <td>{\"small\":\"https://ksr-ugc.imgix.net/assets/014...</td>\n",
       "      <td>Ladybeard is KAWAII-CORE</td>\n",
       "      <td>Original songs and music videos to jump start ...</td>\n",
       "      <td>24000.0</td>\n",
       "      <td>ladybeard-is-kawaii-core</td>\n",
       "      <td>False</td>\n",
       "      <td>US</td>\n",
       "      <td>USD</td>\n",
       "      <td>$</td>\n",
       "      <td>True</td>\n",
       "      <td>1484110800</td>\n",
       "      <td>1475568868</td>\n",
       "      <td>1480946454</td>\n",
       "      <td>1.000000</td>\n",
       "      <td>{\"urls\":{\"web\":{\"user\":\"https://www.kickstarte...</td>\n",
       "      <td>{\"country\":\"JP\",\"urls\":{\"web\":{\"discover\":\"htt...</td>\n",
       "      <td>{\"urls\":{\"web\":{\"discover\":\"http://www.kicksta...</td>\n",
       "      <td>{\"background_image_opacity\":0.8,\"should_show_f...</td>\n",
       "      <td>{\"web\":{\"project\":\"https://www.kickstarter.com...</td>\n",
       "      <td>https://www.kickstarter.com/discover/categorie...</td>\n",
       "      <td>NaN</td>\n",
       "      <td>NaN</td>\n",
       "      <td>NaN</td>\n",
       "      <td>NaN</td>\n",
       "      <td>failed</td>\n",
       "    </tr>\n",
       "    <tr>\n",
       "      <th>2</th>\n",
       "      <td>1724358498</td>\n",
       "      <td>{\"small\":\"https://ksr-ugc.imgix.net/assets/011...</td>\n",
       "      <td>Vegan Cafe Delivery Service in Vancouver BC</td>\n",
       "      <td>Our project is to launch a vegan lunch deliver...</td>\n",
       "      <td>40000.0</td>\n",
       "      <td>vegancafeca</td>\n",
       "      <td>False</td>\n",
       "      <td>CA</td>\n",
       "      <td>CAD</td>\n",
       "      <td>$</td>\n",
       "      <td>True</td>\n",
       "      <td>1408549628</td>\n",
       "      <td>1405218883</td>\n",
       "      <td>1405957628</td>\n",
       "      <td>0.926746</td>\n",
       "      <td>{\"urls\":{\"web\":{\"user\":\"https://www.kickstarte...</td>\n",
       "      <td>{\"country\":\"CA\",\"urls\":{\"web\":{\"discover\":\"htt...</td>\n",
       "      <td>{\"urls\":{\"web\":{\"discover\":\"http://www.kicksta...</td>\n",
       "      <td>{\"background_image_opacity\":0.8,\"should_show_f...</td>\n",
       "      <td>{\"web\":{\"project\":\"https://www.kickstarter.com...</td>\n",
       "      <td>https://www.kickstarter.com/discover/categorie...</td>\n",
       "      <td>NaN</td>\n",
       "      <td>NaN</td>\n",
       "      <td>NaN</td>\n",
       "      <td>NaN</td>\n",
       "      <td>failed</td>\n",
       "    </tr>\n",
       "    <tr>\n",
       "      <th>3</th>\n",
       "      <td>314918941</td>\n",
       "      <td>{\"small\":\"https://ksr-ugc.imgix.net/assets/011...</td>\n",
       "      <td>Photoetched Rail Yard Exposition</td>\n",
       "      <td>I have developed a process of my own which tra...</td>\n",
       "      <td>1000.0</td>\n",
       "      <td>photoetched-rail-yard-exposition</td>\n",
       "      <td>False</td>\n",
       "      <td>US</td>\n",
       "      <td>USD</td>\n",
       "      <td>$</td>\n",
       "      <td>True</td>\n",
       "      <td>1364084914</td>\n",
       "      <td>1360627778</td>\n",
       "      <td>1361496514</td>\n",
       "      <td>1.000000</td>\n",
       "      <td>{\"urls\":{\"web\":{\"user\":\"https://www.kickstarte...</td>\n",
       "      <td>{\"country\":\"US\",\"urls\":{\"web\":{\"discover\":\"htt...</td>\n",
       "      <td>{\"urls\":{\"web\":{\"discover\":\"http://www.kicksta...</td>\n",
       "      <td>{\"background_image_opacity\":0.8,\"should_show_f...</td>\n",
       "      <td>{\"web\":{\"project\":\"https://www.kickstarter.com...</td>\n",
       "      <td>https://www.kickstarter.com/discover/categorie...</td>\n",
       "      <td>NaN</td>\n",
       "      <td>NaN</td>\n",
       "      <td>NaN</td>\n",
       "      <td>NaN</td>\n",
       "      <td>successful</td>\n",
       "    </tr>\n",
       "    <tr>\n",
       "      <th>4</th>\n",
       "      <td>1766165140</td>\n",
       "      <td>{\"small\":\"https://ksr-ugc.imgix.net/assets/011...</td>\n",
       "      <td>Cinnamon Fletcher needs to be brought to life!</td>\n",
       "      <td>Need to pay an illustrator to bring my childre...</td>\n",
       "      <td>700.0</td>\n",
       "      <td>cinnamon-fletcher-needs-to-be-brought-to-life</td>\n",
       "      <td>False</td>\n",
       "      <td>GB</td>\n",
       "      <td>GBP</td>\n",
       "      <td>Â£</td>\n",
       "      <td>False</td>\n",
       "      <td>1382600001</td>\n",
       "      <td>1379704502</td>\n",
       "      <td>1380008001</td>\n",
       "      <td>1.602384</td>\n",
       "      <td>{\"urls\":{\"web\":{\"user\":\"https://www.kickstarte...</td>\n",
       "      <td>{\"country\":\"GB\",\"urls\":{\"web\":{\"discover\":\"htt...</td>\n",
       "      <td>{\"urls\":{\"web\":{\"discover\":\"http://www.kicksta...</td>\n",
       "      <td>{\"background_image_opacity\":0.8,\"should_show_f...</td>\n",
       "      <td>{\"web\":{\"project\":\"https://www.kickstarter.com...</td>\n",
       "      <td>https://www.kickstarter.com/discover/categorie...</td>\n",
       "      <td>NaN</td>\n",
       "      <td>NaN</td>\n",
       "      <td>NaN</td>\n",
       "      <td>NaN</td>\n",
       "      <td>failed</td>\n",
       "    </tr>\n",
       "  </tbody>\n",
       "</table>\n",
       "</div>"
      ],
      "text/plain": [
       "           id                                              photo  \\\n",
       "0   663816109  {\"small\":\"https://ksr-ugc.imgix.net/assets/012...   \n",
       "1  1462931821  {\"small\":\"https://ksr-ugc.imgix.net/assets/014...   \n",
       "2  1724358498  {\"small\":\"https://ksr-ugc.imgix.net/assets/011...   \n",
       "3   314918941  {\"small\":\"https://ksr-ugc.imgix.net/assets/011...   \n",
       "4  1766165140  {\"small\":\"https://ksr-ugc.imgix.net/assets/011...   \n",
       "\n",
       "                                             name  \\\n",
       "0          Angular - Where Modern Art meets Cards   \n",
       "1                        Ladybeard is KAWAII-CORE   \n",
       "2     Vegan Cafe Delivery Service in Vancouver BC   \n",
       "3                Photoetched Rail Yard Exposition   \n",
       "4  Cinnamon Fletcher needs to be brought to life!   \n",
       "\n",
       "                                               blurb     goal  \\\n",
       "0  Angular is a minimalist card design for simpli...  17380.0   \n",
       "1  Original songs and music videos to jump start ...  24000.0   \n",
       "2  Our project is to launch a vegan lunch deliver...  40000.0   \n",
       "3  I have developed a process of my own which tra...   1000.0   \n",
       "4  Need to pay an illustrator to bring my childre...    700.0   \n",
       "\n",
       "                                            slug  disable_communication  \\\n",
       "0           angular-where-modern-art-meets-cards                  False   \n",
       "1                       ladybeard-is-kawaii-core                  False   \n",
       "2                                    vegancafeca                  False   \n",
       "3               photoetched-rail-yard-exposition                  False   \n",
       "4  cinnamon-fletcher-needs-to-be-brought-to-life                  False   \n",
       "\n",
       "  country currency currency_symbol  currency_trailing_code    deadline  \\\n",
       "0      US      USD               $                    True  1459283229   \n",
       "1      US      USD               $                    True  1484110800   \n",
       "2      CA      CAD               $                    True  1408549628   \n",
       "3      US      USD               $                    True  1364084914   \n",
       "4      GB      GBP              Â£                   False  1382600001   \n",
       "\n",
       "   created_at  launched_at  static_usd_rate  \\\n",
       "0  1455845363   1456694829         1.000000   \n",
       "1  1475568868   1480946454         1.000000   \n",
       "2  1405218883   1405957628         0.926746   \n",
       "3  1360627778   1361496514         1.000000   \n",
       "4  1379704502   1380008001         1.602384   \n",
       "\n",
       "                                             creator  \\\n",
       "0  {\"urls\":{\"web\":{\"user\":\"https://www.kickstarte...   \n",
       "1  {\"urls\":{\"web\":{\"user\":\"https://www.kickstarte...   \n",
       "2  {\"urls\":{\"web\":{\"user\":\"https://www.kickstarte...   \n",
       "3  {\"urls\":{\"web\":{\"user\":\"https://www.kickstarte...   \n",
       "4  {\"urls\":{\"web\":{\"user\":\"https://www.kickstarte...   \n",
       "\n",
       "                                            location  \\\n",
       "0  {\"country\":\"US\",\"urls\":{\"web\":{\"discover\":\"htt...   \n",
       "1  {\"country\":\"JP\",\"urls\":{\"web\":{\"discover\":\"htt...   \n",
       "2  {\"country\":\"CA\",\"urls\":{\"web\":{\"discover\":\"htt...   \n",
       "3  {\"country\":\"US\",\"urls\":{\"web\":{\"discover\":\"htt...   \n",
       "4  {\"country\":\"GB\",\"urls\":{\"web\":{\"discover\":\"htt...   \n",
       "\n",
       "                                            category  \\\n",
       "0  {\"urls\":{\"web\":{\"discover\":\"http://www.kicksta...   \n",
       "1  {\"urls\":{\"web\":{\"discover\":\"http://www.kicksta...   \n",
       "2  {\"urls\":{\"web\":{\"discover\":\"http://www.kicksta...   \n",
       "3  {\"urls\":{\"web\":{\"discover\":\"http://www.kicksta...   \n",
       "4  {\"urls\":{\"web\":{\"discover\":\"http://www.kicksta...   \n",
       "\n",
       "                                             profile  \\\n",
       "0  {\"background_image_opacity\":0.8,\"should_show_f...   \n",
       "1  {\"background_image_opacity\":0.8,\"should_show_f...   \n",
       "2  {\"background_image_opacity\":0.8,\"should_show_f...   \n",
       "3  {\"background_image_opacity\":0.8,\"should_show_f...   \n",
       "4  {\"background_image_opacity\":0.8,\"should_show_f...   \n",
       "\n",
       "                                                urls  \\\n",
       "0  {\"web\":{\"project\":\"https://www.kickstarter.com...   \n",
       "1  {\"web\":{\"project\":\"https://www.kickstarter.com...   \n",
       "2  {\"web\":{\"project\":\"https://www.kickstarter.com...   \n",
       "3  {\"web\":{\"project\":\"https://www.kickstarter.com...   \n",
       "4  {\"web\":{\"project\":\"https://www.kickstarter.com...   \n",
       "\n",
       "                                          source_url friends is_starred  \\\n",
       "0  https://www.kickstarter.com/discover/categorie...     NaN        NaN   \n",
       "1  https://www.kickstarter.com/discover/categorie...     NaN        NaN   \n",
       "2  https://www.kickstarter.com/discover/categorie...     NaN        NaN   \n",
       "3  https://www.kickstarter.com/discover/categorie...     NaN        NaN   \n",
       "4  https://www.kickstarter.com/discover/categorie...     NaN        NaN   \n",
       "\n",
       "  is_backing permissions       state  \n",
       "0        NaN         NaN      failed  \n",
       "1        NaN         NaN      failed  \n",
       "2        NaN         NaN      failed  \n",
       "3        NaN         NaN  successful  \n",
       "4        NaN         NaN      failed  "
      ]
     },
     "execution_count": 43,
     "metadata": {},
     "output_type": "execute_result"
    }
   ],
   "source": [
    "df.head()"
   ]
  },
  {
   "cell_type": "markdown",
   "metadata": {},
   "source": [
    "# Pytruth: friendlier assertions"
   ]
  },
  {
   "cell_type": "code",
   "execution_count": 44,
   "metadata": {},
   "outputs": [],
   "source": [
    "from truth.truth import AssertThat"
   ]
  },
  {
   "cell_type": "code",
   "execution_count": 45,
   "metadata": {},
   "outputs": [],
   "source": [
    "data = df.iloc[1]"
   ]
  },
  {
   "cell_type": "code",
   "execution_count": 46,
   "metadata": {},
   "outputs": [
    {
     "data": {
      "text/plain": [
       "id                                                               1462931821\n",
       "photo                     {\"small\":\"https://ksr-ugc.imgix.net/assets/014...\n",
       "name                                               Ladybeard is KAWAII-CORE\n",
       "blurb                     Original songs and music videos to jump start ...\n",
       "goal                                                                  24000\n",
       "slug                                               ladybeard-is-kawaii-core\n",
       "disable_communication                                                 False\n",
       "country                                                                  US\n",
       "currency                                                                USD\n",
       "currency_symbol                                                           $\n",
       "currency_trailing_code                                                 True\n",
       "deadline                                                         1484110800\n",
       "created_at                                                       1475568868\n",
       "launched_at                                                      1480946454\n",
       "static_usd_rate                                                           1\n",
       "creator                   {\"urls\":{\"web\":{\"user\":\"https://www.kickstarte...\n",
       "location                  {\"country\":\"JP\",\"urls\":{\"web\":{\"discover\":\"htt...\n",
       "category                  {\"urls\":{\"web\":{\"discover\":\"http://www.kicksta...\n",
       "profile                   {\"background_image_opacity\":0.8,\"should_show_f...\n",
       "urls                      {\"web\":{\"project\":\"https://www.kickstarter.com...\n",
       "source_url                https://www.kickstarter.com/discover/categorie...\n",
       "friends                                                                 NaN\n",
       "is_starred                                                              NaN\n",
       "is_backing                                                              NaN\n",
       "permissions                                                             NaN\n",
       "state                                                                failed\n",
       "Name: 1, dtype: object"
      ]
     },
     "execution_count": 46,
     "metadata": {},
     "output_type": "execute_result"
    }
   ],
   "source": [
    "data"
   ]
  },
  {
   "cell_type": "code",
   "execution_count": 48,
   "metadata": {},
   "outputs": [],
   "source": [
    "AssertThat(data[\"deadline\"]).IsNonZero()"
   ]
  },
  {
   "cell_type": "code",
   "execution_count": 56,
   "metadata": {
    "scrolled": true
   },
   "outputs": [],
   "source": [
    "AssertThat(data[\"blurb\"]).Contains(\"songs\")"
   ]
  },
  {
   "cell_type": "code",
   "execution_count": null,
   "metadata": {},
   "outputs": [],
   "source": []
  },
  {
   "cell_type": "code",
   "execution_count": null,
   "metadata": {},
   "outputs": [],
   "source": []
  },
  {
   "cell_type": "markdown",
   "metadata": {},
   "source": [
    "# Hypothesis"
   ]
  },
  {
   "cell_type": "code",
   "execution_count": 57,
   "metadata": {},
   "outputs": [],
   "source": [
    "from hypothesis.strategies import text, lists"
   ]
  },
  {
   "cell_type": "code",
   "execution_count": 75,
   "metadata": {},
   "outputs": [
    {
     "name": "stdout",
     "output_type": "stream",
     "text": [
      "[]\n",
      "[]\n",
      "[]\n",
      "[]\n",
      "[]\n",
      "[]\n",
      "['\\x1c', '', '']\n",
      "['\\x14']\n",
      "[]\n",
      "[]\n"
     ]
    }
   ],
   "source": [
    "for i in range(0, 10):\n",
    "    print(lists(text()).example())"
   ]
  },
  {
   "cell_type": "code",
   "execution_count": 59,
   "metadata": {},
   "outputs": [],
   "source": [
    "from hypothesis.extra.pandas import column, data_frames"
   ]
  },
  {
   "cell_type": "code",
   "execution_count": 68,
   "metadata": {},
   "outputs": [
    {
     "data": {
      "text/html": [
       "<div>\n",
       "<style scoped>\n",
       "    .dataframe tbody tr th:only-of-type {\n",
       "        vertical-align: middle;\n",
       "    }\n",
       "\n",
       "    .dataframe tbody tr th {\n",
       "        vertical-align: top;\n",
       "    }\n",
       "\n",
       "    .dataframe thead th {\n",
       "        text-align: right;\n",
       "    }\n",
       "</style>\n",
       "<table border=\"1\" class=\"dataframe\">\n",
       "  <thead>\n",
       "    <tr style=\"text-align: right;\">\n",
       "      <th></th>\n",
       "      <th>goal</th>\n",
       "      <th>static_usd_rate</th>\n",
       "    </tr>\n",
       "  </thead>\n",
       "  <tbody>\n",
       "    <tr>\n",
       "      <th>0</th>\n",
       "      <td>NaN</td>\n",
       "      <td>inf</td>\n",
       "    </tr>\n",
       "    <tr>\n",
       "      <th>1</th>\n",
       "      <td>NaN</td>\n",
       "      <td>inf</td>\n",
       "    </tr>\n",
       "    <tr>\n",
       "      <th>2</th>\n",
       "      <td>NaN</td>\n",
       "      <td>inf</td>\n",
       "    </tr>\n",
       "    <tr>\n",
       "      <th>3</th>\n",
       "      <td>NaN</td>\n",
       "      <td>inf</td>\n",
       "    </tr>\n",
       "    <tr>\n",
       "      <th>4</th>\n",
       "      <td>NaN</td>\n",
       "      <td>inf</td>\n",
       "    </tr>\n",
       "    <tr>\n",
       "      <th>5</th>\n",
       "      <td>NaN</td>\n",
       "      <td>inf</td>\n",
       "    </tr>\n",
       "    <tr>\n",
       "      <th>6</th>\n",
       "      <td>NaN</td>\n",
       "      <td>inf</td>\n",
       "    </tr>\n",
       "  </tbody>\n",
       "</table>\n",
       "</div>"
      ],
      "text/plain": [
       "   goal  static_usd_rate\n",
       "0   NaN              inf\n",
       "1   NaN              inf\n",
       "2   NaN              inf\n",
       "3   NaN              inf\n",
       "4   NaN              inf\n",
       "5   NaN              inf\n",
       "6   NaN              inf"
      ]
     },
     "execution_count": 68,
     "metadata": {},
     "output_type": "execute_result"
    }
   ],
   "source": [
    "data_frames([column('goal', dtype=float), column('static_usd_rate', dtype=float)]).example()"
   ]
  },
  {
   "cell_type": "code",
   "execution_count": 61,
   "metadata": {},
   "outputs": [],
   "source": [
    "from hypothesis.strategies import fixed_dictionaries, text"
   ]
  },
  {
   "cell_type": "code",
   "execution_count": 74,
   "metadata": {},
   "outputs": [
    {
     "name": "stdout",
     "output_type": "stream",
     "text": [
      "{'slug': '\\U0005d73b&'}\n",
      "{'slug': ''}\n",
      "{'slug': ''}\n",
      "{'slug': ''}\n",
      "{'slug': ''}\n",
      "{'slug': ''}\n",
      "{'slug': \"\\x0e'\\U0006903c\"}\n",
      "{'slug': ''}\n",
      "{'slug': ''}\n",
      "{'slug': '.\\x00'}\n"
     ]
    }
   ],
   "source": [
    "for i in range(0, 10): print(fixed_dictionaries({'slug':text()}).example())"
   ]
  },
  {
   "cell_type": "code",
   "execution_count": 63,
   "metadata": {},
   "outputs": [],
   "source": [
    "from hypothesis.strategies import fixed_dictionaries, from_regex"
   ]
  },
  {
   "cell_type": "code",
   "execution_count": 64,
   "metadata": {},
   "outputs": [
    {
     "data": {
      "text/plain": [
       "'aba\\n'"
      ]
     },
     "execution_count": 64,
     "metadata": {},
     "output_type": "execute_result"
    }
   ],
   "source": [
    "from_regex(\"^[abc]{3}$\").example()"
   ]
  },
  {
   "cell_type": "code",
   "execution_count": 65,
   "metadata": {},
   "outputs": [
    {
     "data": {
      "text/plain": [
       "'{\"data\": \"acc\\\\n\"}'"
      ]
     },
     "execution_count": 65,
     "metadata": {},
     "output_type": "execute_result"
    }
   ],
   "source": [
    "from hypothesis.strategies import fixed_dictionaries, from_regex\n",
    "fixed_dictionaries({'data': from_regex(\"^[abc]{3}$\")}).map(json.dumps).example()"
   ]
  },
  {
   "cell_type": "code",
   "execution_count": null,
   "metadata": {},
   "outputs": [],
   "source": []
  }
 ],
 "metadata": {
  "kernelspec": {
   "display_name": "Python 3",
   "language": "python",
   "name": "python3"
  },
  "language_info": {
   "codemirror_mode": {
    "name": "ipython",
    "version": 3
   },
   "file_extension": ".py",
   "mimetype": "text/x-python",
   "name": "python",
   "nbconvert_exporter": "python",
   "pygments_lexer": "ipython3",
   "version": "3.6.8"
  }
 },
 "nbformat": 4,
 "nbformat_minor": 2
}
